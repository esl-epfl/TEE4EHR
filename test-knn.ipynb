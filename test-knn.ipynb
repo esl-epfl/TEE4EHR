{
 "cells": [
  {
   "cell_type": "code",
   "execution_count": 11,
   "metadata": {},
   "outputs": [],
   "source": [
    "\n",
    "# general\n",
    "import wandb\n",
    "from MulticoreTSNE import MulticoreTSNE as TSNE\n",
    "from tsnecuda import TSNE\n",
    "import re\n",
    "from sklearn import metrics\n",
    "from tqdm import tqdm\n",
    "import Utils\n",
    "import transformer.Constants as Constants\n",
    "import torch.optim as optim\n",
    "import torch.nn as nn\n",
    "import torch\n",
    "import time\n",
    "import argparse\n",
    "import numpy as np\n",
    "import pandas as pd\n",
    "import math\n",
    "# import matplotlib.pyplot as plt\n",
    "import os\n",
    "import shutil\n",
    "import pickle\n",
    "\n",
    "import Main\n",
    "from transformer.Models import TEEDAM, align\n",
    "# plotly\n",
    "import plotly.express as px  # (version 4.7.0 or higher)\n",
    "import plotly.graph_objects as go\n",
    "from plotly.subplots import make_subplots\n",
    "\n",
    "import matplotlib.pyplot as plt\n",
    "\n",
    "# import custom libraries\n",
    "import sys\n",
    "# sys.path.append(\"C:\\\\DATA\\\\Tasks\\\\lib\\\\hk\")\n",
    "# import hk_utils\n",
    "\n",
    "# folder paths\n",
    "ADD_DATA = \"C:\\\\DATA\\\\data\\\\raw\\\\mimic4\\\\lookup\\\\\"\n",
    "ADD_DATA_proc = \"C:/DATA/data/processed/\"\n",
    "\n",
    "\n",
    "PATH_PAPER = \"C:\\\\DATA\\\\Tasks\\\\220704\\\\Alternate-Transactions-Articles-LaTeX-template\\\\images\\\\\"\n",
    "\n",
    "\n",
    "PATH_SYS = \"/mlodata1/hokarami/tedam/\"\n"
   ]
  },
  {
   "cell_type": "code",
   "execution_count": 17,
   "metadata": {},
   "outputs": [],
   "source": [
    "# activate line execution\n",
    "from IPython.core.interactiveshell import InteractiveShell\n",
    "InteractiveShell.ast_node_interactivity = \"all\"\n",
    "\n",
    "# plotly\n",
    "import plotly.express as px  # (version 4.7.0 or higher)\n",
    "import plotly.graph_objects as go\n",
    "from plotly.subplots import make_subplots\n",
    "\n",
    "import numpy as np"
   ]
  },
  {
   "cell_type": "code",
   "execution_count": 2,
   "metadata": {},
   "outputs": [],
   "source": [
    "\n",
    "os.environ['CUDA_LAUNCH_BLOCKING'] = \"1\"\n",
    "\n",
    "# torch.cuda.empty_cache()\n",
    "# torch.cuda.memory_allocated()\n",
    "# torch.cuda.memory_reserved()\n",
    "\n",
    "# from hk_pytorch import save_checkpoint,load_checkpoint\n",
    "# import hk_pytorch\n",
    "\n",
    "\n",
    "# from custom2 import myparser\n",
    "\n",
    "\n",
    "# wandb.login()\n",
    "api = wandb.Api()\n",
    "\n",
    "os.environ[\"WANDB_API_KEY\"] = \"0f780ac8a470afe6cb7fc474ff3794772c660465\""
   ]
  },
  {
   "cell_type": "code",
   "execution_count": 7,
   "metadata": {},
   "outputs": [],
   "source": [
    "\n",
    "def build_df(out, opt, X_tsne=None, TSNE_LIMIT=5000):\n",
    "    if 'y_state_true' in out:\n",
    "\n",
    "        y_state_pred = out['y_state_pred']\n",
    "        y_state_true = out['y_state_true']\n",
    "        y_state_score = out['y_state_score']\n",
    "    else:\n",
    "        y_state_pred = None\n",
    "        y_state_true = None\n",
    "        y_state_score = None\n",
    "\n",
    "    y_pred = out['y_pred']\n",
    "    y_true = out['y_true']\n",
    "    y_score = out['y_score']\n",
    "\n",
    "    df = pd.DataFrame()\n",
    "\n",
    "    if X_tsne is not None:\n",
    "        df['x'] = X_tsne[:, 0]\n",
    "        df['y'] = X_tsne[:, 1]\n",
    "    else:\n",
    "        df['x'] = y_state_true\n",
    "        TSNE_LIMIT = 100000000\n",
    "\n",
    "    # df['x']=X_te_tsne[:,0]\n",
    "    # df['y']=X_te_tsne[:,1]\n",
    "\n",
    "    # df['x']=X_dam_tsne[:,0]\n",
    "    # df['y']=X_dam_tsne[:,1]\n",
    "\n",
    "    df['color'] = 0\n",
    "    df['id'] = np.arange(len(df))\n",
    "\n",
    "    if y_state_true is not None:\n",
    "\n",
    "        TP = (y_state_true[:TSNE_LIMIT]*y_state_pred[:TSNE_LIMIT]) == 1\n",
    "        FN = (y_state_true[:TSNE_LIMIT]-y_state_pred[:TSNE_LIMIT]) == 1\n",
    "        FP = (y_state_true[:TSNE_LIMIT]-y_state_pred[:TSNE_LIMIT]) == -1\n",
    "\n",
    "        TN = (y_state_true[:TSNE_LIMIT]+y_state_pred[:TSNE_LIMIT]) == 0\n",
    "\n",
    "        FP_FN = (y_state_true[:TSNE_LIMIT]+y_state_pred[:TSNE_LIMIT]) == 1\n",
    "        TP_TN = (y_state_true[:TSNE_LIMIT]-y_state_pred[:TSNE_LIMIT]) == 0\n",
    "\n",
    "        # df.loc[TN, 'color']='True Negatives'\n",
    "        df.loc[TP, 'color'] = 'True Positives'\n",
    "        df.loc[FN, 'color'] = 'False Negatives'\n",
    "        df.loc[FP, 'color'] = 'False Positives'\n",
    "        df.loc[TN, 'color'] = 'True Negatives'\n",
    "\n",
    "        df.loc[TP_TN, 'color_true_pred'] = 'True Predicted'\n",
    "        df.loc[FP_FN, 'color_true_pred'] = 'False Predicted'\n",
    "\n",
    "        df.loc[y_state_true[:TSNE_LIMIT].astype(\n",
    "            bool).flatten(), 'color_true'] = 'Positive Samples'\n",
    "        df.loc[~y_state_true[:TSNE_LIMIT].astype(\n",
    "            bool).flatten(), 'color_true'] = 'Negative Samples'\n",
    "\n",
    "        df.loc[y_state_pred[:TSNE_LIMIT].astype(\n",
    "            bool).flatten(), 'color_pred'] = 'Positive Predicted'\n",
    "        df.loc[~y_state_pred[:TSNE_LIMIT].astype(\n",
    "            bool).flatten(), 'color_pred'] = 'Negative Predicted'\n",
    "\n",
    "        # df.loc[y_state_pred[:TSNE_LIMIT].astype(bool).flatten(), 'color_true_pred']='Positive Predicted'\n",
    "        # df.loc[~y_state_pred[:TSNE_LIMIT].astype(bool).flatten(), 'color_true_pred']='Negative Predicted'\n",
    "\n",
    "    df['i_b'] = df['id'].apply(lambda x: int(x / opt.batch_size))\n",
    "    df['i'] = df['id'].apply(lambda x: x % opt.batch_size)\n",
    "\n",
    "    t_max = np.concatenate([t.max(1)[0] for t in out['event_time_list']])\n",
    "\n",
    "    df['color_t_max'] = t_max\n",
    "    if len(out['list_log_sum']) > 0:\n",
    "        df['color_log_sum'] = np.concatenate(\n",
    "            out['list_log_sum'], axis=0) / t_max\n",
    "        df['color_integral_'] = np.concatenate(\n",
    "            out['list_integral_'], axis=0) / t_max\n",
    "    return df\n",
    "\n",
    "\n",
    "def event2mat(event_type, event_time, P):\n",
    "\n",
    "    m = event_type.sum(1) > 0  # False are masked\n",
    "    e = event_type[m, :]\n",
    "    t = event_time[m]\n",
    "    # print(t)\n",
    "\n",
    "    indices = e.nonzero()\n",
    "    indices[:, 0] = t[indices[:, 0]].int()\n",
    "    # print(t[indices[:,0]])\n",
    "    # print(indices[:,0])\n",
    "\n",
    "    M = torch.zeros((P, e.shape[-1]))\n",
    "    M[indices[:, 0], indices[:, 1]] = 1\n",
    "\n",
    "    return M.detach().cpu().numpy().transpose()  # [M,P]\n",
    "\n",
    "\n",
    "# Project is specified by <entity/project-name>\n",
    "def dl_runs(all_runs, selected_tag=None):\n",
    "\n",
    "    summary_list, config_list, name_list, path_list = [], [], [], []\n",
    "    for run in all_runs:\n",
    "\n",
    "        if (selected_tag not in run.tags) and (selected_tag is not None):\n",
    "            continue\n",
    "        # .summary contains the output keys/values for metrics like accuracy.\n",
    "        #  We call ._json_dict to omit large files\n",
    "        summary_list.append(run.summary._json_dict)\n",
    "\n",
    "        # .config contains the hyperparameters.\n",
    "        #  We remove special values that start with _.\n",
    "\n",
    "        config_list.append(\n",
    "            {k: v for k, v in run.config.items()\n",
    "             if not k.startswith('_')})\n",
    "\n",
    "        # .name is the human-readable name of the run.\n",
    "        name_list.append(run.name)\n",
    "        path_list.append(run.path)\n",
    "\n",
    "    runs_df = pd.DataFrame({\n",
    "        \"summary\": summary_list,\n",
    "        \"config\": config_list,\n",
    "        \"name\": name_list,\n",
    "        \"path\": path_list\n",
    "\n",
    "    })\n",
    "\n",
    "    # runs_df.to_csv(\"project.csv\")\n",
    "    return runs_df\n",
    "\n",
    "\n",
    "def read_from_wandb(run_path, consider_sample_labels=False):\n",
    "\n",
    "    run = api.run(run_path)\n",
    "\n",
    "    # for file in run.files():\n",
    "    #     file.download(replace=True,root=f'./local/{run_path}/')\n",
    "    for file in run.files():\n",
    "        if 'best_model' in file.name or 'opt.pkl' in file.name:\n",
    "\n",
    "            try:\n",
    "                file.download(replace=True, root=f'.local/{run_path}')\n",
    "\n",
    "            except:\n",
    "                print('ERROR')\n",
    "                pass\n",
    "    opt = pickle.load(open(f'.local/{run_path}/opt.pkl', 'rb'))\n",
    "\n",
    "    if consider_sample_labels:\n",
    "        opt.sample_label = True\n",
    "\n",
    "    opt = Main.config(opt, justLoad=True)\n",
    "    if not hasattr(opt, 'diag_offset'):\n",
    "        opt.diag_offset = 1\n",
    "        print('ATTTTTTTTTTTTTTTTTTTTTTTTTTTTTTTT')\n",
    "    checkpoint = torch.load(f'.local/{run_path}/best_model.pkl')\n",
    "\n",
    "    model = TEEDAM(\n",
    "        n_marks=opt.num_marks,\n",
    "        TE_config=opt.TE_config,\n",
    "        DAM_config=opt.DAM_config,\n",
    "        NOISE_config=opt.NOISE_config,\n",
    "\n",
    "        CIF_config=opt.CIF_config,\n",
    "        next_time_config=opt.next_time_config,\n",
    "        next_type_config=opt.next_type_config,\n",
    "        label_config=opt.label_config,\n",
    "\n",
    "        demo_config=opt.demo_config,\n",
    "\n",
    "        device=opt.device,\n",
    "        diag_offset=opt.diag_offset\n",
    "    )\n",
    "\n",
    "    _ = model.to(opt.device)\n",
    "    _ = model.load_state_dict(checkpoint['model_state_dict'], strict=False)\n",
    "    _ = model.eval()\n",
    "\n",
    "    return model, opt, run\n",
    "\n",
    "\n",
    "def find_knn_pids(X, id_origin, n_knn=10):\n",
    "\n",
    "    # X [N,d] np.array\n",
    "    r = np.sqrt(((X-X[id_origin])**2).sum(-1))\n",
    "    # knn_pids = list(np.argpartition(r,n_knn)[:n_knn])\n",
    "    knn_pids = np.argsort(r)[:n_knn]\n",
    "    if id_origin not in knn_pids:\n",
    "        print('bad ', id_origin, knn_pids)\n",
    "\n",
    "    else:\n",
    "        # knn_pids.remove(id_origin)\n",
    "        aa = 1\n",
    "\n",
    "    # print(X.shape)\n",
    "    # term\n",
    "\n",
    "    # x0 = df.iloc[id_origin]['x']\n",
    "    # y0 = df.iloc[id_origin]['y']\n",
    "\n",
    "    # df['r'] = df.apply(lambda row: ( (row['x']-x0)**2 + (row['y']-y0)**2  ), axis=1)\n",
    "\n",
    "    # knn_pids = list(df.nsmallest(n_knn,'r').index)\n",
    "\n",
    "    return knn_pids\n",
    "\n",
    "\n",
    "def cal_similarity(df, out, pid_origin, knn_pids):\n",
    "\n",
    "    list_summary = []\n",
    "    list_t_max = []\n",
    "    for pid in knn_pids:\n",
    "\n",
    "        i_b = df.iloc[pid]['i_b']\n",
    "        i = df.iloc[pid]['i']\n",
    "\n",
    "        ev = out['event_type_list'][i_b][i]\n",
    "        t = out['event_time_list'][i_b][i]\n",
    "        st = out['state_time_list'][i_b][i]\n",
    "\n",
    "        P = st.int().max().item() + 1\n",
    "\n",
    "        M = event2mat(ev, t, P)\n",
    "\n",
    "        # if ev.sum()==0:\n",
    "        #     print(pid)\n",
    "        #     continue\n",
    "        #     # print(t.shape,ev.sum())\n",
    "        vector = M.sum(1)/M.shape[1]*24\n",
    "\n",
    "        # if (vector.sum()==0):\n",
    "        #     print(M.shape,t.max(),ev.sum(),vector.sum(),'binjour',st.max())\n",
    "        #     # print(pid_origin,pid)\n",
    "        #     # print('shit')\n",
    "        #     if pid==pid_origin:\n",
    "        #         print('WTF ',pid)\n",
    "        #         raise 'pid_origin has not pattern!'\n",
    "        #     # bad_ids.append(pid)\n",
    "        #     continue\n",
    "\n",
    "        list_summary.append(vector)\n",
    "        list_t_max.append(t.max().item())\n",
    "\n",
    "    dotp = [np.dot(j, list_summary[0])/(np.linalg.norm(j) *\n",
    "                                        np.linalg.norm(list_summary[0])) for j in list_summary]\n",
    "    sim_score = np.mean([x for x in dotp if ~np.isnan(x)]\n",
    "                        )  # remove nan elements\n",
    "\n",
    "    if np.isnan(sim_score.sum()):\n",
    "        print('he', sim_score.sum())\n",
    "\n",
    "    # print('ff',list_t_max)\n",
    "    list_t_max = [x for x in list_t_max if x > 0]\n",
    "    temp = np.array(list_t_max)\n",
    "    t_max_mae = np.mean(np.abs(temp-temp[0]))\n",
    "    # t_max_score = [x-list_t_max[0] for x in list_t_max[1:]]\n",
    "\n",
    "    return sim_score, list_summary, t_max_mae\n",
    "\n",
    "\n",
    "def remove_ids_with_no_pattern(df, out):\n",
    "\n",
    "    bad_pids = []\n",
    "    for pid in df.id:\n",
    "\n",
    "        i_b = df.iloc[pid]['i_b']\n",
    "        i = df.iloc[pid]['i']\n",
    "\n",
    "        # ev = out['event_type_list'][i_b][i]\n",
    "        t = out['event_time_list'][i_b][i]\n",
    "        # st=out['state_time_list'][i_b][i]\n",
    "\n",
    "        if t.max() == 0:\n",
    "            bad_pids.append(pid)\n",
    "\n",
    "    print(f\"{len(bad_pids)} patients were removed due to no existing pattern\")\n",
    "    df_out = df.loc[~df.id.isin(bad_pids)]\n",
    "    df_out.loc[:, 'id'] = np.arange(len(df_out))\n",
    "\n",
    "    return df_out, bad_pids\n",
    "\n"
   ]
  },
  {
   "cell_type": "code",
   "execution_count": 9,
   "metadata": {},
   "outputs": [],
   "source": [
    "\n",
    "def valid_epoch_tsne(model, validation_data, pred_loss_func, opt):\n",
    "    \"\"\" Epoch operation in evaluation phase. \"\"\"\n",
    "    example = {}\n",
    "    model.eval()\n",
    "\n",
    "    out = dict()\n",
    "\n",
    "    total_event_ll = 1  # cumulative event log-likelihood\n",
    "    total_event_rate = 1  # cumulative number of correct prediction\n",
    "    total_num_event = 1  # number of total events\n",
    "    total_num_pred = 1  # number of predictions, total=tqdm_len\n",
    "\n",
    "    total_time_sse = 1  # cumulative time prediction squared-error\n",
    "    total_time_sae = 1  # cumulative time prediction squared-error\n",
    "    total_time_sse_norm = 1  # cumulative time prediction squared-error\n",
    "\n",
    "    total_label_state = 0  # cumulative time prediction squared-error\n",
    "\n",
    "    event_type_list = []\n",
    "    event_time_list = []\n",
    "    next_event_type_list = []\n",
    "\n",
    "    non_pad_mask_list = []\n",
    "\n",
    "    time_gap_true = []\n",
    "    time_gap_pred = []\n",
    "    X_enc = []\n",
    "    y_pred_list = []\n",
    "    y_true_list = []\n",
    "    y_score_list = []\n",
    "\n",
    "    y_event_pred_list = []\n",
    "    y_event_true_list = []\n",
    "    y_event_score_list = []\n",
    "\n",
    "    y_state_pred_list = []\n",
    "    y_state_true_list = []\n",
    "    y_state_score_list = []\n",
    "    r_enc_list = []\n",
    "    r_enc_list2 = []\n",
    "    masks_list = []\n",
    "\n",
    "    state_mod_list = []\n",
    "    state_time_list = []\n",
    "    state_value_list = []\n",
    "\n",
    "    y_pred_stupid_list = []\n",
    "    n_classes = model.n_marks\n",
    "\n",
    "    list_intens_at_samples = []\n",
    "    list_taus = []\n",
    "    list_true_intens_at_evs = []\n",
    "    list_log_sum = []\n",
    "    list_integral_ = []\n",
    "\n",
    "    list_TE_att = []\n",
    "    list_DAM_att = []\n",
    "\n",
    "    dict_metrics = {}\n",
    "\n",
    "    with torch.no_grad():\n",
    "        for batch in tqdm(validation_data, mininterval=2,\n",
    "                          desc='  - (Testing)   ', leave=False):\n",
    "            \"\"\" prepare data \"\"\"\n",
    "\n",
    "            batch = [x.to(opt.device) for x in batch]\n",
    "            # batch = map(lambda x: x.to(opt.device), batch)\n",
    "\n",
    "            state_data = []\n",
    "            state_label = None\n",
    "            # if opt.event_enc:\n",
    "            event_time, time_gap, event_type = batch[:3]\n",
    "            if opt.state:\n",
    "                state_time, state_value, state_mod = batch[3:6]\n",
    "                state_mod_list.append(state_mod.detach().cpu())\n",
    "                state_time_list.append(state_time.detach().cpu())\n",
    "                state_value_list.append(state_value.detach().cpu())\n",
    "\n",
    "                state_data = batch[3:6]\n",
    "            if opt.sample_label:\n",
    "                state_time, state_value, state_mod = batch[3:6]\n",
    "                state_label = batch[6]\n",
    "            if opt.demo:\n",
    "                state_data.append(batch[-1])\n",
    "\n",
    "            non_pad_mask = Utils.get_non_pad_mask(event_type).squeeze(2)\n",
    "\n",
    "            enc_out = model(event_type, event_time, state_data=state_data)\n",
    "\n",
    "            a = (non_pad_mask.sum(1)-1).int().tolist()\n",
    "            r = enc_out[[i for i in range(enc_out.shape[0])], a, :]\n",
    "            r_enc_list.append(r.detach().cpu())\n",
    "\n",
    "            # r_enc_list.append(enc_out.detach().cpu()[:,-1,:])\n",
    "            # r_enc_list2.append(enc_out.detach().cpu()[:,-2,:])\n",
    "            # next_list2.append(event_type.detach().cpu()[:])\n",
    "            event_type_list.append(event_type.detach().cpu())\n",
    "            if (event_type.sum(-1).sum(-1) == 0).any() == 0:\n",
    "                print(\"TOO BAD\")\n",
    "            event_time_list.append(event_time.detach().cpu())\n",
    "\n",
    "            non_pad_mask_list.append(non_pad_mask)\n",
    "\n",
    "            total_num_pred += non_pad_mask.sum().item()\n",
    "            masks_list.append(\n",
    "                non_pad_mask[:, 1:].flatten().bool().detach().cpu())  # [*, C]\n",
    "\n",
    "            # CIF decoder\n",
    "            if hasattr(model, 'event_decoder'):\n",
    "                log_sum, integral_ = model.event_decoder(\n",
    "                    enc_out, event_time, event_type, non_pad_mask)\n",
    "\n",
    "                list_intens_at_samples.append(\n",
    "                    model.event_decoder.intens_at_samples.detach().cpu())\n",
    "                list_taus.append(model.event_decoder.taus.detach().cpu())\n",
    "                list_true_intens_at_evs.append(\n",
    "                    model.event_decoder.true_intens_at_evs.detach().cpu())\n",
    "                list_log_sum.append(log_sum.detach().cpu())\n",
    "                list_integral_.append(integral_.detach().cpu())\n",
    "\n",
    "                total_event_ll += torch.sum(log_sum - integral_)\n",
    "\n",
    "                y_event_score_list.append(torch.flatten(\n",
    "                    model.event_decoder.intens_at_evs, end_dim=1).detach().cpu())  # [*, n_cif]\n",
    "\n",
    "            if hasattr(model, 'TE'):\n",
    "                list_TE_att.append(model.TE.self_attn)\n",
    "            if hasattr(model, 'DAM'):\n",
    "                list_DAM_att.append(model.DAM.att)\n",
    "\n",
    "            # next type prediction\n",
    "            if hasattr(model, 'pred_next_type'):\n",
    "                pred_loss, pred_num_event, (y_pred, y_true, y_score, masks) = opt.type_loss(\n",
    "                    model.y_next_type, event_type, pred_loss_func)\n",
    "                # total_loss.append(pred_loss)\n",
    "                y_pred_list.append(torch.flatten(\n",
    "                    y_pred, end_dim=1).detach().cpu())  # [*]\n",
    "                y_true_list.append(torch.flatten(\n",
    "                    y_true, end_dim=1).detach().cpu())  # [*]\n",
    "                y_score_list.append(torch.flatten(\n",
    "                    y_score, end_dim=1).detach().cpu())  # [*, C]\n",
    "\n",
    "                next_event_type_list.append(y_pred.detach().cpu())\n",
    "\n",
    "            # next time prediction\n",
    "            if hasattr(model, 'pred_next_time'):\n",
    "                # non_pad_mask = Utils.get_non_pad_mask(event_type).squeeze(-1)\n",
    "                sse, sse_norm, sae = Utils.time_loss(\n",
    "                    model.y_next_time, event_time, non_pad_mask)  # sse, sse_norm, sae\n",
    "                # total_loss.append(sse*opt.w_time)\n",
    "                total_time_sse += sse.item()  # cumulative time prediction squared-error\n",
    "                total_time_sae += sae.item()  # cumulative time prediction squared-error\n",
    "                # cumulative time prediction squared-error\n",
    "                total_time_sse_norm += sse_norm.item()\n",
    "\n",
    "            # label prediction\n",
    "            if hasattr(model, 'pred_label') and (state_label is not None):\n",
    "\n",
    "                # state_label_red = state_label.sum(1).bool().int()[:,None,None] # [B,1,1]\n",
    "                # state_label_loss,(y_state_pred, y_state_true, y_state_score) = Utils.state_label_loss(state_label_red,model.y_label, non_pad_mask)\n",
    "\n",
    "                state_label_red = align(\n",
    "                    state_label[:, :, None], event_time, state_time)  # [B,L,1]\n",
    "                # state_label_red = state_label.bool().int()[:,:,None] # [B,L,1]\n",
    "                state_label_loss, (y_state_pred, y_state_true, y_state_score) = Utils.state_label_loss(\n",
    "                    state_label_red, model.y_label, non_pad_mask, opt.label_loss_fun)\n",
    "\n",
    "                # total_loss.append(state_label_loss*opt.w_sample_label)\n",
    "                y_state_pred_list.append(torch.flatten(\n",
    "                    y_state_pred).detach().cpu())  # [*]\n",
    "                y_state_true_list.append(torch.flatten(\n",
    "                    y_state_true).detach().cpu())  # [*]\n",
    "                y_state_score_list.append(torch.flatten(\n",
    "                    y_state_score).detach().cpu())  # [*] it is binary\n",
    "\n",
    "    masks = torch.cat(masks_list).detach().cpu()  # [*]\n",
    "\n",
    "    out['non_pad_mask_list'] = non_pad_mask_list\n",
    "\n",
    "    out['event_type_list'] = event_type_list\n",
    "    out['event_time_list'] = event_time_list\n",
    "    out['next_event_type_list'] = next_event_type_list\n",
    "\n",
    "    out['list_intens_at_samples'] = list_intens_at_samples\n",
    "    out['list_taus'] = list_taus\n",
    "    out['list_true_intens_at_evs'] = list_true_intens_at_evs\n",
    "    out['list_log_sum'] = list_log_sum\n",
    "    out['list_integral_'] = list_integral_\n",
    "\n",
    "    out['state_mod_list'] = state_mod_list\n",
    "    out['state_time_list'] = state_time_list\n",
    "    out['state_value_list'] = state_value_list\n",
    "\n",
    "    out['r_enc_list'] = r_enc_list\n",
    "\n",
    "    out['list_TE_att'] = list_TE_att\n",
    "    out['list_DAM_att'] = list_DAM_att\n",
    "\n",
    "    # CIF decoder\n",
    "    if hasattr(model, 'event_decoder'):\n",
    "\n",
    "        dict_metrics.update({\n",
    "            'CIF/LL-#events': total_event_ll.item() / total_num_pred,\n",
    "            'CIF/NLL': -total_event_ll.item(),\n",
    "            'CIF/#events': total_num_pred,\n",
    "        })\n",
    "\n",
    "    # next time prediction\n",
    "    if hasattr(model, 'pred_next_time'):\n",
    "        rmse = np.sqrt(total_time_sse / total_num_pred)\n",
    "        msae = total_time_sae / total_num_pred\n",
    "        rmse_norm = np.sqrt(total_time_sse_norm / total_num_pred)\n",
    "        dict_metrics.update({\n",
    "            'NextTime/RMSE': rmse,\n",
    "            'NextTime/rmse_norm': rmse_norm,\n",
    "            'NextTime/msae': msae,\n",
    "        })\n",
    "\n",
    "    # next type prediction\n",
    "    if hasattr(model, 'pred_next_type'):\n",
    "\n",
    "        if y_pred_list[-1].dim() == 2:  # multilabel or marked\n",
    "            y_pred = (np.concatenate(y_pred_list)[masks, :])\n",
    "            y_true = (np.concatenate(y_true_list)[masks, :])\n",
    "            y_score = (np.concatenate(y_score_list)[masks, :])\n",
    "\n",
    "            bad_labels = y_true.sum(0) == 0\n",
    "\n",
    "            y_true = y_true[:, ~bad_labels]\n",
    "            y_pred = y_pred[:, ~bad_labels]\n",
    "            y_score = y_score[:, ~bad_labels]\n",
    "            n_classes = y_true.shape[1]\n",
    "\n",
    "            cm = metrics.multilabel_confusion_matrix(y_true, y_pred)\n",
    "            cm_display = metrics.ConfusionMatrixDisplay(confusion_matrix=cm)\n",
    "\n",
    "            dict_metrics.update({\n",
    "\n",
    "                'NextType(ML)/auc-ovo-weighted': metrics.roc_auc_score(y_true, y_score, multi_class='ovo', average='weighted'),\n",
    "                # # 'NextType(ML)/auc-ovo-micro': metrics.roc_auc_score(y_true, y_score, multi_class='ovo',average='micro'),\n",
    "                # # 'NextType(ML)/auc-ovo-macro': metrics.roc_auc_score(y_true, y_score, multi_class='ovo',average='macro'),\n",
    "\n",
    "                'NextType(ML)/auc-PR-weighted': metrics.average_precision_score(y_true, y_score, average='weighted'),\n",
    "                'NextType(ML)/f1-weighted': metrics.f1_score(y_true, y_pred, average='weighted', zero_division=0),\n",
    "                'NextType(ML)/precision-weighted': metrics.precision_score(y_true, y_pred, average='weighted', zero_division=0),\n",
    "                'NextType(ML)/recall-weighted': metrics.recall_score(y_true, y_pred, average='weighted', zero_division=0),\n",
    "\n",
    "                # 'NextType(ML)/f1-micro': metrics.f1_score(y_true, y_pred ,average='micro', zero_division=0),\n",
    "                # 'NextType(ML)/f1-macro': metrics.f1_score(y_true, y_pred ,average='macro', zero_division=0),\n",
    "                # 'NextType(ML)/f1-samples': metrics.f1_score(y_true, y_pred ,average='samples', zero_division=0),\n",
    "\n",
    "                # 'NextType(ML)/acc': metrics.accuracy_score(y_true, y_pred),\n",
    "                # 'NextType(ML)/hamming': metrics.hamming_loss(y_true, y_pred),\n",
    "\n",
    "                # 'NextType(ML)/precision-micro': metrics.precision_score(y_true, y_pred ,average='micro', zero_division=0),\n",
    "                # 'NextType(ML)/precision-macro': metrics.precision_score(y_true, y_pred ,average='macro', zero_division=0),\n",
    "                # 'NextType(ML)/precision-samples': metrics.precision_score(y_true, y_pred ,average='samples', zero_division=0),\n",
    "\n",
    "                # 'NextType(ML)/recall-micro': metrics.recall_score(y_true, y_pred ,average='micro', zero_division=0),\n",
    "                # 'NextType(ML)/recall-macro': metrics.recall_score(y_true, y_pred ,average='macro', zero_division=0),\n",
    "                # 'NextType(ML)/recall-samples': metrics.recall_score(y_true, y_pred ,average='samples', zero_division=0),\n",
    "\n",
    "                # 'NextType(ML)/auc-ovo-macro': metrics.roc_auc_score(y_true, y_score, multi_class='ovo',average='macro'),\n",
    "                # 'NextType(ML)/auc-ovo-micro': metrics.roc_auc_score(y_true, y_score, multi_class='ovo',average='micro'),\n",
    "                # 'NextType(ML)/auc-PR-micro': metrics.average_precision_score(y_true, y_score ,average='micro'),\n",
    "                # 'NextType(ML)/auc-PR-macro': metrics.average_precision_score(y_true, y_score ,average='macro'),\n",
    "\n",
    "                # 'MultiLabel/AUROC-ovo-weighted': metrics.roc_auc_score(y_true, y_score, multi_class='ovo',average='weighted'),\n",
    "                # 'MultiLabel/AUPRC-weighted': metrics.average_precision_score(y_true, y_score ,average='weighted'),\n",
    "                # 'MultiLabel/F1-weighted': metrics.f1_score(y_true, y_pred ,average='weighted', zero_division=0),\n",
    "\n",
    "                # 'ConfMat': cm_display,\n",
    "\n",
    "            })\n",
    "\n",
    "            if hasattr(model, 'event_decoder') and model.event_decoder.n_cifs == n_classes:\n",
    "\n",
    "                y_event_score = (np.concatenate(y_event_score_list)[masks, :])\n",
    "\n",
    "                # y_event_score = nn.functional.normalize(y_event_score,p=1,dim=1)\n",
    "                y_event_pred = (y_event_score > 0.5).astype(int)\n",
    "\n",
    "                y_event_pred = y_event_pred[:, ~bad_labels]\n",
    "                y_event_score = y_event_score[:, ~bad_labels]\n",
    "\n",
    "                dict_metrics.update({\n",
    "\n",
    "                    'NextType(ML)/auc-ovo-weighted-CIF': metrics.roc_auc_score(y_true, y_event_score, multi_class='ovo', average='weighted'),\n",
    "                    'NextType(ML)/f1-weighted-CIF': metrics.f1_score(y_true,  y_event_pred, average='weighted', labels=torch.arange(n_classes)),\n",
    "                })\n",
    "\n",
    "        else:   # multiclass\n",
    "            y_pred = (np.concatenate(y_pred_list)[masks])\n",
    "            y_true = (np.concatenate(y_true_list)[masks])\n",
    "            y_score = (np.concatenate(y_score_list)[masks, :])\n",
    "\n",
    "            cm = metrics.confusion_matrix(y_true, y_pred)\n",
    "            cm_display = metrics.ConfusionMatrixDisplay(confusion_matrix=cm)\n",
    "\n",
    "            if hasattr(model, 'event_decoder') and model.event_decoder.n_cifs == n_classes:\n",
    "\n",
    "                y_event_score = (np.concatenate(y_event_score_list)[masks, :])\n",
    "                y_event_score = y_event_score/y_event_score.sum(1)[:, None]\n",
    "                y_event_pred = np.argmax(y_event_score, 1)\n",
    "\n",
    "                if n_classes == 2:\n",
    "\n",
    "                    dict_metrics.update({\n",
    "\n",
    "                        'NextType(MC)/auc-ovo-weighted-CIF': metrics.roc_auc_score(y_true, y_score[:, 0], multi_class='ovo', average='weighted'),\n",
    "                        'NextType(MC)/f1-weighted-CIF': metrics.f1_score(y_true,  y_event_pred, average='weighted', zero_division=0),\n",
    "                    })\n",
    "                else:\n",
    "                    dict_metrics.update({\n",
    "\n",
    "                        'NextType(MC)/auc-ovo-weighted-CIF': metrics.roc_auc_score(y_true, y_event_score, multi_class='ovo', average='weighted', labels=torch.arange(n_classes), ),\n",
    "                        'NextType(MC)/f1-weighted-CIF': metrics.f1_score(y_true,  y_event_pred, average='weighted', labels=torch.arange(n_classes), zero_division=0),\n",
    "                    })\n",
    "\n",
    "            if n_classes == 2:\n",
    "                dict_metrics.update({\n",
    "                    # 'NextType(MC)/f1-micro': metrics.f1_score(y_true, y_pred, labels= torch.arange(n_classes) ,average='micro', zero_division=0),\n",
    "                    # 'NextType(MC)/f1-macro': metrics.f1_score(y_true, y_pred,average='weighted'),\n",
    "                    'NextType(MC)/f1-weighted': metrics.f1_score(y_true, y_pred, average='weighted'),\n",
    "                    'NextType(MC)/precision-weighted': metrics.precision_score(y_true, y_pred),\n",
    "                    'NextType(MC)/recall-weighted': metrics.recall_score(y_true, y_pred),\n",
    "\n",
    "                    # 'NextType(MC)/auc-ovo-macro': metrics.roc_auc_score(y_true, y_score[:,0], multi_class='ovo',average='macro'),\n",
    "                    'NextType(MC)/auc-weighted': metrics.roc_auc_score(y_true, y_score[:, 0], multi_class='ovo', average='weighted'),\n",
    "                    # 'auc-ovo-weighted-stupid': metrics.roc_auc_score(y_true, y_pred_stupid, multi_class='ovo',average='weighted',labels= torch.arange(n_classes)),\n",
    "\n",
    "\n",
    "\n",
    "                    'NextType(MC)/acc': metrics.accuracy_score(y_true, y_pred, normalize=True),\n",
    "\n",
    "                    'ConfMat': cm_display,\n",
    "\n",
    "\n",
    "                })\n",
    "            else:\n",
    "                dict_metrics.update({\n",
    "                    # 'NextType(MC)/f1-micro': metrics.f1_score(y_true, y_pred, labels= torch.arange(n_classes) ,average='micro', zero_division=0),\n",
    "                    'NextType(MC)/f1-macro': metrics.f1_score(y_true, y_pred, labels=torch.arange(n_classes), average='macro', zero_division=0),\n",
    "                    'NextType(MC)/f1-weighted': metrics.f1_score(y_true, y_pred, labels=torch.arange(n_classes), average='weighted', zero_division=0),\n",
    "\n",
    "                    # 'NextType(MC)/auc-ovo-macro': metrics.roc_auc_score(y_true, y_score, multi_class='ovo',average='macro',labels= torch.arange(n_classes)),\n",
    "                    'NextType(MC)/auc-weighted': metrics.roc_auc_score(y_true, y_score, multi_class='ovo', average='weighted', labels=torch.arange(n_classes)),\n",
    "                    # 'auc-ovo-weighted-stupid': metrics.roc_auc_score(y_true, y_pred_stupid, multi_class='ovo',average='weighted',labels= torch.arange(n_classes)),\n",
    "\n",
    "\n",
    "\n",
    "                    'NextType(MC)/acc': metrics.accuracy_score(y_true, y_pred, normalize=True),\n",
    "\n",
    "                    'ConfMat': cm_display,\n",
    "\n",
    "\n",
    "                })\n",
    "\n",
    "        out['y_pred'] = y_pred\n",
    "        out['y_true'] = y_true\n",
    "        out['y_score'] = y_score\n",
    "\n",
    "        out['y_true_list'] = y_true_list\n",
    "        out['masks'] = masks\n",
    "\n",
    "    # label prediction\n",
    "    if hasattr(model, 'pred_label'):\n",
    "\n",
    "        # state_label_red = state_label.sum(1).bool().int()[:,None,None] # [B,1,1]\n",
    "        # state_label_loss,(y_state_pred, y_state_true, y_state_score) = Utils.state_label_loss(state_label_red,model.y_label, non_pad_mask)\n",
    "        # # total_loss.append(state_label_loss*opt.w_sample_label)\n",
    "        # y_state_pred_list.append(y_state_pred) # [*]\n",
    "        # y_state_true_list.append(y_state_true) # [*]\n",
    "        # y_state_score_list.append(y_state_score) # [*] it is binary\n",
    "\n",
    "        # y_state_pred = (np.concatenate(y_state_pred_list)) # [*]\n",
    "        # y_state_true = (np.concatenate(y_state_true_list))\n",
    "        # y_state_score = (np.concatenate(y_state_score_list))\n",
    "\n",
    "        # y_state_pred = (np.concatenate(y_state_pred_list) [masks]) # [*]\n",
    "        # y_state_true = (np.concatenate(y_state_true_list) [masks])\n",
    "        # y_state_score = (np.concatenate(y_state_score_list) [masks])\n",
    "\n",
    "        y_state_pred = (np.concatenate(y_state_pred_list))  # [*]\n",
    "        y_state_true = (np.concatenate(y_state_true_list))\n",
    "        y_state_score = (np.concatenate(y_state_score_list))\n",
    "\n",
    "        out['y_state_pred'] = y_state_pred\n",
    "        out['y_state_true'] = y_state_true\n",
    "        out['y_state_score'] = y_state_score\n",
    "\n",
    "        dict_metrics.update({\n",
    "            'pred_label/AUROC': metrics.roc_auc_score(y_state_true, y_state_score),\n",
    "            'pred_label/AUPRC': metrics.average_precision_score(y_state_true, y_state_score),\n",
    "            'pred_label/f1-binary': metrics.f1_score(y_state_true, y_state_pred, average='binary', zero_division=0),\n",
    "\n",
    "            'pred_label/loss': total_label_state/total_num_event,\n",
    "            'pred_label/recall-binary': metrics.recall_score(y_state_true, y_state_pred, average='binary', zero_division=0),\n",
    "            'pred_label/precision-binary': metrics.precision_score(y_state_true, y_state_pred, average='binary', zero_division=0),\n",
    "\n",
    "            'pred_label/ACC': metrics.accuracy_score(y_state_true, y_state_pred),\n",
    "\n",
    "\n",
    "            # 'pred_label/sum_r_enc':torch.concat(r_enc_list, dim=1).sum().item(),\n",
    "            # 'pred_label/r_enc_zero': a,\n",
    "        })\n",
    "\n",
    "    return dict_metrics, out"
   ]
  },
  {
   "cell_type": "code",
   "execution_count": 86,
   "metadata": {},
   "outputs": [
    {
     "name": "stdout",
     "output_type": "stream",
     "text": [
      "hi\n"
     ]
    },
    {
     "data": {
      "text/plain": [
       "2"
      ]
     },
     "execution_count": 86,
     "metadata": {},
     "output_type": "execute_result"
    },
    {
     "data": {
      "text/plain": [
       "2"
      ]
     },
     "execution_count": 86,
     "metadata": {},
     "output_type": "execute_result"
    },
    {
     "data": {
      "text/plain": [
       "array(['', 'DO'], dtype=object)"
      ]
     },
     "execution_count": 86,
     "metadata": {},
     "output_type": "execute_result"
    },
    {
     "data": {
      "text/plain": [
       "2"
      ]
     },
     "execution_count": 86,
     "metadata": {},
     "output_type": "execute_result"
    }
   ],
   "source": [
    "print('hi')\n",
    "api = wandb.Api()\n",
    "runs = api.runs(\"hokarami/TEEDAM_supervised\")\n",
    "df_filt = dl_runs(runs, selected_tag='A5')\n",
    "len(df_filt)\n",
    "\n",
    "# obtaining runs\n",
    "df_config = pd.DataFrame([{k: v for k, v in x.items()}\n",
    "                            for x in df_filt.config])\n",
    "df_summary = pd.DataFrame([{k: v for k, v in x.items()}\n",
    "                            for x in df_filt.summary])\n",
    "df_path = df_filt.path.apply(lambda x: '/'.join(x))\n",
    "df_con = pd.concat([df_config, df_summary, df_path], axis=1)\n",
    "len(df_con)\n",
    "\n",
    "df_con['transfer_learning'].unique()\n",
    "\n",
    "if 'knn-ps-mean' in df_con:\n",
    "    q = ((df_con['transfer_learning'] == 'DO') & (df_con['knn-ps-mean'].isnull())\n",
    "            ) | ((df_con['INPUT'] == 'DAM') & (df_con['knn-ps-mean'].isnull()))\n",
    "else:\n",
    "    q = df_con['transfer_learning'].astype(bool)+True\n",
    "q = df_con['transfer_learning'].astype(bool)+True\n",
    "\n",
    "df_con = df_con[q].iloc[:]\n",
    "len(df_con)\n",
    "run_paths = df_con.path.tolist()"
   ]
  },
  {
   "cell_type": "code",
   "execution_count": 87,
   "metadata": {},
   "outputs": [
    {
     "data": {
      "text/plain": [
       "2"
      ]
     },
     "execution_count": 87,
     "metadata": {},
     "output_type": "execute_result"
    }
   ],
   "source": [
    "len(run_paths)"
   ]
  },
  {
   "cell_type": "code",
   "execution_count": 97,
   "metadata": {},
   "outputs": [
    {
     "name": "stdout",
     "output_type": "stream",
     "text": [
      "############################## CUDA True\n",
      "[Info] INPUT TEDAM --> none-mark-label\n",
      "[Info] parameters: Namespace(data='/mlodata1/hokarami/tedam/p12-raindrop/split0/', data_label='multilabel', cuda=1, wandb=True, wandb_project='TEEDAM_supervised', wandb_tag='None', log_freq=1, prof=False, per=100, balanced_batch=True, transfer_learning='DO', tl_tag='RD74-nextmark3', freeze=['TE'], ES_pat=100, setting='raindrop', test_center='', split='0', log='log.txt', user_prefix='[RD74-TL3-TEDA__nextmark-concat]', pos_alpha=1.0, epoch=50, batch_size=128, lr=0.001, smooth=0.0, weight_decay=0.1, diag_offset=0, event_enc=1, time_enc='concat', te_d_mark=8, te_d_time=4, te_d_rnn=256, te_d_inner=32, te_d_k=8, te_d_v=8, te_n_head=4, te_n_layers=4, te_dropout=0.1, dam_output_activation='relu', dam_output_dims=16, dam_n_phi_layers=3, dam_phi_width=128, dam_phi_dropout=0.2, dam_n_psi_layers=2, dam_psi_width=64, dam_psi_latent_width=128, dam_dot_prod_dim=64, dam_n_heads=4, dam_attn_dropout=0.1, dam_latent_width=64, dam_n_rho_layers=2, dam_rho_width=128, dam_rho_dropout=0.1, dam_max_timescale=1000, dam_n_positional_dims=16, dam_online=False, state=True, demo=True, num_states=1, noise=False, mod='none', int_dec='sahp', w_event=1.0, next_mark=1, w_class=False, w_pos=False, mark_detach=0, w_time=1.0, sample_label=True, w_pos_label=1.0, w_sample_label=100.0, hparams2write={'data': '/mlodata1/hokarami/tedam/p12/', 'data_label': 'multilabel', 'cuda': 1, 'wandb': True, 'wandb_project': 'TEEDAM_supervised', 'wandb_tag': 'None', 'log_freq': 1, 'prof': False, 'per': 100, 'balanced_batch': True, 'transfer_learning': 'DO', 'tl_tag': 'RD74-nextmark3', 'ES_pat': 100, 'setting': 'raindrop', 'test_center': '', 'split': '0', 'log': 'log.txt', 'user_prefix': '[RD74-TL3-TEDA__nextmark-concat]', 'pos_alpha': 1.0, 'epoch': 50, 'batch_size': 128, 'lr': 0.001, 'smooth': 0.0, 'weight_decay': 0.1, 'diag_offset': 0, 'event_enc': 1, 'time_enc': 'concat', 'te_d_mark': 8, 'te_d_time': 4, 'te_d_rnn': 256, 'te_d_inner': 32, 'te_d_k': 8, 'te_d_v': 8, 'te_n_head': 4, 'te_n_layers': 4, 'te_dropout': 0.1, 'dam_output_activation': 'relu', 'dam_output_dims': 16, 'dam_n_phi_layers': 3, 'dam_phi_width': 128, 'dam_phi_dropout': 0.2, 'dam_n_psi_layers': 2, 'dam_psi_width': 64, 'dam_psi_latent_width': 128, 'dam_dot_prod_dim': 64, 'dam_n_heads': 4, 'dam_attn_dropout': 0.1, 'dam_latent_width': 64, 'dam_n_rho_layers': 2, 'dam_rho_width': 128, 'dam_rho_dropout': 0.1, 'dam_max_timescale': 1000, 'dam_n_positional_dims': 16, 'dam_online': False, 'state': True, 'demo': True, 'num_states': 1, 'noise': False, 'mod': 'none', 'int_dec': 'sahp', 'w_event': 1.0, 'next_mark': 1, 'w_class': False, 'w_pos': False, 'mark_detach': 0, 'w_time': 1.0, 'sample_label': 1, 'w_pos_label': 1.0, 'w_sample_label': 100.0}, date='14-06-23--18-07-06', run_id='2705751', dataset='P12', str_config='-raindrop/split0', run_name='[RD74-TL3-TEDA__nextmark-concat]2705751', run_path='/mlodata1/hokarami/tedam/p12-raindrop/split0/[RD74-TL3-TEDA__nextmark-concat]2705751/', device=device(type='cuda'), INPUT='TEDAM', OUTPUT='none-mark-label')\n",
      "[Info] Loading train data...\n",
      "[Info] Loading dev data...\n",
      "[Info] Loading test data...\n",
      "[info] 100% of data will be considered\n",
      "[Info] Loading train STATE...\n",
      "[Info] Loading dev STATE...\n",
      "[Info] Loading test STATE...\n",
      "[info] 100% of data will be considered\n",
      "[info] True/total = 0.1401\n",
      "[info] balanced mini batches\n",
      "[info] STATE will be considered\n"
     ]
    },
    {
     "name": "stderr",
     "output_type": "stream",
     "text": [
      "  - (Testing)   :   0%|          | 0/9 [00:00<?, ?it/s]"
     ]
    },
    {
     "name": "stdout",
     "output_type": "stream",
     "text": [
      "TOO BAD\n",
      "TOO BAD\n",
      "TOO BAD\n",
      "TOO BAD\n",
      "TOO BAD\n",
      "TOO BAD\n",
      "TOO BAD\n",
      "TOO BAD\n"
     ]
    },
    {
     "name": "stderr",
     "output_type": "stream",
     "text": [
      "                                                       "
     ]
    },
    {
     "name": "stdout",
     "output_type": "stream",
     "text": [
      "TOO BAD\n"
     ]
    },
    {
     "name": "stderr",
     "output_type": "stream",
     "text": [
      "\r"
     ]
    },
    {
     "name": "stdout",
     "output_type": "stream",
     "text": [
      "0 patients were removed due to no existing pattern\n"
     ]
    },
    {
     "name": "stderr",
     "output_type": "stream",
     "text": [
      "100%|██████████| 188/188 [00:01<00:00, 115.40it/s]\n"
     ]
    }
   ],
   "source": [
    "\n",
    "# run_paths = [\"hokarami/TEEDAM_supervised/3drow7po\"]\n",
    "n_knn = 10\n",
    "temp = list()\n",
    "bad_runs = list()\n",
    "bad_cal_sim = 0\n",
    "run_path = run_paths[1]\n",
    "api = wandb.Api()\n",
    "run = api.run(run_path)\n",
    "\n",
    "model1, opt1, run1 = read_from_wandb(\n",
    "    run_path, consider_sample_labels=True)\n",
    "\n",
    "dict_metrics1, out1 = valid_epoch_tsne(\n",
    "    model1, opt1.validloader, opt1.pred_loss_func, opt1)\n",
    "# X_tsne1, X_tsne_split1 = compute_tsne(out1['r_enc_list'], model1)\n",
    "res_labels = opt1.dict_map_events.keys()\n",
    "df1 = build_df(out1, opt1, X_tsne=None)\n",
    "\n",
    "df1, bad_pids = remove_ids_with_no_pattern(df1, out1)\n",
    "\n",
    "pid_all = list(df1.id)\n",
    "\n",
    "pid_positive = list(df1[df1.color_true == 'Positive Samples'].id)\n",
    "\n",
    "list_sim_score1 = []\n",
    "list_t_max_rmse1 = []\n",
    "\n",
    "list_sim_score2 = []\n",
    "list_t_max_rmse2 = []\n",
    "# X1 = np.concatenate(out1['r_enc_list'],axis=0)[:,:]\n",
    "\n",
    "# only DAM embeddings\n",
    "X2 = np.concatenate(out1['r_enc_list'], axis=0)[\n",
    "    :, model1.d_out_te:model1.d_out_te+model1.d_out_dam]\n",
    "\n",
    "# only TEE embeddings\n",
    "X1 = np.concatenate(out1['r_enc_list'], axis=0)[:, :model1.d_out_te]\n",
    "\n",
    "# TEE+DAM embeddings\n",
    "X1 = np.concatenate(out1['r_enc_list'], axis=0)[\n",
    "    :, :model1.d_out_te+model1.d_out_dam]\n",
    "\n",
    "X1 = np.delete(X1, bad_pids, axis=0)\n",
    "X2= np.delete(X2, bad_pids, axis=0)\n",
    "\n",
    "\n",
    "for pid in tqdm(pid_positive):\n",
    "    id_origin = pid\n",
    "\n",
    "    knn_pids = find_knn_pids(X1, id_origin, n_knn=n_knn)\n",
    "    try:\n",
    "        sim_score1, list_summary, t_max_mae1 = cal_similarity(\n",
    "            df1, out1, pid, knn_pids)\n",
    "\n",
    "        if (not np.isnan(sim_score1)):\n",
    "            list_sim_score1.append(sim_score1)\n",
    "            list_t_max_rmse1.append(t_max_mae1)\n",
    "    except:\n",
    "        bad_cal_sim += 1\n",
    "\n",
    "\n",
    "\n",
    "\n",
    "\n",
    "    # knn_pids = find_knn_pids(X2, id_origin, n_knn=n_knn)\n",
    "    # try:\n",
    "    #     sim_score1, list_summary, t_max_mae1 = cal_similarity(\n",
    "    #         df1, out1, pid, knn_pids)\n",
    "\n",
    "    #     if (not np.isnan(sim_score1)):\n",
    "    #         list_sim_score2.append(sim_score1)\n",
    "    #         list_t_max_rmse2.append(t_max_mae1)\n",
    "    # except:\n",
    "    #     pass\n",
    "\n",
    "\n",
    "# np.mean(list_sim_score1), np.std(list_sim_score1)\n",
    "\n",
    "run.summary['knn-ps-version'] = 1\n",
    "run.summary['bad_pids'] = len(bad_pids)\n",
    "run.summary['knn-ps-mean'] = np.mean(list_sim_score1)\n",
    "run.summary['knn-ps-std'] = np.std(list_sim_score1)\n",
    "run.summary['t_max_mae-mean'] = np.mean(list_t_max_rmse1)\n",
    "run.summary['t_max_mae-std'] = np.std(list_t_max_rmse1)\n",
    "run.summary.update()\n",
    "\n",
    "temptemp = dict()\n",
    "temptemp['path'] = run_path\n",
    "temptemp['knn-ps-mean'] = np.mean(list_sim_score1)\n",
    "temptemp['knn-ps-std'] = np.std(list_sim_score1)\n",
    "temp.append(temptemp)"
   ]
  },
  {
   "cell_type": "code",
   "execution_count": 96,
   "metadata": {},
   "outputs": [
    {
     "data": {
      "text/plain": [
       "(188, 188)"
      ]
     },
     "execution_count": 96,
     "metadata": {},
     "output_type": "execute_result"
    },
    {
     "data": {
      "text/plain": [
       "(0.8046125, 0.08883779)"
      ]
     },
     "execution_count": 96,
     "metadata": {},
     "output_type": "execute_result"
    }
   ],
   "source": [
    "#save dam\n",
    "x2 = df1[df1.index.isin(pid_positive)].color_t_max.values\n",
    "y2 = list_sim_score1#[:-2]\n",
    "len(x2), len(y2)\n",
    "np.mean(y2), np.std(y2)\n",
    "\n"
   ]
  },
  {
   "cell_type": "code",
   "execution_count": 98,
   "metadata": {},
   "outputs": [
    {
     "data": {
      "text/plain": [
       "(188, 188)"
      ]
     },
     "execution_count": 98,
     "metadata": {},
     "output_type": "execute_result"
    },
    {
     "data": {
      "text/plain": [
       "(0.92654127, 0.032589737)"
      ]
     },
     "execution_count": 98,
     "metadata": {},
     "output_type": "execute_result"
    }
   ],
   "source": [
    "# save tee-dam\n",
    "x1 = df1[df1.index.isin(pid_positive)].color_t_max.values.copy()\n",
    "y1 = list_sim_score1.copy()#[:-2]\n",
    "len(x1), len(y1)\n",
    "np.mean(y1), np.std(y1)\n"
   ]
  },
  {
   "cell_type": "code",
   "execution_count": 109,
   "metadata": {},
   "outputs": [
    {
     "data": {
      "application/vnd.plotly.v1+json": {
       "config": {
        "plotlyServerURL": "https://plot.ly"
       },
       "data": [
        {
         "marker": {
          "color": "blue",
          "size": 5
         },
         "mode": "markers",
         "name": "TEE+DAM",
         "type": "scatter",
         "x": [
          47.28333282470703,
          46.150001525878906,
          23.383333206176758,
          41.233333587646484,
          30.616666793823242,
          45.13333511352539,
          26.950000762939453,
          47.43333435058594,
          47.849998474121094,
          47.63333511352539,
          47.83333206176758,
          44.56666564941406,
          46.96666717529297,
          42.08333206176758,
          47.75,
          47.900001525878906,
          44.70000076293945,
          44.06666564941406,
          46.29999923706055,
          44.38333511352539,
          45.96666717529297,
          45.733333587646484,
          47,
          37.95000076293945,
          46.81666564941406,
          39.46666717529297,
          45.41666793823242,
          47.04999923706055,
          44.483333587646484,
          47.53333282470703,
          46.75,
          40.08333206176758,
          32.95000076293945,
          46.983333587646484,
          47.11666488647461,
          46.70000076293945,
          47.86666488647461,
          36.45000076293945,
          47.81666564941406,
          44.63333511352539,
          45.733333587646484,
          45.516666412353516,
          47.63333511352539,
          43.650001525878906,
          32.79999923706055,
          47.70000076293945,
          28.066667556762695,
          47.86666488647461,
          47.33333206176758,
          30.399999618530273,
          47.75,
          47.983333587646484,
          47.400001525878906,
          47.483333587646484,
          46.93333435058594,
          46.56666564941406,
          47.75,
          46.95000076293945,
          47.86666488647461,
          32.900001525878906,
          46.983333587646484,
          44.45000076293945,
          46.650001525878906,
          45.75,
          47.68333435058594,
          46.95000076293945,
          37.5,
          46.516666412353516,
          42.06666564941406,
          47.31666564941406,
          46.650001525878906,
          42.18333435058594,
          47.54999923706055,
          29.03333282470703,
          36.83333206176758,
          44.38333511352539,
          47.38333511352539,
          47.86666488647461,
          47.56666564941406,
          45.233333587646484,
          47.20000076293945,
          46.83333206176758,
          45.5,
          28.616666793823242,
          47.983333587646484,
          46.79999923706055,
          47.849998474121094,
          47.95000076293945,
          47.91666793823242,
          47.733333587646484,
          47.516666412353516,
          47.983333587646484,
          46.11666488647461,
          45.483333587646484,
          47.43333435058594,
          43.766666412353516,
          47.78333282470703,
          45.83333206176758,
          46.483333587646484,
          43.599998474121094,
          47.766666412353516,
          47.71666717529297,
          47.81666564941406,
          45.68333435058594,
          47.400001525878906,
          40.16666793823242,
          34.88333511352539,
          45.400001525878906,
          46.79999923706055,
          38.900001525878906,
          47.88333511352539,
          47.5,
          47.86666488647461,
          45.16666793823242,
          47.766666412353516,
          46.016666412353516,
          42.599998474121094,
          47.96666717529297,
          46.03333282470703,
          39.45000076293945,
          43.11666488647461,
          39.28333282470703,
          40.766666412353516,
          47.93333435058594,
          45.733333587646484,
          47.78333282470703,
          46.83333206176758,
          47.86666488647461,
          48,
          45,
          46.11666488647461,
          40.29999923706055,
          47.79999923706055,
          46.03333282470703,
          41.33333206176758,
          42,
          47.150001525878906,
          45.79999923706055,
          47.766666412353516,
          42.21666717529297,
          47.266666412353516,
          35.71666717529297,
          45.58333206176758,
          44.83333206176758,
          44.41666793823242,
          42.099998474121094,
          39.11666488647461,
          46.016666412353516,
          47.13333511352539,
          33.75,
          47.33333206176758,
          44.733333587646484,
          46.58333206176758,
          38.13333511352539,
          41.43333435058594,
          47.516666412353516,
          42.483333587646484,
          45.349998474121094,
          43.70000076293945,
          47.86666488647461,
          46.71666717529297,
          44.53333282470703,
          46.63333511352539,
          47.46666717529297,
          47.983333587646484,
          46.5,
          47.150001525878906,
          46.70000076293945,
          44.06666564941406,
          47.86666488647461,
          47.63333511352539,
          45.70000076293945,
          46.71666717529297,
          47.349998474121094,
          45.79999923706055,
          47.150001525878906,
          46.68333435058594,
          45.150001525878906,
          47.53333282470703,
          45.33333206176758,
          46.733333587646484,
          47.29999923706055,
          46.766666412353516,
          43.5,
          45.25,
          47.88333511352539,
          47.150001525878906,
          46.016666412353516
         ],
         "y": [
          0.8458577990531921,
          0.8448979258537292,
          0.9470160603523254,
          0.905168354511261,
          0.9288545846939087,
          0.9347201585769653,
          0.9128831028938293,
          0.9452621340751648,
          0.9142209887504578,
          0.9492537379264832,
          0.9550608396530151,
          0.9350430369377136,
          0.9599591493606567,
          0.9175819158554077,
          0.9717419743537903,
          0.9257283210754395,
          0.9585111737251282,
          0.9518753290176392,
          0.9102161526679993,
          0.8479077219963074,
          0.8702025413513184,
          0.8583611249923706,
          0.8309685587882996,
          0.9190970659255981,
          0.9357618093490601,
          0.9071843028068542,
          0.9254609942436218,
          0.9407675862312317,
          0.9545719027519226,
          0.8929769396781921,
          0.9051219820976257,
          0.90116947889328,
          0.8733593821525574,
          0.960843563079834,
          0.9241276979446411,
          0.9223520159721375,
          0.9216283559799194,
          0.8865262866020203,
          0.9665924310684204,
          0.8861625790596008,
          0.9426981806755066,
          0.948350727558136,
          0.9693967700004578,
          0.9410337209701538,
          0.8861778378486633,
          0.9357558488845825,
          0.9376281499862671,
          0.9207218885421753,
          0.9413455128669739,
          0.8984030485153198,
          0.823747992515564,
          0.9674212336540222,
          0.932822048664093,
          0.936486542224884,
          0.9409043192863464,
          0.9445006251335144,
          0.9223434329032898,
          0.9474660158157349,
          0.9449206590652466,
          0.9187017679214478,
          0.9535543322563171,
          0.9504204988479614,
          0.9510952234268188,
          0.8788812756538391,
          0.9559761881828308,
          0.9686951637268066,
          0.9406167268753052,
          0.9440786242485046,
          0.8880217671394348,
          0.8659180402755737,
          0.9349024891853333,
          0.9510028958320618,
          0.8819648027420044,
          0.9742267727851868,
          0.9193107485771179,
          0.9385116696357727,
          0.9621553421020508,
          0.9391270875930786,
          0.9710837602615356,
          0.9414690136909485,
          0.9699229001998901,
          0.856305718421936,
          0.8374475240707397,
          0.9244344830513,
          0.9592455625534058,
          0.9740937352180481,
          0.9396810531616211,
          0.9724275469779968,
          0.9480594396591187,
          0.9491346478462219,
          0.9630039930343628,
          0.8964599370956421,
          0.9395157098770142,
          0.9148613810539246,
          0.9501857757568359,
          0.9456640481948853,
          0.9209082722663879,
          0.972253143787384,
          0.9401068687438965,
          0.9680889844894409,
          0.9431201219558716,
          0.9187526702880859,
          0.8855007886886597,
          0.8827847242355347,
          0.9561017155647278,
          0.9014089703559875,
          0.8788892030715942,
          0.94707190990448,
          0.9597382545471191,
          0.9265649914741516,
          0.9306080937385559,
          0.9181607961654663,
          0.9445109367370605,
          0.9488576650619507,
          0.9504984021186829,
          0.9076992273330688,
          0.9334567785263062,
          0.897297203540802,
          0.9576712846755981,
          0.8953434228897095,
          0.8959954380989075,
          0.882807731628418,
          0.8977817296981812,
          0.9315314292907715,
          0.9533790349960327,
          0.9153526425361633,
          0.9285033941268921,
          0.9181208610534668,
          0.9387794733047485,
          0.9590425491333008,
          0.9327276349067688,
          0.9287034273147583,
          0.9363179206848145,
          0.9437965154647827,
          0.9265257120132446,
          0.870288074016571,
          0.9396766424179077,
          0.9403042793273926,
          0.9530699849128723,
          0.8188460469245911,
          0.9423638582229614,
          0.8925437927246094,
          0.9451554417610168,
          0.945978045463562,
          0.9585655331611633,
          0.9598458409309387,
          0.8985444903373718,
          0.8511972427368164,
          0.9172318577766418,
          0.9288619160652161,
          0.916252613067627,
          0.8845823407173157,
          0.9193196296691895,
          0.8647360801696777,
          0.926082968711853,
          0.9392842054367065,
          0.952957034111023,
          0.9536496996879578,
          0.9493324160575867,
          0.9238320589065552,
          0.9425747990608215,
          0.935596764087677,
          0.9250189661979675,
          0.964472770690918,
          0.9462542533874512,
          0.9603826403617859,
          0.9714973568916321,
          0.8799412846565247,
          0.9117366671562195,
          0.9735347628593445,
          0.8837035894393921,
          0.9286783337593079,
          0.9310340881347656,
          0.8803460001945496,
          0.936897873878479,
          0.9546663165092468,
          0.9576619863510132,
          0.9416776895523071,
          0.9451898336410522,
          0.9455512166023254,
          0.945170521736145,
          0.9408081769943237,
          0.9062272310256958,
          0.9225546717643738,
          0.9371665120124817,
          0.9113519787788391,
          0.9341176152229309,
          0.9114006161689758
         ]
        },
        {
         "marker": {
          "color": "red",
          "size": 5
         },
         "mode": "markers",
         "name": "DAM",
         "type": "scatter",
         "x": [
          47.28333282470703,
          46.150001525878906,
          23.383333206176758,
          41.233333587646484,
          30.616666793823242,
          45.13333511352539,
          26.950000762939453,
          47.43333435058594,
          47.849998474121094,
          47.63333511352539,
          47.83333206176758,
          44.56666564941406,
          46.96666717529297,
          42.08333206176758,
          47.75,
          47.900001525878906,
          44.70000076293945,
          44.06666564941406,
          46.29999923706055,
          44.38333511352539,
          45.96666717529297,
          45.733333587646484,
          47,
          37.95000076293945,
          46.81666564941406,
          39.46666717529297,
          45.41666793823242,
          47.04999923706055,
          44.483333587646484,
          47.53333282470703,
          46.75,
          40.08333206176758,
          32.95000076293945,
          46.983333587646484,
          47.11666488647461,
          46.70000076293945,
          47.86666488647461,
          36.45000076293945,
          47.81666564941406,
          44.63333511352539,
          45.733333587646484,
          45.516666412353516,
          47.63333511352539,
          43.650001525878906,
          32.79999923706055,
          47.70000076293945,
          28.066667556762695,
          47.86666488647461,
          47.33333206176758,
          30.399999618530273,
          47.75,
          47.983333587646484,
          47.400001525878906,
          47.483333587646484,
          46.93333435058594,
          46.56666564941406,
          47.75,
          46.95000076293945,
          47.86666488647461,
          32.900001525878906,
          46.983333587646484,
          44.45000076293945,
          46.650001525878906,
          45.75,
          47.68333435058594,
          46.95000076293945,
          37.5,
          46.516666412353516,
          42.06666564941406,
          47.31666564941406,
          46.650001525878906,
          42.18333435058594,
          47.54999923706055,
          29.03333282470703,
          36.83333206176758,
          44.38333511352539,
          47.38333511352539,
          47.86666488647461,
          47.56666564941406,
          45.233333587646484,
          47.20000076293945,
          46.83333206176758,
          45.5,
          28.616666793823242,
          47.983333587646484,
          46.79999923706055,
          47.849998474121094,
          47.95000076293945,
          47.91666793823242,
          47.733333587646484,
          47.516666412353516,
          47.983333587646484,
          46.11666488647461,
          45.483333587646484,
          47.43333435058594,
          43.766666412353516,
          47.78333282470703,
          45.83333206176758,
          46.483333587646484,
          43.599998474121094,
          47.766666412353516,
          47.71666717529297,
          47.81666564941406,
          45.68333435058594,
          47.400001525878906,
          40.16666793823242,
          34.88333511352539,
          45.400001525878906,
          46.79999923706055,
          38.900001525878906,
          47.88333511352539,
          47.5,
          47.86666488647461,
          45.16666793823242,
          47.766666412353516,
          46.016666412353516,
          42.599998474121094,
          47.96666717529297,
          46.03333282470703,
          39.45000076293945,
          43.11666488647461,
          39.28333282470703,
          40.766666412353516,
          47.93333435058594,
          45.733333587646484,
          47.78333282470703,
          46.83333206176758,
          47.86666488647461,
          48,
          45,
          46.11666488647461,
          40.29999923706055,
          47.79999923706055,
          46.03333282470703,
          41.33333206176758,
          42,
          47.150001525878906,
          45.79999923706055,
          47.766666412353516,
          42.21666717529297,
          47.266666412353516,
          35.71666717529297,
          45.58333206176758,
          44.83333206176758,
          44.41666793823242,
          42.099998474121094,
          39.11666488647461,
          46.016666412353516,
          47.13333511352539,
          33.75,
          47.33333206176758,
          44.733333587646484,
          46.58333206176758,
          38.13333511352539,
          41.43333435058594,
          47.516666412353516,
          42.483333587646484,
          45.349998474121094,
          43.70000076293945,
          47.86666488647461,
          46.71666717529297,
          44.53333282470703,
          46.63333511352539,
          47.46666717529297,
          47.983333587646484,
          46.5,
          47.150001525878906,
          46.70000076293945,
          44.06666564941406,
          47.86666488647461,
          47.63333511352539,
          45.70000076293945,
          46.71666717529297,
          47.349998474121094,
          45.79999923706055,
          47.150001525878906,
          46.68333435058594,
          45.150001525878906,
          47.53333282470703,
          45.33333206176758,
          46.733333587646484,
          47.29999923706055,
          46.766666412353516,
          43.5,
          45.25,
          47.88333511352539,
          47.150001525878906,
          46.016666412353516
         ],
         "y": [
          0.7191519737243652,
          0.6658405661582947,
          0.5809860825538635,
          0.8379141092300415,
          0.5716394782066345,
          0.7656046152114868,
          0.4469732642173767,
          0.7309078574180603,
          0.8800322413444519,
          0.9031820297241211,
          0.8455580472946167,
          0.8249984979629517,
          0.8885761499404907,
          0.7901067137718201,
          0.752985417842865,
          0.6691964864730835,
          0.8713346719741821,
          0.8239189386367798,
          0.8309286236763,
          0.7352093458175659,
          0.7479649782180786,
          0.726454496383667,
          0.792442798614502,
          0.7082162499427795,
          0.9109902381896973,
          0.816802978515625,
          0.7996939420700073,
          0.877982497215271,
          0.915483295917511,
          0.902432918548584,
          0.8545147180557251,
          0.8630493879318237,
          0.8376450538635254,
          0.9281627535820007,
          0.8200249671936035,
          0.8582948446273804,
          0.8475373387336731,
          0.6321884989738464,
          0.8686677813529968,
          0.624010443687439,
          0.9175034761428833,
          0.825153648853302,
          0.9023534655570984,
          0.8799139261245728,
          0.7874952554702759,
          0.9008482694625854,
          0.6810566782951355,
          0.8723966479301453,
          0.8809525370597839,
          0.5524309277534485,
          0.7412672638893127,
          0.6479539275169373,
          0.8177472949028015,
          0.8618634343147278,
          0.891898512840271,
          0.7903664708137512,
          0.795435905456543,
          0.8418229222297668,
          0.7500053644180298,
          0.7568391561508179,
          0.819612979888916,
          0.7366389632225037,
          0.7870575189590454,
          0.8630844354629517,
          0.8993080854415894,
          0.8116700053215027,
          0.6856790781021118,
          0.9170517921447754,
          0.8754277229309082,
          0.898327648639679,
          0.864412784576416,
          0.9133026003837585,
          0.7320377826690674,
          0.8492377996444702,
          0.784382164478302,
          0.9199240803718567,
          0.8783535957336426,
          0.8806931376457214,
          0.7142351865768433,
          0.9134534001350403,
          0.8978565335273743,
          0.8008328676223755,
          0.7882856130599976,
          0.8039789199829102,
          0.8881551027297974,
          0.7887770533561707,
          0.8920947909355164,
          0.6095540523529053,
          0.8312230110168457,
          0.8351886868476868,
          0.8262783288955688,
          0.7511966228485107,
          0.8519147634506226,
          0.8057318925857544,
          0.8735092878341675,
          0.7896064519882202,
          0.9411199688911438,
          0.6819950342178345,
          0.8398553133010864,
          0.8423840403556824,
          0.7489661574363708,
          0.8699746131896973,
          0.8224517703056335,
          0.7546319365501404,
          0.9102285504341125,
          0.7020343542098999,
          0.7781995534896851,
          0.673906683921814,
          0.8736668825149536,
          0.8140300512313843,
          0.8080240488052368,
          0.8001133799552917,
          0.8127824664115906,
          0.8708767890930176,
          0.8557327389717102,
          0.7088460326194763,
          0.7930799722671509,
          0.7443164587020874,
          0.9169050455093384,
          0.8398795127868652,
          0.794280469417572,
          0.5846792459487915,
          0.668851375579834,
          0.8790395855903625,
          0.8220549821853638,
          0.6412543058395386,
          0.8703582882881165,
          0.8861549496650696,
          0.8958975076675415,
          0.9053100347518921,
          0.8383280038833618,
          0.823414146900177,
          0.9018368721008301,
          0.8001381754875183,
          0.7208049297332764,
          0.8348897695541382,
          0.7502970695495605,
          0.866511344909668,
          0.8515922427177429,
          0.6428455114364624,
          0.7998418211936951,
          0.7990586161613464,
          0.85285884141922,
          0.7560973167419434,
          0.9065211415290833,
          0.5825273394584656,
          0.6382147073745728,
          0.7556813955307007,
          0.9072631001472473,
          0.5508731603622437,
          0.8022249937057495,
          0.7095907926559448,
          0.8788935542106628,
          0.7773081660270691,
          0.8041055798530579,
          0.7948580980300903,
          0.8729286193847656,
          0.7714619040489197,
          0.7596405148506165,
          0.8663091659545898,
          0.7946181893348694,
          0.8183344006538391,
          0.7825311422348022,
          0.6588557958602905,
          0.8087531924247742,
          0.9012314081192017,
          0.749759316444397,
          0.8202230334281921,
          0.6936889886856079,
          0.8897134065628052,
          0.6974758505821228,
          0.9005845189094543,
          0.829709529876709,
          0.7833071947097778,
          0.9153663516044617,
          0.8748906254768372,
          0.8256405591964722,
          0.8481308221817017,
          0.8556510806083679,
          0.8877385258674622,
          0.7660032510757446,
          0.8352667689323425,
          0.7813645601272583,
          0.8440079689025879,
          0.8018180131912231,
          0.8558946847915649,
          0.9445594549179077,
          0.7922488451004028
         ]
        }
       ],
       "layout": {
        "shapes": [
         {
          "line": {
           "color": "blue",
           "dash": "dash",
           "width": 1
          },
          "type": "line",
          "x0": 20,
          "x1": 48,
          "y0": 0.926541268825531,
          "y1": 0.926541268825531
         },
         {
          "line": {
           "color": "red",
           "dash": "dash",
           "width": 1
          },
          "type": "line",
          "x0": 20,
          "x1": 48,
          "y0": 0.8046125173568726,
          "y1": 0.8046125173568726
         }
        ],
        "template": {
         "data": {
          "bar": [
           {
            "error_x": {
             "color": "#2a3f5f"
            },
            "error_y": {
             "color": "#2a3f5f"
            },
            "marker": {
             "line": {
              "color": "#E5ECF6",
              "width": 0.5
             },
             "pattern": {
              "fillmode": "overlay",
              "size": 10,
              "solidity": 0.2
             }
            },
            "type": "bar"
           }
          ],
          "barpolar": [
           {
            "marker": {
             "line": {
              "color": "#E5ECF6",
              "width": 0.5
             },
             "pattern": {
              "fillmode": "overlay",
              "size": 10,
              "solidity": 0.2
             }
            },
            "type": "barpolar"
           }
          ],
          "carpet": [
           {
            "aaxis": {
             "endlinecolor": "#2a3f5f",
             "gridcolor": "white",
             "linecolor": "white",
             "minorgridcolor": "white",
             "startlinecolor": "#2a3f5f"
            },
            "baxis": {
             "endlinecolor": "#2a3f5f",
             "gridcolor": "white",
             "linecolor": "white",
             "minorgridcolor": "white",
             "startlinecolor": "#2a3f5f"
            },
            "type": "carpet"
           }
          ],
          "choropleth": [
           {
            "colorbar": {
             "outlinewidth": 0,
             "ticks": ""
            },
            "type": "choropleth"
           }
          ],
          "contour": [
           {
            "colorbar": {
             "outlinewidth": 0,
             "ticks": ""
            },
            "colorscale": [
             [
              0,
              "#0d0887"
             ],
             [
              0.1111111111111111,
              "#46039f"
             ],
             [
              0.2222222222222222,
              "#7201a8"
             ],
             [
              0.3333333333333333,
              "#9c179e"
             ],
             [
              0.4444444444444444,
              "#bd3786"
             ],
             [
              0.5555555555555556,
              "#d8576b"
             ],
             [
              0.6666666666666666,
              "#ed7953"
             ],
             [
              0.7777777777777778,
              "#fb9f3a"
             ],
             [
              0.8888888888888888,
              "#fdca26"
             ],
             [
              1,
              "#f0f921"
             ]
            ],
            "type": "contour"
           }
          ],
          "contourcarpet": [
           {
            "colorbar": {
             "outlinewidth": 0,
             "ticks": ""
            },
            "type": "contourcarpet"
           }
          ],
          "heatmap": [
           {
            "colorbar": {
             "outlinewidth": 0,
             "ticks": ""
            },
            "colorscale": [
             [
              0,
              "#0d0887"
             ],
             [
              0.1111111111111111,
              "#46039f"
             ],
             [
              0.2222222222222222,
              "#7201a8"
             ],
             [
              0.3333333333333333,
              "#9c179e"
             ],
             [
              0.4444444444444444,
              "#bd3786"
             ],
             [
              0.5555555555555556,
              "#d8576b"
             ],
             [
              0.6666666666666666,
              "#ed7953"
             ],
             [
              0.7777777777777778,
              "#fb9f3a"
             ],
             [
              0.8888888888888888,
              "#fdca26"
             ],
             [
              1,
              "#f0f921"
             ]
            ],
            "type": "heatmap"
           }
          ],
          "heatmapgl": [
           {
            "colorbar": {
             "outlinewidth": 0,
             "ticks": ""
            },
            "colorscale": [
             [
              0,
              "#0d0887"
             ],
             [
              0.1111111111111111,
              "#46039f"
             ],
             [
              0.2222222222222222,
              "#7201a8"
             ],
             [
              0.3333333333333333,
              "#9c179e"
             ],
             [
              0.4444444444444444,
              "#bd3786"
             ],
             [
              0.5555555555555556,
              "#d8576b"
             ],
             [
              0.6666666666666666,
              "#ed7953"
             ],
             [
              0.7777777777777778,
              "#fb9f3a"
             ],
             [
              0.8888888888888888,
              "#fdca26"
             ],
             [
              1,
              "#f0f921"
             ]
            ],
            "type": "heatmapgl"
           }
          ],
          "histogram": [
           {
            "marker": {
             "pattern": {
              "fillmode": "overlay",
              "size": 10,
              "solidity": 0.2
             }
            },
            "type": "histogram"
           }
          ],
          "histogram2d": [
           {
            "colorbar": {
             "outlinewidth": 0,
             "ticks": ""
            },
            "colorscale": [
             [
              0,
              "#0d0887"
             ],
             [
              0.1111111111111111,
              "#46039f"
             ],
             [
              0.2222222222222222,
              "#7201a8"
             ],
             [
              0.3333333333333333,
              "#9c179e"
             ],
             [
              0.4444444444444444,
              "#bd3786"
             ],
             [
              0.5555555555555556,
              "#d8576b"
             ],
             [
              0.6666666666666666,
              "#ed7953"
             ],
             [
              0.7777777777777778,
              "#fb9f3a"
             ],
             [
              0.8888888888888888,
              "#fdca26"
             ],
             [
              1,
              "#f0f921"
             ]
            ],
            "type": "histogram2d"
           }
          ],
          "histogram2dcontour": [
           {
            "colorbar": {
             "outlinewidth": 0,
             "ticks": ""
            },
            "colorscale": [
             [
              0,
              "#0d0887"
             ],
             [
              0.1111111111111111,
              "#46039f"
             ],
             [
              0.2222222222222222,
              "#7201a8"
             ],
             [
              0.3333333333333333,
              "#9c179e"
             ],
             [
              0.4444444444444444,
              "#bd3786"
             ],
             [
              0.5555555555555556,
              "#d8576b"
             ],
             [
              0.6666666666666666,
              "#ed7953"
             ],
             [
              0.7777777777777778,
              "#fb9f3a"
             ],
             [
              0.8888888888888888,
              "#fdca26"
             ],
             [
              1,
              "#f0f921"
             ]
            ],
            "type": "histogram2dcontour"
           }
          ],
          "mesh3d": [
           {
            "colorbar": {
             "outlinewidth": 0,
             "ticks": ""
            },
            "type": "mesh3d"
           }
          ],
          "parcoords": [
           {
            "line": {
             "colorbar": {
              "outlinewidth": 0,
              "ticks": ""
             }
            },
            "type": "parcoords"
           }
          ],
          "pie": [
           {
            "automargin": true,
            "type": "pie"
           }
          ],
          "scatter": [
           {
            "fillpattern": {
             "fillmode": "overlay",
             "size": 10,
             "solidity": 0.2
            },
            "type": "scatter"
           }
          ],
          "scatter3d": [
           {
            "line": {
             "colorbar": {
              "outlinewidth": 0,
              "ticks": ""
             }
            },
            "marker": {
             "colorbar": {
              "outlinewidth": 0,
              "ticks": ""
             }
            },
            "type": "scatter3d"
           }
          ],
          "scattercarpet": [
           {
            "marker": {
             "colorbar": {
              "outlinewidth": 0,
              "ticks": ""
             }
            },
            "type": "scattercarpet"
           }
          ],
          "scattergeo": [
           {
            "marker": {
             "colorbar": {
              "outlinewidth": 0,
              "ticks": ""
             }
            },
            "type": "scattergeo"
           }
          ],
          "scattergl": [
           {
            "marker": {
             "colorbar": {
              "outlinewidth": 0,
              "ticks": ""
             }
            },
            "type": "scattergl"
           }
          ],
          "scattermapbox": [
           {
            "marker": {
             "colorbar": {
              "outlinewidth": 0,
              "ticks": ""
             }
            },
            "type": "scattermapbox"
           }
          ],
          "scatterpolar": [
           {
            "marker": {
             "colorbar": {
              "outlinewidth": 0,
              "ticks": ""
             }
            },
            "type": "scatterpolar"
           }
          ],
          "scatterpolargl": [
           {
            "marker": {
             "colorbar": {
              "outlinewidth": 0,
              "ticks": ""
             }
            },
            "type": "scatterpolargl"
           }
          ],
          "scatterternary": [
           {
            "marker": {
             "colorbar": {
              "outlinewidth": 0,
              "ticks": ""
             }
            },
            "type": "scatterternary"
           }
          ],
          "surface": [
           {
            "colorbar": {
             "outlinewidth": 0,
             "ticks": ""
            },
            "colorscale": [
             [
              0,
              "#0d0887"
             ],
             [
              0.1111111111111111,
              "#46039f"
             ],
             [
              0.2222222222222222,
              "#7201a8"
             ],
             [
              0.3333333333333333,
              "#9c179e"
             ],
             [
              0.4444444444444444,
              "#bd3786"
             ],
             [
              0.5555555555555556,
              "#d8576b"
             ],
             [
              0.6666666666666666,
              "#ed7953"
             ],
             [
              0.7777777777777778,
              "#fb9f3a"
             ],
             [
              0.8888888888888888,
              "#fdca26"
             ],
             [
              1,
              "#f0f921"
             ]
            ],
            "type": "surface"
           }
          ],
          "table": [
           {
            "cells": {
             "fill": {
              "color": "#EBF0F8"
             },
             "line": {
              "color": "white"
             }
            },
            "header": {
             "fill": {
              "color": "#C8D4E3"
             },
             "line": {
              "color": "white"
             }
            },
            "type": "table"
           }
          ]
         },
         "layout": {
          "annotationdefaults": {
           "arrowcolor": "#2a3f5f",
           "arrowhead": 0,
           "arrowwidth": 1
          },
          "autotypenumbers": "strict",
          "coloraxis": {
           "colorbar": {
            "outlinewidth": 0,
            "ticks": ""
           }
          },
          "colorscale": {
           "diverging": [
            [
             0,
             "#8e0152"
            ],
            [
             0.1,
             "#c51b7d"
            ],
            [
             0.2,
             "#de77ae"
            ],
            [
             0.3,
             "#f1b6da"
            ],
            [
             0.4,
             "#fde0ef"
            ],
            [
             0.5,
             "#f7f7f7"
            ],
            [
             0.6,
             "#e6f5d0"
            ],
            [
             0.7,
             "#b8e186"
            ],
            [
             0.8,
             "#7fbc41"
            ],
            [
             0.9,
             "#4d9221"
            ],
            [
             1,
             "#276419"
            ]
           ],
           "sequential": [
            [
             0,
             "#0d0887"
            ],
            [
             0.1111111111111111,
             "#46039f"
            ],
            [
             0.2222222222222222,
             "#7201a8"
            ],
            [
             0.3333333333333333,
             "#9c179e"
            ],
            [
             0.4444444444444444,
             "#bd3786"
            ],
            [
             0.5555555555555556,
             "#d8576b"
            ],
            [
             0.6666666666666666,
             "#ed7953"
            ],
            [
             0.7777777777777778,
             "#fb9f3a"
            ],
            [
             0.8888888888888888,
             "#fdca26"
            ],
            [
             1,
             "#f0f921"
            ]
           ],
           "sequentialminus": [
            [
             0,
             "#0d0887"
            ],
            [
             0.1111111111111111,
             "#46039f"
            ],
            [
             0.2222222222222222,
             "#7201a8"
            ],
            [
             0.3333333333333333,
             "#9c179e"
            ],
            [
             0.4444444444444444,
             "#bd3786"
            ],
            [
             0.5555555555555556,
             "#d8576b"
            ],
            [
             0.6666666666666666,
             "#ed7953"
            ],
            [
             0.7777777777777778,
             "#fb9f3a"
            ],
            [
             0.8888888888888888,
             "#fdca26"
            ],
            [
             1,
             "#f0f921"
            ]
           ]
          },
          "colorway": [
           "#636efa",
           "#EF553B",
           "#00cc96",
           "#ab63fa",
           "#FFA15A",
           "#19d3f3",
           "#FF6692",
           "#B6E880",
           "#FF97FF",
           "#FECB52"
          ],
          "font": {
           "color": "#2a3f5f"
          },
          "geo": {
           "bgcolor": "white",
           "lakecolor": "white",
           "landcolor": "#E5ECF6",
           "showlakes": true,
           "showland": true,
           "subunitcolor": "white"
          },
          "hoverlabel": {
           "align": "left"
          },
          "hovermode": "closest",
          "mapbox": {
           "style": "light"
          },
          "paper_bgcolor": "white",
          "plot_bgcolor": "#E5ECF6",
          "polar": {
           "angularaxis": {
            "gridcolor": "white",
            "linecolor": "white",
            "ticks": ""
           },
           "bgcolor": "#E5ECF6",
           "radialaxis": {
            "gridcolor": "white",
            "linecolor": "white",
            "ticks": ""
           }
          },
          "scene": {
           "xaxis": {
            "backgroundcolor": "#E5ECF6",
            "gridcolor": "white",
            "gridwidth": 2,
            "linecolor": "white",
            "showbackground": true,
            "ticks": "",
            "zerolinecolor": "white"
           },
           "yaxis": {
            "backgroundcolor": "#E5ECF6",
            "gridcolor": "white",
            "gridwidth": 2,
            "linecolor": "white",
            "showbackground": true,
            "ticks": "",
            "zerolinecolor": "white"
           },
           "zaxis": {
            "backgroundcolor": "#E5ECF6",
            "gridcolor": "white",
            "gridwidth": 2,
            "linecolor": "white",
            "showbackground": true,
            "ticks": "",
            "zerolinecolor": "white"
           }
          },
          "shapedefaults": {
           "line": {
            "color": "#2a3f5f"
           }
          },
          "ternary": {
           "aaxis": {
            "gridcolor": "white",
            "linecolor": "white",
            "ticks": ""
           },
           "baxis": {
            "gridcolor": "white",
            "linecolor": "white",
            "ticks": ""
           },
           "bgcolor": "#E5ECF6",
           "caxis": {
            "gridcolor": "white",
            "linecolor": "white",
            "ticks": ""
           }
          },
          "title": {
           "x": 0.05
          },
          "xaxis": {
           "automargin": true,
           "gridcolor": "white",
           "linecolor": "white",
           "ticks": "",
           "title": {
            "standoff": 15
           },
           "zerolinecolor": "white",
           "zerolinewidth": 2
          },
          "yaxis": {
           "automargin": true,
           "gridcolor": "white",
           "linecolor": "white",
           "ticks": "",
           "title": {
            "standoff": 15
           },
           "zerolinecolor": "white",
           "zerolinewidth": 2
          }
         }
        },
        "title": {
         "text": "Similarity score vs t_max"
        },
        "xaxis": {
         "title": {
          "text": "t_max(hours)"
         }
        },
        "yaxis": {
         "title": {
          "text": "Similarity score"
         }
        }
       }
      },
      "text/html": [
       "<div>                            <div id=\"b06061b7-6aa0-4e87-aabf-290256995099\" class=\"plotly-graph-div\" style=\"height:525px; width:100%;\"></div>            <script type=\"text/javascript\">                require([\"plotly\"], function(Plotly) {                    window.PLOTLYENV=window.PLOTLYENV || {};                                    if (document.getElementById(\"b06061b7-6aa0-4e87-aabf-290256995099\")) {                    Plotly.newPlot(                        \"b06061b7-6aa0-4e87-aabf-290256995099\",                        [{\"marker\":{\"color\":\"blue\",\"size\":5},\"mode\":\"markers\",\"name\":\"TEE+DAM\",\"x\":[47.28333282470703,46.150001525878906,23.383333206176758,41.233333587646484,30.616666793823242,45.13333511352539,26.950000762939453,47.43333435058594,47.849998474121094,47.63333511352539,47.83333206176758,44.56666564941406,46.96666717529297,42.08333206176758,47.75,47.900001525878906,44.70000076293945,44.06666564941406,46.29999923706055,44.38333511352539,45.96666717529297,45.733333587646484,47.0,37.95000076293945,46.81666564941406,39.46666717529297,45.41666793823242,47.04999923706055,44.483333587646484,47.53333282470703,46.75,40.08333206176758,32.95000076293945,46.983333587646484,47.11666488647461,46.70000076293945,47.86666488647461,36.45000076293945,47.81666564941406,44.63333511352539,45.733333587646484,45.516666412353516,47.63333511352539,43.650001525878906,32.79999923706055,47.70000076293945,28.066667556762695,47.86666488647461,47.33333206176758,30.399999618530273,47.75,47.983333587646484,47.400001525878906,47.483333587646484,46.93333435058594,46.56666564941406,47.75,46.95000076293945,47.86666488647461,32.900001525878906,46.983333587646484,44.45000076293945,46.650001525878906,45.75,47.68333435058594,46.95000076293945,37.5,46.516666412353516,42.06666564941406,47.31666564941406,46.650001525878906,42.18333435058594,47.54999923706055,29.03333282470703,36.83333206176758,44.38333511352539,47.38333511352539,47.86666488647461,47.56666564941406,45.233333587646484,47.20000076293945,46.83333206176758,45.5,28.616666793823242,47.983333587646484,46.79999923706055,47.849998474121094,47.95000076293945,47.91666793823242,47.733333587646484,47.516666412353516,47.983333587646484,46.11666488647461,45.483333587646484,47.43333435058594,43.766666412353516,47.78333282470703,45.83333206176758,46.483333587646484,43.599998474121094,47.766666412353516,47.71666717529297,47.81666564941406,45.68333435058594,47.400001525878906,40.16666793823242,34.88333511352539,45.400001525878906,46.79999923706055,38.900001525878906,47.88333511352539,47.5,47.86666488647461,45.16666793823242,47.766666412353516,46.016666412353516,42.599998474121094,47.96666717529297,46.03333282470703,39.45000076293945,43.11666488647461,39.28333282470703,40.766666412353516,47.93333435058594,45.733333587646484,47.78333282470703,46.83333206176758,47.86666488647461,48.0,45.0,46.11666488647461,40.29999923706055,47.79999923706055,46.03333282470703,41.33333206176758,42.0,47.150001525878906,45.79999923706055,47.766666412353516,42.21666717529297,47.266666412353516,35.71666717529297,45.58333206176758,44.83333206176758,44.41666793823242,42.099998474121094,39.11666488647461,46.016666412353516,47.13333511352539,33.75,47.33333206176758,44.733333587646484,46.58333206176758,38.13333511352539,41.43333435058594,47.516666412353516,42.483333587646484,45.349998474121094,43.70000076293945,47.86666488647461,46.71666717529297,44.53333282470703,46.63333511352539,47.46666717529297,47.983333587646484,46.5,47.150001525878906,46.70000076293945,44.06666564941406,47.86666488647461,47.63333511352539,45.70000076293945,46.71666717529297,47.349998474121094,45.79999923706055,47.150001525878906,46.68333435058594,45.150001525878906,47.53333282470703,45.33333206176758,46.733333587646484,47.29999923706055,46.766666412353516,43.5,45.25,47.88333511352539,47.150001525878906,46.016666412353516],\"y\":[0.8458577990531921,0.8448979258537292,0.9470160603523254,0.905168354511261,0.9288545846939087,0.9347201585769653,0.9128831028938293,0.9452621340751648,0.9142209887504578,0.9492537379264832,0.9550608396530151,0.9350430369377136,0.9599591493606567,0.9175819158554077,0.9717419743537903,0.9257283210754395,0.9585111737251282,0.9518753290176392,0.9102161526679993,0.8479077219963074,0.8702025413513184,0.8583611249923706,0.8309685587882996,0.9190970659255981,0.9357618093490601,0.9071843028068542,0.9254609942436218,0.9407675862312317,0.9545719027519226,0.8929769396781921,0.9051219820976257,0.90116947889328,0.8733593821525574,0.960843563079834,0.9241276979446411,0.9223520159721375,0.9216283559799194,0.8865262866020203,0.9665924310684204,0.8861625790596008,0.9426981806755066,0.948350727558136,0.9693967700004578,0.9410337209701538,0.8861778378486633,0.9357558488845825,0.9376281499862671,0.9207218885421753,0.9413455128669739,0.8984030485153198,0.823747992515564,0.9674212336540222,0.932822048664093,0.936486542224884,0.9409043192863464,0.9445006251335144,0.9223434329032898,0.9474660158157349,0.9449206590652466,0.9187017679214478,0.9535543322563171,0.9504204988479614,0.9510952234268188,0.8788812756538391,0.9559761881828308,0.9686951637268066,0.9406167268753052,0.9440786242485046,0.8880217671394348,0.8659180402755737,0.9349024891853333,0.9510028958320618,0.8819648027420044,0.9742267727851868,0.9193107485771179,0.9385116696357727,0.9621553421020508,0.9391270875930786,0.9710837602615356,0.9414690136909485,0.9699229001998901,0.856305718421936,0.8374475240707397,0.9244344830513,0.9592455625534058,0.9740937352180481,0.9396810531616211,0.9724275469779968,0.9480594396591187,0.9491346478462219,0.9630039930343628,0.8964599370956421,0.9395157098770142,0.9148613810539246,0.9501857757568359,0.9456640481948853,0.9209082722663879,0.972253143787384,0.9401068687438965,0.9680889844894409,0.9431201219558716,0.9187526702880859,0.8855007886886597,0.8827847242355347,0.9561017155647278,0.9014089703559875,0.8788892030715942,0.94707190990448,0.9597382545471191,0.9265649914741516,0.9306080937385559,0.9181607961654663,0.9445109367370605,0.9488576650619507,0.9504984021186829,0.9076992273330688,0.9334567785263062,0.897297203540802,0.9576712846755981,0.8953434228897095,0.8959954380989075,0.882807731628418,0.8977817296981812,0.9315314292907715,0.9533790349960327,0.9153526425361633,0.9285033941268921,0.9181208610534668,0.9387794733047485,0.9590425491333008,0.9327276349067688,0.9287034273147583,0.9363179206848145,0.9437965154647827,0.9265257120132446,0.870288074016571,0.9396766424179077,0.9403042793273926,0.9530699849128723,0.8188460469245911,0.9423638582229614,0.8925437927246094,0.9451554417610168,0.945978045463562,0.9585655331611633,0.9598458409309387,0.8985444903373718,0.8511972427368164,0.9172318577766418,0.9288619160652161,0.916252613067627,0.8845823407173157,0.9193196296691895,0.8647360801696777,0.926082968711853,0.9392842054367065,0.952957034111023,0.9536496996879578,0.9493324160575867,0.9238320589065552,0.9425747990608215,0.935596764087677,0.9250189661979675,0.964472770690918,0.9462542533874512,0.9603826403617859,0.9714973568916321,0.8799412846565247,0.9117366671562195,0.9735347628593445,0.8837035894393921,0.9286783337593079,0.9310340881347656,0.8803460001945496,0.936897873878479,0.9546663165092468,0.9576619863510132,0.9416776895523071,0.9451898336410522,0.9455512166023254,0.945170521736145,0.9408081769943237,0.9062272310256958,0.9225546717643738,0.9371665120124817,0.9113519787788391,0.9341176152229309,0.9114006161689758],\"type\":\"scatter\"},{\"marker\":{\"color\":\"red\",\"size\":5},\"mode\":\"markers\",\"name\":\"DAM\",\"x\":[47.28333282470703,46.150001525878906,23.383333206176758,41.233333587646484,30.616666793823242,45.13333511352539,26.950000762939453,47.43333435058594,47.849998474121094,47.63333511352539,47.83333206176758,44.56666564941406,46.96666717529297,42.08333206176758,47.75,47.900001525878906,44.70000076293945,44.06666564941406,46.29999923706055,44.38333511352539,45.96666717529297,45.733333587646484,47.0,37.95000076293945,46.81666564941406,39.46666717529297,45.41666793823242,47.04999923706055,44.483333587646484,47.53333282470703,46.75,40.08333206176758,32.95000076293945,46.983333587646484,47.11666488647461,46.70000076293945,47.86666488647461,36.45000076293945,47.81666564941406,44.63333511352539,45.733333587646484,45.516666412353516,47.63333511352539,43.650001525878906,32.79999923706055,47.70000076293945,28.066667556762695,47.86666488647461,47.33333206176758,30.399999618530273,47.75,47.983333587646484,47.400001525878906,47.483333587646484,46.93333435058594,46.56666564941406,47.75,46.95000076293945,47.86666488647461,32.900001525878906,46.983333587646484,44.45000076293945,46.650001525878906,45.75,47.68333435058594,46.95000076293945,37.5,46.516666412353516,42.06666564941406,47.31666564941406,46.650001525878906,42.18333435058594,47.54999923706055,29.03333282470703,36.83333206176758,44.38333511352539,47.38333511352539,47.86666488647461,47.56666564941406,45.233333587646484,47.20000076293945,46.83333206176758,45.5,28.616666793823242,47.983333587646484,46.79999923706055,47.849998474121094,47.95000076293945,47.91666793823242,47.733333587646484,47.516666412353516,47.983333587646484,46.11666488647461,45.483333587646484,47.43333435058594,43.766666412353516,47.78333282470703,45.83333206176758,46.483333587646484,43.599998474121094,47.766666412353516,47.71666717529297,47.81666564941406,45.68333435058594,47.400001525878906,40.16666793823242,34.88333511352539,45.400001525878906,46.79999923706055,38.900001525878906,47.88333511352539,47.5,47.86666488647461,45.16666793823242,47.766666412353516,46.016666412353516,42.599998474121094,47.96666717529297,46.03333282470703,39.45000076293945,43.11666488647461,39.28333282470703,40.766666412353516,47.93333435058594,45.733333587646484,47.78333282470703,46.83333206176758,47.86666488647461,48.0,45.0,46.11666488647461,40.29999923706055,47.79999923706055,46.03333282470703,41.33333206176758,42.0,47.150001525878906,45.79999923706055,47.766666412353516,42.21666717529297,47.266666412353516,35.71666717529297,45.58333206176758,44.83333206176758,44.41666793823242,42.099998474121094,39.11666488647461,46.016666412353516,47.13333511352539,33.75,47.33333206176758,44.733333587646484,46.58333206176758,38.13333511352539,41.43333435058594,47.516666412353516,42.483333587646484,45.349998474121094,43.70000076293945,47.86666488647461,46.71666717529297,44.53333282470703,46.63333511352539,47.46666717529297,47.983333587646484,46.5,47.150001525878906,46.70000076293945,44.06666564941406,47.86666488647461,47.63333511352539,45.70000076293945,46.71666717529297,47.349998474121094,45.79999923706055,47.150001525878906,46.68333435058594,45.150001525878906,47.53333282470703,45.33333206176758,46.733333587646484,47.29999923706055,46.766666412353516,43.5,45.25,47.88333511352539,47.150001525878906,46.016666412353516],\"y\":[0.7191519737243652,0.6658405661582947,0.5809860825538635,0.8379141092300415,0.5716394782066345,0.7656046152114868,0.4469732642173767,0.7309078574180603,0.8800322413444519,0.9031820297241211,0.8455580472946167,0.8249984979629517,0.8885761499404907,0.7901067137718201,0.752985417842865,0.6691964864730835,0.8713346719741821,0.8239189386367798,0.8309286236763,0.7352093458175659,0.7479649782180786,0.726454496383667,0.792442798614502,0.7082162499427795,0.9109902381896973,0.816802978515625,0.7996939420700073,0.877982497215271,0.915483295917511,0.902432918548584,0.8545147180557251,0.8630493879318237,0.8376450538635254,0.9281627535820007,0.8200249671936035,0.8582948446273804,0.8475373387336731,0.6321884989738464,0.8686677813529968,0.624010443687439,0.9175034761428833,0.825153648853302,0.9023534655570984,0.8799139261245728,0.7874952554702759,0.9008482694625854,0.6810566782951355,0.8723966479301453,0.8809525370597839,0.5524309277534485,0.7412672638893127,0.6479539275169373,0.8177472949028015,0.8618634343147278,0.891898512840271,0.7903664708137512,0.795435905456543,0.8418229222297668,0.7500053644180298,0.7568391561508179,0.819612979888916,0.7366389632225037,0.7870575189590454,0.8630844354629517,0.8993080854415894,0.8116700053215027,0.6856790781021118,0.9170517921447754,0.8754277229309082,0.898327648639679,0.864412784576416,0.9133026003837585,0.7320377826690674,0.8492377996444702,0.784382164478302,0.9199240803718567,0.8783535957336426,0.8806931376457214,0.7142351865768433,0.9134534001350403,0.8978565335273743,0.8008328676223755,0.7882856130599976,0.8039789199829102,0.8881551027297974,0.7887770533561707,0.8920947909355164,0.6095540523529053,0.8312230110168457,0.8351886868476868,0.8262783288955688,0.7511966228485107,0.8519147634506226,0.8057318925857544,0.8735092878341675,0.7896064519882202,0.9411199688911438,0.6819950342178345,0.8398553133010864,0.8423840403556824,0.7489661574363708,0.8699746131896973,0.8224517703056335,0.7546319365501404,0.9102285504341125,0.7020343542098999,0.7781995534896851,0.673906683921814,0.8736668825149536,0.8140300512313843,0.8080240488052368,0.8001133799552917,0.8127824664115906,0.8708767890930176,0.8557327389717102,0.7088460326194763,0.7930799722671509,0.7443164587020874,0.9169050455093384,0.8398795127868652,0.794280469417572,0.5846792459487915,0.668851375579834,0.8790395855903625,0.8220549821853638,0.6412543058395386,0.8703582882881165,0.8861549496650696,0.8958975076675415,0.9053100347518921,0.8383280038833618,0.823414146900177,0.9018368721008301,0.8001381754875183,0.7208049297332764,0.8348897695541382,0.7502970695495605,0.866511344909668,0.8515922427177429,0.6428455114364624,0.7998418211936951,0.7990586161613464,0.85285884141922,0.7560973167419434,0.9065211415290833,0.5825273394584656,0.6382147073745728,0.7556813955307007,0.9072631001472473,0.5508731603622437,0.8022249937057495,0.7095907926559448,0.8788935542106628,0.7773081660270691,0.8041055798530579,0.7948580980300903,0.8729286193847656,0.7714619040489197,0.7596405148506165,0.8663091659545898,0.7946181893348694,0.8183344006538391,0.7825311422348022,0.6588557958602905,0.8087531924247742,0.9012314081192017,0.749759316444397,0.8202230334281921,0.6936889886856079,0.8897134065628052,0.6974758505821228,0.9005845189094543,0.829709529876709,0.7833071947097778,0.9153663516044617,0.8748906254768372,0.8256405591964722,0.8481308221817017,0.8556510806083679,0.8877385258674622,0.7660032510757446,0.8352667689323425,0.7813645601272583,0.8440079689025879,0.8018180131912231,0.8558946847915649,0.9445594549179077,0.7922488451004028],\"type\":\"scatter\"}],                        {\"template\":{\"data\":{\"histogram2dcontour\":[{\"type\":\"histogram2dcontour\",\"colorbar\":{\"outlinewidth\":0,\"ticks\":\"\"},\"colorscale\":[[0.0,\"#0d0887\"],[0.1111111111111111,\"#46039f\"],[0.2222222222222222,\"#7201a8\"],[0.3333333333333333,\"#9c179e\"],[0.4444444444444444,\"#bd3786\"],[0.5555555555555556,\"#d8576b\"],[0.6666666666666666,\"#ed7953\"],[0.7777777777777778,\"#fb9f3a\"],[0.8888888888888888,\"#fdca26\"],[1.0,\"#f0f921\"]]}],\"choropleth\":[{\"type\":\"choropleth\",\"colorbar\":{\"outlinewidth\":0,\"ticks\":\"\"}}],\"histogram2d\":[{\"type\":\"histogram2d\",\"colorbar\":{\"outlinewidth\":0,\"ticks\":\"\"},\"colorscale\":[[0.0,\"#0d0887\"],[0.1111111111111111,\"#46039f\"],[0.2222222222222222,\"#7201a8\"],[0.3333333333333333,\"#9c179e\"],[0.4444444444444444,\"#bd3786\"],[0.5555555555555556,\"#d8576b\"],[0.6666666666666666,\"#ed7953\"],[0.7777777777777778,\"#fb9f3a\"],[0.8888888888888888,\"#fdca26\"],[1.0,\"#f0f921\"]]}],\"heatmap\":[{\"type\":\"heatmap\",\"colorbar\":{\"outlinewidth\":0,\"ticks\":\"\"},\"colorscale\":[[0.0,\"#0d0887\"],[0.1111111111111111,\"#46039f\"],[0.2222222222222222,\"#7201a8\"],[0.3333333333333333,\"#9c179e\"],[0.4444444444444444,\"#bd3786\"],[0.5555555555555556,\"#d8576b\"],[0.6666666666666666,\"#ed7953\"],[0.7777777777777778,\"#fb9f3a\"],[0.8888888888888888,\"#fdca26\"],[1.0,\"#f0f921\"]]}],\"heatmapgl\":[{\"type\":\"heatmapgl\",\"colorbar\":{\"outlinewidth\":0,\"ticks\":\"\"},\"colorscale\":[[0.0,\"#0d0887\"],[0.1111111111111111,\"#46039f\"],[0.2222222222222222,\"#7201a8\"],[0.3333333333333333,\"#9c179e\"],[0.4444444444444444,\"#bd3786\"],[0.5555555555555556,\"#d8576b\"],[0.6666666666666666,\"#ed7953\"],[0.7777777777777778,\"#fb9f3a\"],[0.8888888888888888,\"#fdca26\"],[1.0,\"#f0f921\"]]}],\"contourcarpet\":[{\"type\":\"contourcarpet\",\"colorbar\":{\"outlinewidth\":0,\"ticks\":\"\"}}],\"contour\":[{\"type\":\"contour\",\"colorbar\":{\"outlinewidth\":0,\"ticks\":\"\"},\"colorscale\":[[0.0,\"#0d0887\"],[0.1111111111111111,\"#46039f\"],[0.2222222222222222,\"#7201a8\"],[0.3333333333333333,\"#9c179e\"],[0.4444444444444444,\"#bd3786\"],[0.5555555555555556,\"#d8576b\"],[0.6666666666666666,\"#ed7953\"],[0.7777777777777778,\"#fb9f3a\"],[0.8888888888888888,\"#fdca26\"],[1.0,\"#f0f921\"]]}],\"surface\":[{\"type\":\"surface\",\"colorbar\":{\"outlinewidth\":0,\"ticks\":\"\"},\"colorscale\":[[0.0,\"#0d0887\"],[0.1111111111111111,\"#46039f\"],[0.2222222222222222,\"#7201a8\"],[0.3333333333333333,\"#9c179e\"],[0.4444444444444444,\"#bd3786\"],[0.5555555555555556,\"#d8576b\"],[0.6666666666666666,\"#ed7953\"],[0.7777777777777778,\"#fb9f3a\"],[0.8888888888888888,\"#fdca26\"],[1.0,\"#f0f921\"]]}],\"mesh3d\":[{\"type\":\"mesh3d\",\"colorbar\":{\"outlinewidth\":0,\"ticks\":\"\"}}],\"scatter\":[{\"fillpattern\":{\"fillmode\":\"overlay\",\"size\":10,\"solidity\":0.2},\"type\":\"scatter\"}],\"parcoords\":[{\"type\":\"parcoords\",\"line\":{\"colorbar\":{\"outlinewidth\":0,\"ticks\":\"\"}}}],\"scatterpolargl\":[{\"type\":\"scatterpolargl\",\"marker\":{\"colorbar\":{\"outlinewidth\":0,\"ticks\":\"\"}}}],\"bar\":[{\"error_x\":{\"color\":\"#2a3f5f\"},\"error_y\":{\"color\":\"#2a3f5f\"},\"marker\":{\"line\":{\"color\":\"#E5ECF6\",\"width\":0.5},\"pattern\":{\"fillmode\":\"overlay\",\"size\":10,\"solidity\":0.2}},\"type\":\"bar\"}],\"scattergeo\":[{\"type\":\"scattergeo\",\"marker\":{\"colorbar\":{\"outlinewidth\":0,\"ticks\":\"\"}}}],\"scatterpolar\":[{\"type\":\"scatterpolar\",\"marker\":{\"colorbar\":{\"outlinewidth\":0,\"ticks\":\"\"}}}],\"histogram\":[{\"marker\":{\"pattern\":{\"fillmode\":\"overlay\",\"size\":10,\"solidity\":0.2}},\"type\":\"histogram\"}],\"scattergl\":[{\"type\":\"scattergl\",\"marker\":{\"colorbar\":{\"outlinewidth\":0,\"ticks\":\"\"}}}],\"scatter3d\":[{\"type\":\"scatter3d\",\"line\":{\"colorbar\":{\"outlinewidth\":0,\"ticks\":\"\"}},\"marker\":{\"colorbar\":{\"outlinewidth\":0,\"ticks\":\"\"}}}],\"scattermapbox\":[{\"type\":\"scattermapbox\",\"marker\":{\"colorbar\":{\"outlinewidth\":0,\"ticks\":\"\"}}}],\"scatterternary\":[{\"type\":\"scatterternary\",\"marker\":{\"colorbar\":{\"outlinewidth\":0,\"ticks\":\"\"}}}],\"scattercarpet\":[{\"type\":\"scattercarpet\",\"marker\":{\"colorbar\":{\"outlinewidth\":0,\"ticks\":\"\"}}}],\"carpet\":[{\"aaxis\":{\"endlinecolor\":\"#2a3f5f\",\"gridcolor\":\"white\",\"linecolor\":\"white\",\"minorgridcolor\":\"white\",\"startlinecolor\":\"#2a3f5f\"},\"baxis\":{\"endlinecolor\":\"#2a3f5f\",\"gridcolor\":\"white\",\"linecolor\":\"white\",\"minorgridcolor\":\"white\",\"startlinecolor\":\"#2a3f5f\"},\"type\":\"carpet\"}],\"table\":[{\"cells\":{\"fill\":{\"color\":\"#EBF0F8\"},\"line\":{\"color\":\"white\"}},\"header\":{\"fill\":{\"color\":\"#C8D4E3\"},\"line\":{\"color\":\"white\"}},\"type\":\"table\"}],\"barpolar\":[{\"marker\":{\"line\":{\"color\":\"#E5ECF6\",\"width\":0.5},\"pattern\":{\"fillmode\":\"overlay\",\"size\":10,\"solidity\":0.2}},\"type\":\"barpolar\"}],\"pie\":[{\"automargin\":true,\"type\":\"pie\"}]},\"layout\":{\"autotypenumbers\":\"strict\",\"colorway\":[\"#636efa\",\"#EF553B\",\"#00cc96\",\"#ab63fa\",\"#FFA15A\",\"#19d3f3\",\"#FF6692\",\"#B6E880\",\"#FF97FF\",\"#FECB52\"],\"font\":{\"color\":\"#2a3f5f\"},\"hovermode\":\"closest\",\"hoverlabel\":{\"align\":\"left\"},\"paper_bgcolor\":\"white\",\"plot_bgcolor\":\"#E5ECF6\",\"polar\":{\"bgcolor\":\"#E5ECF6\",\"angularaxis\":{\"gridcolor\":\"white\",\"linecolor\":\"white\",\"ticks\":\"\"},\"radialaxis\":{\"gridcolor\":\"white\",\"linecolor\":\"white\",\"ticks\":\"\"}},\"ternary\":{\"bgcolor\":\"#E5ECF6\",\"aaxis\":{\"gridcolor\":\"white\",\"linecolor\":\"white\",\"ticks\":\"\"},\"baxis\":{\"gridcolor\":\"white\",\"linecolor\":\"white\",\"ticks\":\"\"},\"caxis\":{\"gridcolor\":\"white\",\"linecolor\":\"white\",\"ticks\":\"\"}},\"coloraxis\":{\"colorbar\":{\"outlinewidth\":0,\"ticks\":\"\"}},\"colorscale\":{\"sequential\":[[0.0,\"#0d0887\"],[0.1111111111111111,\"#46039f\"],[0.2222222222222222,\"#7201a8\"],[0.3333333333333333,\"#9c179e\"],[0.4444444444444444,\"#bd3786\"],[0.5555555555555556,\"#d8576b\"],[0.6666666666666666,\"#ed7953\"],[0.7777777777777778,\"#fb9f3a\"],[0.8888888888888888,\"#fdca26\"],[1.0,\"#f0f921\"]],\"sequentialminus\":[[0.0,\"#0d0887\"],[0.1111111111111111,\"#46039f\"],[0.2222222222222222,\"#7201a8\"],[0.3333333333333333,\"#9c179e\"],[0.4444444444444444,\"#bd3786\"],[0.5555555555555556,\"#d8576b\"],[0.6666666666666666,\"#ed7953\"],[0.7777777777777778,\"#fb9f3a\"],[0.8888888888888888,\"#fdca26\"],[1.0,\"#f0f921\"]],\"diverging\":[[0,\"#8e0152\"],[0.1,\"#c51b7d\"],[0.2,\"#de77ae\"],[0.3,\"#f1b6da\"],[0.4,\"#fde0ef\"],[0.5,\"#f7f7f7\"],[0.6,\"#e6f5d0\"],[0.7,\"#b8e186\"],[0.8,\"#7fbc41\"],[0.9,\"#4d9221\"],[1,\"#276419\"]]},\"xaxis\":{\"gridcolor\":\"white\",\"linecolor\":\"white\",\"ticks\":\"\",\"title\":{\"standoff\":15},\"zerolinecolor\":\"white\",\"automargin\":true,\"zerolinewidth\":2},\"yaxis\":{\"gridcolor\":\"white\",\"linecolor\":\"white\",\"ticks\":\"\",\"title\":{\"standoff\":15},\"zerolinecolor\":\"white\",\"automargin\":true,\"zerolinewidth\":2},\"scene\":{\"xaxis\":{\"backgroundcolor\":\"#E5ECF6\",\"gridcolor\":\"white\",\"linecolor\":\"white\",\"showbackground\":true,\"ticks\":\"\",\"zerolinecolor\":\"white\",\"gridwidth\":2},\"yaxis\":{\"backgroundcolor\":\"#E5ECF6\",\"gridcolor\":\"white\",\"linecolor\":\"white\",\"showbackground\":true,\"ticks\":\"\",\"zerolinecolor\":\"white\",\"gridwidth\":2},\"zaxis\":{\"backgroundcolor\":\"#E5ECF6\",\"gridcolor\":\"white\",\"linecolor\":\"white\",\"showbackground\":true,\"ticks\":\"\",\"zerolinecolor\":\"white\",\"gridwidth\":2}},\"shapedefaults\":{\"line\":{\"color\":\"#2a3f5f\"}},\"annotationdefaults\":{\"arrowcolor\":\"#2a3f5f\",\"arrowhead\":0,\"arrowwidth\":1},\"geo\":{\"bgcolor\":\"white\",\"landcolor\":\"#E5ECF6\",\"subunitcolor\":\"white\",\"showland\":true,\"showlakes\":true,\"lakecolor\":\"white\"},\"title\":{\"x\":0.05},\"mapbox\":{\"style\":\"light\"}}},\"title\":{\"text\":\"Similarity score vs t_max\"},\"xaxis\":{\"title\":{\"text\":\"t_max(hours)\"}},\"yaxis\":{\"title\":{\"text\":\"Similarity score\"}},\"shapes\":[{\"line\":{\"color\":\"blue\",\"dash\":\"dash\",\"width\":1},\"type\":\"line\",\"x0\":20,\"x1\":48.0,\"y0\":0.926541268825531,\"y1\":0.926541268825531},{\"line\":{\"color\":\"red\",\"dash\":\"dash\",\"width\":1},\"type\":\"line\",\"x0\":20,\"x1\":48.0,\"y0\":0.8046125173568726,\"y1\":0.8046125173568726}]},                        {\"responsive\": true}                    ).then(function(){\n",
       "                            \n",
       "var gd = document.getElementById('b06061b7-6aa0-4e87-aabf-290256995099');\n",
       "var x = new MutationObserver(function (mutations, observer) {{\n",
       "        var display = window.getComputedStyle(gd).display;\n",
       "        if (!display || display === 'none') {{\n",
       "            console.log([gd, 'removed!']);\n",
       "            Plotly.purge(gd);\n",
       "            observer.disconnect();\n",
       "        }}\n",
       "}});\n",
       "\n",
       "// Listen for the removal of the full notebook cells\n",
       "var notebookContainer = gd.closest('#notebook-container');\n",
       "if (notebookContainer) {{\n",
       "    x.observe(notebookContainer, {childList: true});\n",
       "}}\n",
       "\n",
       "// Listen for the clearing of the current output cell\n",
       "var outputEl = gd.closest('.output');\n",
       "if (outputEl) {{\n",
       "    x.observe(outputEl, {childList: true});\n",
       "}}\n",
       "\n",
       "                        })                };                });            </script>        </div>"
      ]
     },
     "metadata": {},
     "output_type": "display_data"
    }
   ],
   "source": [
    "# x = df1[df1.index.isin(pid_positive)].color_t_max.values\n",
    "# y = list_sim_score1#[:-2]\n",
    "# z = list_t_max_rmse1#[:-2]\n",
    "\n",
    "\n",
    "# y2 = list_sim_score2\n",
    "# z2 = list_t_max_rmse2\n",
    "\n",
    "# x.shape, len(y)\n",
    "# plotly scatter plot. x-y and x-y2\n",
    "fig = go.Figure()\n",
    "_ = fig.add_trace(go.Scatter(x=x1, y=y1, mode='markers',\n",
    "                         marker=dict(size=5, color='blue'),\n",
    "                         name='TEE+DAM'))\n",
    "_ =  fig.add_trace(go.Scatter(x=x2, y=y2, mode='markers',\n",
    "                            marker=dict(size=5, color='red'),\n",
    "                            name='DAM'))\n",
    "_ =  fig.update_layout(title='Similarity score vs t_max',\n",
    "                    xaxis_title='t_max(hours)',\n",
    "                    yaxis_title='Similarity score')\n",
    "\n",
    "# plot the means as horizontal dashed lines\n",
    "_ = fig.add_shape(type=\"line\", x0=20, y0=np.mean(y1), x1=np.max(x1), y1=np.mean(y1),\n",
    "                line=dict(color=\"blue\", width=1, dash=\"dash\"))\n",
    "_ = fig.add_shape(type=\"line\", x0=20, y0=np.mean(y2), x1=np.max(x1), y1=np.mean(y2),\n",
    "                line=dict(color=\"red\", width=1, dash=\"dash\"))\n",
    "                  \n",
    "fig.show()\n",
    "\n",
    "\n"
   ]
  },
  {
   "cell_type": "code",
   "execution_count": 80,
   "metadata": {},
   "outputs": [
    {
     "data": {
      "text/plain": [
       "((188,), 188)"
      ]
     },
     "execution_count": 80,
     "metadata": {},
     "output_type": "execute_result"
    },
    {
     "data": {
      "application/vnd.plotly.v1+json": {
       "config": {
        "plotlyServerURL": "https://plot.ly"
       },
       "data": [
        {
         "marker": {
          "color": "blue",
          "size": 5
         },
         "mode": "markers",
         "name": "TEE+DAM",
         "type": "scatter",
         "x": [
          47.28333282470703,
          46.150001525878906,
          23.383333206176758,
          41.233333587646484,
          30.616666793823242,
          45.13333511352539,
          26.950000762939453,
          47.43333435058594,
          47.849998474121094,
          47.63333511352539,
          47.83333206176758,
          44.56666564941406,
          46.96666717529297,
          42.08333206176758,
          47.75,
          47.900001525878906,
          44.70000076293945,
          44.06666564941406,
          46.29999923706055,
          44.38333511352539,
          45.96666717529297,
          45.733333587646484,
          47,
          37.95000076293945,
          46.81666564941406,
          39.46666717529297,
          45.41666793823242,
          47.04999923706055,
          44.483333587646484,
          47.53333282470703,
          46.75,
          40.08333206176758,
          32.95000076293945,
          46.983333587646484,
          47.11666488647461,
          46.70000076293945,
          47.86666488647461,
          36.45000076293945,
          47.81666564941406,
          44.63333511352539,
          45.733333587646484,
          45.516666412353516,
          47.63333511352539,
          43.650001525878906,
          32.79999923706055,
          47.70000076293945,
          28.066667556762695,
          47.86666488647461,
          47.33333206176758,
          30.399999618530273,
          47.75,
          47.983333587646484,
          47.400001525878906,
          47.483333587646484,
          46.93333435058594,
          46.56666564941406,
          47.75,
          46.95000076293945,
          47.86666488647461,
          32.900001525878906,
          46.983333587646484,
          44.45000076293945,
          46.650001525878906,
          45.75,
          47.68333435058594,
          46.95000076293945,
          37.5,
          46.516666412353516,
          42.06666564941406,
          47.31666564941406,
          46.650001525878906,
          42.18333435058594,
          47.54999923706055,
          29.03333282470703,
          36.83333206176758,
          44.38333511352539,
          47.38333511352539,
          47.86666488647461,
          47.56666564941406,
          45.233333587646484,
          47.20000076293945,
          46.83333206176758,
          45.5,
          28.616666793823242,
          47.983333587646484,
          46.79999923706055,
          47.849998474121094,
          47.95000076293945,
          47.91666793823242,
          47.733333587646484,
          47.516666412353516,
          47.983333587646484,
          46.11666488647461,
          45.483333587646484,
          47.43333435058594,
          43.766666412353516,
          47.78333282470703,
          45.83333206176758,
          46.483333587646484,
          43.599998474121094,
          47.766666412353516,
          47.71666717529297,
          47.81666564941406,
          45.68333435058594,
          47.400001525878906,
          40.16666793823242,
          34.88333511352539,
          45.400001525878906,
          46.79999923706055,
          38.900001525878906,
          47.88333511352539,
          47.5,
          47.86666488647461,
          45.16666793823242,
          47.766666412353516,
          46.016666412353516,
          42.599998474121094,
          47.96666717529297,
          46.03333282470703,
          39.45000076293945,
          43.11666488647461,
          39.28333282470703,
          40.766666412353516,
          47.93333435058594,
          45.733333587646484,
          47.78333282470703,
          46.83333206176758,
          47.86666488647461,
          48,
          45,
          46.11666488647461,
          40.29999923706055,
          47.79999923706055,
          46.03333282470703,
          41.33333206176758,
          42,
          47.150001525878906,
          45.79999923706055,
          47.766666412353516,
          42.21666717529297,
          47.266666412353516,
          35.71666717529297,
          45.58333206176758,
          44.83333206176758,
          44.41666793823242,
          42.099998474121094,
          39.11666488647461,
          46.016666412353516,
          47.13333511352539,
          33.75,
          47.33333206176758,
          44.733333587646484,
          46.58333206176758,
          38.13333511352539,
          41.43333435058594,
          47.516666412353516,
          42.483333587646484,
          45.349998474121094,
          43.70000076293945,
          47.86666488647461,
          46.71666717529297,
          44.53333282470703,
          46.63333511352539,
          47.46666717529297,
          47.983333587646484,
          46.5,
          47.150001525878906,
          46.70000076293945,
          44.06666564941406,
          47.86666488647461,
          47.63333511352539,
          45.70000076293945,
          46.71666717529297,
          47.349998474121094,
          45.79999923706055,
          47.150001525878906,
          46.68333435058594,
          45.150001525878906,
          47.53333282470703,
          45.33333206176758,
          46.733333587646484,
          47.29999923706055,
          46.766666412353516,
          43.5,
          45.25,
          47.88333511352539,
          47.150001525878906,
          46.016666412353516
         ],
         "y": [
          0.7191519737243652,
          0.6658405661582947,
          0.5809860825538635,
          0.8379141092300415,
          0.5716394782066345,
          0.7656046152114868,
          0.4469732642173767,
          0.7309078574180603,
          0.8800322413444519,
          0.9031820297241211,
          0.8455580472946167,
          0.8249984979629517,
          0.8885761499404907,
          0.7901067137718201,
          0.752985417842865,
          0.6691964864730835,
          0.8713346719741821,
          0.8239189386367798,
          0.8309286236763,
          0.7352093458175659,
          0.7479649782180786,
          0.726454496383667,
          0.792442798614502,
          0.7082162499427795,
          0.9109902381896973,
          0.816802978515625,
          0.7996939420700073,
          0.877982497215271,
          0.915483295917511,
          0.902432918548584,
          0.8545147180557251,
          0.8630493879318237,
          0.8376450538635254,
          0.9281627535820007,
          0.8200249671936035,
          0.8582948446273804,
          0.8475373387336731,
          0.6321884989738464,
          0.8686677813529968,
          0.624010443687439,
          0.9175034761428833,
          0.825153648853302,
          0.9023534655570984,
          0.8799139261245728,
          0.7874952554702759,
          0.9008482694625854,
          0.6810566782951355,
          0.8723966479301453,
          0.8809525370597839,
          0.5524309277534485,
          0.7412672638893127,
          0.6479539275169373,
          0.8177472949028015,
          0.8618634343147278,
          0.891898512840271,
          0.7903664708137512,
          0.795435905456543,
          0.8418229222297668,
          0.7500053644180298,
          0.7568391561508179,
          0.819612979888916,
          0.7366389632225037,
          0.7870575189590454,
          0.8630844354629517,
          0.8993080854415894,
          0.8116700053215027,
          0.6856790781021118,
          0.9170517921447754,
          0.8754277229309082,
          0.898327648639679,
          0.864412784576416,
          0.9133026003837585,
          0.7320377826690674,
          0.8492377996444702,
          0.784382164478302,
          0.9199240803718567,
          0.8783535957336426,
          0.8806931376457214,
          0.7142351865768433,
          0.9134534001350403,
          0.8978565335273743,
          0.8008328676223755,
          0.7882856130599976,
          0.8039789199829102,
          0.8881551027297974,
          0.7887770533561707,
          0.8920947909355164,
          0.6095540523529053,
          0.8312230110168457,
          0.8351886868476868,
          0.8262783288955688,
          0.7511966228485107,
          0.8519147634506226,
          0.8057318925857544,
          0.8735092878341675,
          0.7896064519882202,
          0.9411199688911438,
          0.6819950342178345,
          0.8398553133010864,
          0.8423840403556824,
          0.7489661574363708,
          0.8699746131896973,
          0.8224517703056335,
          0.7546319365501404,
          0.9102285504341125,
          0.7020343542098999,
          0.7781995534896851,
          0.673906683921814,
          0.8736668825149536,
          0.8140300512313843,
          0.8080240488052368,
          0.8001133799552917,
          0.8127824664115906,
          0.8708767890930176,
          0.8557327389717102,
          0.7088460326194763,
          0.7930799722671509,
          0.7443164587020874,
          0.9169050455093384,
          0.8398795127868652,
          0.794280469417572,
          0.5846792459487915,
          0.668851375579834,
          0.8790395855903625,
          0.8220549821853638,
          0.6412543058395386,
          0.8703582882881165,
          0.8861549496650696,
          0.8958975076675415,
          0.9053100347518921,
          0.8383280038833618,
          0.823414146900177,
          0.9018368721008301,
          0.8001381754875183,
          0.7208049297332764,
          0.8348897695541382,
          0.7502970695495605,
          0.866511344909668,
          0.8515922427177429,
          0.6428455114364624,
          0.7998418211936951,
          0.7990586161613464,
          0.85285884141922,
          0.7560973167419434,
          0.9065211415290833,
          0.5825273394584656,
          0.6382147073745728,
          0.7556813955307007,
          0.9072631001472473,
          0.5508731603622437,
          0.8022249937057495,
          0.7095907926559448,
          0.8788935542106628,
          0.7773081660270691,
          0.8041055798530579,
          0.7948580980300903,
          0.8729286193847656,
          0.7714619040489197,
          0.7596405148506165,
          0.8663091659545898,
          0.7946181893348694,
          0.8183344006538391,
          0.7825311422348022,
          0.6588557958602905,
          0.8087531924247742,
          0.9012314081192017,
          0.749759316444397,
          0.8202230334281921,
          0.6936889886856079,
          0.8897134065628052,
          0.6974758505821228,
          0.9005845189094543,
          0.829709529876709,
          0.7833071947097778,
          0.9153663516044617,
          0.8748906254768372,
          0.8256405591964722,
          0.8481308221817017,
          0.8556510806083679,
          0.8877385258674622,
          0.7660032510757446,
          0.8352667689323425,
          0.7813645601272583,
          0.8440079689025879,
          0.8018180131912231,
          0.8558946847915649,
          0.9445594549179077,
          0.7922488451004028
         ]
        }
       ],
       "layout": {
        "template": {
         "data": {
          "bar": [
           {
            "error_x": {
             "color": "#2a3f5f"
            },
            "error_y": {
             "color": "#2a3f5f"
            },
            "marker": {
             "line": {
              "color": "#E5ECF6",
              "width": 0.5
             },
             "pattern": {
              "fillmode": "overlay",
              "size": 10,
              "solidity": 0.2
             }
            },
            "type": "bar"
           }
          ],
          "barpolar": [
           {
            "marker": {
             "line": {
              "color": "#E5ECF6",
              "width": 0.5
             },
             "pattern": {
              "fillmode": "overlay",
              "size": 10,
              "solidity": 0.2
             }
            },
            "type": "barpolar"
           }
          ],
          "carpet": [
           {
            "aaxis": {
             "endlinecolor": "#2a3f5f",
             "gridcolor": "white",
             "linecolor": "white",
             "minorgridcolor": "white",
             "startlinecolor": "#2a3f5f"
            },
            "baxis": {
             "endlinecolor": "#2a3f5f",
             "gridcolor": "white",
             "linecolor": "white",
             "minorgridcolor": "white",
             "startlinecolor": "#2a3f5f"
            },
            "type": "carpet"
           }
          ],
          "choropleth": [
           {
            "colorbar": {
             "outlinewidth": 0,
             "ticks": ""
            },
            "type": "choropleth"
           }
          ],
          "contour": [
           {
            "colorbar": {
             "outlinewidth": 0,
             "ticks": ""
            },
            "colorscale": [
             [
              0,
              "#0d0887"
             ],
             [
              0.1111111111111111,
              "#46039f"
             ],
             [
              0.2222222222222222,
              "#7201a8"
             ],
             [
              0.3333333333333333,
              "#9c179e"
             ],
             [
              0.4444444444444444,
              "#bd3786"
             ],
             [
              0.5555555555555556,
              "#d8576b"
             ],
             [
              0.6666666666666666,
              "#ed7953"
             ],
             [
              0.7777777777777778,
              "#fb9f3a"
             ],
             [
              0.8888888888888888,
              "#fdca26"
             ],
             [
              1,
              "#f0f921"
             ]
            ],
            "type": "contour"
           }
          ],
          "contourcarpet": [
           {
            "colorbar": {
             "outlinewidth": 0,
             "ticks": ""
            },
            "type": "contourcarpet"
           }
          ],
          "heatmap": [
           {
            "colorbar": {
             "outlinewidth": 0,
             "ticks": ""
            },
            "colorscale": [
             [
              0,
              "#0d0887"
             ],
             [
              0.1111111111111111,
              "#46039f"
             ],
             [
              0.2222222222222222,
              "#7201a8"
             ],
             [
              0.3333333333333333,
              "#9c179e"
             ],
             [
              0.4444444444444444,
              "#bd3786"
             ],
             [
              0.5555555555555556,
              "#d8576b"
             ],
             [
              0.6666666666666666,
              "#ed7953"
             ],
             [
              0.7777777777777778,
              "#fb9f3a"
             ],
             [
              0.8888888888888888,
              "#fdca26"
             ],
             [
              1,
              "#f0f921"
             ]
            ],
            "type": "heatmap"
           }
          ],
          "heatmapgl": [
           {
            "colorbar": {
             "outlinewidth": 0,
             "ticks": ""
            },
            "colorscale": [
             [
              0,
              "#0d0887"
             ],
             [
              0.1111111111111111,
              "#46039f"
             ],
             [
              0.2222222222222222,
              "#7201a8"
             ],
             [
              0.3333333333333333,
              "#9c179e"
             ],
             [
              0.4444444444444444,
              "#bd3786"
             ],
             [
              0.5555555555555556,
              "#d8576b"
             ],
             [
              0.6666666666666666,
              "#ed7953"
             ],
             [
              0.7777777777777778,
              "#fb9f3a"
             ],
             [
              0.8888888888888888,
              "#fdca26"
             ],
             [
              1,
              "#f0f921"
             ]
            ],
            "type": "heatmapgl"
           }
          ],
          "histogram": [
           {
            "marker": {
             "pattern": {
              "fillmode": "overlay",
              "size": 10,
              "solidity": 0.2
             }
            },
            "type": "histogram"
           }
          ],
          "histogram2d": [
           {
            "colorbar": {
             "outlinewidth": 0,
             "ticks": ""
            },
            "colorscale": [
             [
              0,
              "#0d0887"
             ],
             [
              0.1111111111111111,
              "#46039f"
             ],
             [
              0.2222222222222222,
              "#7201a8"
             ],
             [
              0.3333333333333333,
              "#9c179e"
             ],
             [
              0.4444444444444444,
              "#bd3786"
             ],
             [
              0.5555555555555556,
              "#d8576b"
             ],
             [
              0.6666666666666666,
              "#ed7953"
             ],
             [
              0.7777777777777778,
              "#fb9f3a"
             ],
             [
              0.8888888888888888,
              "#fdca26"
             ],
             [
              1,
              "#f0f921"
             ]
            ],
            "type": "histogram2d"
           }
          ],
          "histogram2dcontour": [
           {
            "colorbar": {
             "outlinewidth": 0,
             "ticks": ""
            },
            "colorscale": [
             [
              0,
              "#0d0887"
             ],
             [
              0.1111111111111111,
              "#46039f"
             ],
             [
              0.2222222222222222,
              "#7201a8"
             ],
             [
              0.3333333333333333,
              "#9c179e"
             ],
             [
              0.4444444444444444,
              "#bd3786"
             ],
             [
              0.5555555555555556,
              "#d8576b"
             ],
             [
              0.6666666666666666,
              "#ed7953"
             ],
             [
              0.7777777777777778,
              "#fb9f3a"
             ],
             [
              0.8888888888888888,
              "#fdca26"
             ],
             [
              1,
              "#f0f921"
             ]
            ],
            "type": "histogram2dcontour"
           }
          ],
          "mesh3d": [
           {
            "colorbar": {
             "outlinewidth": 0,
             "ticks": ""
            },
            "type": "mesh3d"
           }
          ],
          "parcoords": [
           {
            "line": {
             "colorbar": {
              "outlinewidth": 0,
              "ticks": ""
             }
            },
            "type": "parcoords"
           }
          ],
          "pie": [
           {
            "automargin": true,
            "type": "pie"
           }
          ],
          "scatter": [
           {
            "fillpattern": {
             "fillmode": "overlay",
             "size": 10,
             "solidity": 0.2
            },
            "type": "scatter"
           }
          ],
          "scatter3d": [
           {
            "line": {
             "colorbar": {
              "outlinewidth": 0,
              "ticks": ""
             }
            },
            "marker": {
             "colorbar": {
              "outlinewidth": 0,
              "ticks": ""
             }
            },
            "type": "scatter3d"
           }
          ],
          "scattercarpet": [
           {
            "marker": {
             "colorbar": {
              "outlinewidth": 0,
              "ticks": ""
             }
            },
            "type": "scattercarpet"
           }
          ],
          "scattergeo": [
           {
            "marker": {
             "colorbar": {
              "outlinewidth": 0,
              "ticks": ""
             }
            },
            "type": "scattergeo"
           }
          ],
          "scattergl": [
           {
            "marker": {
             "colorbar": {
              "outlinewidth": 0,
              "ticks": ""
             }
            },
            "type": "scattergl"
           }
          ],
          "scattermapbox": [
           {
            "marker": {
             "colorbar": {
              "outlinewidth": 0,
              "ticks": ""
             }
            },
            "type": "scattermapbox"
           }
          ],
          "scatterpolar": [
           {
            "marker": {
             "colorbar": {
              "outlinewidth": 0,
              "ticks": ""
             }
            },
            "type": "scatterpolar"
           }
          ],
          "scatterpolargl": [
           {
            "marker": {
             "colorbar": {
              "outlinewidth": 0,
              "ticks": ""
             }
            },
            "type": "scatterpolargl"
           }
          ],
          "scatterternary": [
           {
            "marker": {
             "colorbar": {
              "outlinewidth": 0,
              "ticks": ""
             }
            },
            "type": "scatterternary"
           }
          ],
          "surface": [
           {
            "colorbar": {
             "outlinewidth": 0,
             "ticks": ""
            },
            "colorscale": [
             [
              0,
              "#0d0887"
             ],
             [
              0.1111111111111111,
              "#46039f"
             ],
             [
              0.2222222222222222,
              "#7201a8"
             ],
             [
              0.3333333333333333,
              "#9c179e"
             ],
             [
              0.4444444444444444,
              "#bd3786"
             ],
             [
              0.5555555555555556,
              "#d8576b"
             ],
             [
              0.6666666666666666,
              "#ed7953"
             ],
             [
              0.7777777777777778,
              "#fb9f3a"
             ],
             [
              0.8888888888888888,
              "#fdca26"
             ],
             [
              1,
              "#f0f921"
             ]
            ],
            "type": "surface"
           }
          ],
          "table": [
           {
            "cells": {
             "fill": {
              "color": "#EBF0F8"
             },
             "line": {
              "color": "white"
             }
            },
            "header": {
             "fill": {
              "color": "#C8D4E3"
             },
             "line": {
              "color": "white"
             }
            },
            "type": "table"
           }
          ]
         },
         "layout": {
          "annotationdefaults": {
           "arrowcolor": "#2a3f5f",
           "arrowhead": 0,
           "arrowwidth": 1
          },
          "autotypenumbers": "strict",
          "coloraxis": {
           "colorbar": {
            "outlinewidth": 0,
            "ticks": ""
           }
          },
          "colorscale": {
           "diverging": [
            [
             0,
             "#8e0152"
            ],
            [
             0.1,
             "#c51b7d"
            ],
            [
             0.2,
             "#de77ae"
            ],
            [
             0.3,
             "#f1b6da"
            ],
            [
             0.4,
             "#fde0ef"
            ],
            [
             0.5,
             "#f7f7f7"
            ],
            [
             0.6,
             "#e6f5d0"
            ],
            [
             0.7,
             "#b8e186"
            ],
            [
             0.8,
             "#7fbc41"
            ],
            [
             0.9,
             "#4d9221"
            ],
            [
             1,
             "#276419"
            ]
           ],
           "sequential": [
            [
             0,
             "#0d0887"
            ],
            [
             0.1111111111111111,
             "#46039f"
            ],
            [
             0.2222222222222222,
             "#7201a8"
            ],
            [
             0.3333333333333333,
             "#9c179e"
            ],
            [
             0.4444444444444444,
             "#bd3786"
            ],
            [
             0.5555555555555556,
             "#d8576b"
            ],
            [
             0.6666666666666666,
             "#ed7953"
            ],
            [
             0.7777777777777778,
             "#fb9f3a"
            ],
            [
             0.8888888888888888,
             "#fdca26"
            ],
            [
             1,
             "#f0f921"
            ]
           ],
           "sequentialminus": [
            [
             0,
             "#0d0887"
            ],
            [
             0.1111111111111111,
             "#46039f"
            ],
            [
             0.2222222222222222,
             "#7201a8"
            ],
            [
             0.3333333333333333,
             "#9c179e"
            ],
            [
             0.4444444444444444,
             "#bd3786"
            ],
            [
             0.5555555555555556,
             "#d8576b"
            ],
            [
             0.6666666666666666,
             "#ed7953"
            ],
            [
             0.7777777777777778,
             "#fb9f3a"
            ],
            [
             0.8888888888888888,
             "#fdca26"
            ],
            [
             1,
             "#f0f921"
            ]
           ]
          },
          "colorway": [
           "#636efa",
           "#EF553B",
           "#00cc96",
           "#ab63fa",
           "#FFA15A",
           "#19d3f3",
           "#FF6692",
           "#B6E880",
           "#FF97FF",
           "#FECB52"
          ],
          "font": {
           "color": "#2a3f5f"
          },
          "geo": {
           "bgcolor": "white",
           "lakecolor": "white",
           "landcolor": "#E5ECF6",
           "showlakes": true,
           "showland": true,
           "subunitcolor": "white"
          },
          "hoverlabel": {
           "align": "left"
          },
          "hovermode": "closest",
          "mapbox": {
           "style": "light"
          },
          "paper_bgcolor": "white",
          "plot_bgcolor": "#E5ECF6",
          "polar": {
           "angularaxis": {
            "gridcolor": "white",
            "linecolor": "white",
            "ticks": ""
           },
           "bgcolor": "#E5ECF6",
           "radialaxis": {
            "gridcolor": "white",
            "linecolor": "white",
            "ticks": ""
           }
          },
          "scene": {
           "xaxis": {
            "backgroundcolor": "#E5ECF6",
            "gridcolor": "white",
            "gridwidth": 2,
            "linecolor": "white",
            "showbackground": true,
            "ticks": "",
            "zerolinecolor": "white"
           },
           "yaxis": {
            "backgroundcolor": "#E5ECF6",
            "gridcolor": "white",
            "gridwidth": 2,
            "linecolor": "white",
            "showbackground": true,
            "ticks": "",
            "zerolinecolor": "white"
           },
           "zaxis": {
            "backgroundcolor": "#E5ECF6",
            "gridcolor": "white",
            "gridwidth": 2,
            "linecolor": "white",
            "showbackground": true,
            "ticks": "",
            "zerolinecolor": "white"
           }
          },
          "shapedefaults": {
           "line": {
            "color": "#2a3f5f"
           }
          },
          "ternary": {
           "aaxis": {
            "gridcolor": "white",
            "linecolor": "white",
            "ticks": ""
           },
           "baxis": {
            "gridcolor": "white",
            "linecolor": "white",
            "ticks": ""
           },
           "bgcolor": "#E5ECF6",
           "caxis": {
            "gridcolor": "white",
            "linecolor": "white",
            "ticks": ""
           }
          },
          "title": {
           "x": 0.05
          },
          "xaxis": {
           "automargin": true,
           "gridcolor": "white",
           "linecolor": "white",
           "ticks": "",
           "title": {
            "standoff": 15
           },
           "zerolinecolor": "white",
           "zerolinewidth": 2
          },
          "yaxis": {
           "automargin": true,
           "gridcolor": "white",
           "linecolor": "white",
           "ticks": "",
           "title": {
            "standoff": 15
           },
           "zerolinecolor": "white",
           "zerolinewidth": 2
          }
         }
        },
        "title": {
         "text": "Similarity score vs t_max"
        },
        "xaxis": {
         "title": {
          "text": "t_max"
         }
        },
        "yaxis": {
         "title": {
          "text": "Similarity score"
         }
        }
       }
      },
      "text/html": [
       "<div>                            <div id=\"beb4a102-1be3-400d-a218-86c5aa58f705\" class=\"plotly-graph-div\" style=\"height:525px; width:100%;\"></div>            <script type=\"text/javascript\">                require([\"plotly\"], function(Plotly) {                    window.PLOTLYENV=window.PLOTLYENV || {};                                    if (document.getElementById(\"beb4a102-1be3-400d-a218-86c5aa58f705\")) {                    Plotly.newPlot(                        \"beb4a102-1be3-400d-a218-86c5aa58f705\",                        [{\"marker\":{\"color\":\"blue\",\"size\":5},\"mode\":\"markers\",\"name\":\"TEE+DAM\",\"x\":[47.28333282470703,46.150001525878906,23.383333206176758,41.233333587646484,30.616666793823242,45.13333511352539,26.950000762939453,47.43333435058594,47.849998474121094,47.63333511352539,47.83333206176758,44.56666564941406,46.96666717529297,42.08333206176758,47.75,47.900001525878906,44.70000076293945,44.06666564941406,46.29999923706055,44.38333511352539,45.96666717529297,45.733333587646484,47.0,37.95000076293945,46.81666564941406,39.46666717529297,45.41666793823242,47.04999923706055,44.483333587646484,47.53333282470703,46.75,40.08333206176758,32.95000076293945,46.983333587646484,47.11666488647461,46.70000076293945,47.86666488647461,36.45000076293945,47.81666564941406,44.63333511352539,45.733333587646484,45.516666412353516,47.63333511352539,43.650001525878906,32.79999923706055,47.70000076293945,28.066667556762695,47.86666488647461,47.33333206176758,30.399999618530273,47.75,47.983333587646484,47.400001525878906,47.483333587646484,46.93333435058594,46.56666564941406,47.75,46.95000076293945,47.86666488647461,32.900001525878906,46.983333587646484,44.45000076293945,46.650001525878906,45.75,47.68333435058594,46.95000076293945,37.5,46.516666412353516,42.06666564941406,47.31666564941406,46.650001525878906,42.18333435058594,47.54999923706055,29.03333282470703,36.83333206176758,44.38333511352539,47.38333511352539,47.86666488647461,47.56666564941406,45.233333587646484,47.20000076293945,46.83333206176758,45.5,28.616666793823242,47.983333587646484,46.79999923706055,47.849998474121094,47.95000076293945,47.91666793823242,47.733333587646484,47.516666412353516,47.983333587646484,46.11666488647461,45.483333587646484,47.43333435058594,43.766666412353516,47.78333282470703,45.83333206176758,46.483333587646484,43.599998474121094,47.766666412353516,47.71666717529297,47.81666564941406,45.68333435058594,47.400001525878906,40.16666793823242,34.88333511352539,45.400001525878906,46.79999923706055,38.900001525878906,47.88333511352539,47.5,47.86666488647461,45.16666793823242,47.766666412353516,46.016666412353516,42.599998474121094,47.96666717529297,46.03333282470703,39.45000076293945,43.11666488647461,39.28333282470703,40.766666412353516,47.93333435058594,45.733333587646484,47.78333282470703,46.83333206176758,47.86666488647461,48.0,45.0,46.11666488647461,40.29999923706055,47.79999923706055,46.03333282470703,41.33333206176758,42.0,47.150001525878906,45.79999923706055,47.766666412353516,42.21666717529297,47.266666412353516,35.71666717529297,45.58333206176758,44.83333206176758,44.41666793823242,42.099998474121094,39.11666488647461,46.016666412353516,47.13333511352539,33.75,47.33333206176758,44.733333587646484,46.58333206176758,38.13333511352539,41.43333435058594,47.516666412353516,42.483333587646484,45.349998474121094,43.70000076293945,47.86666488647461,46.71666717529297,44.53333282470703,46.63333511352539,47.46666717529297,47.983333587646484,46.5,47.150001525878906,46.70000076293945,44.06666564941406,47.86666488647461,47.63333511352539,45.70000076293945,46.71666717529297,47.349998474121094,45.79999923706055,47.150001525878906,46.68333435058594,45.150001525878906,47.53333282470703,45.33333206176758,46.733333587646484,47.29999923706055,46.766666412353516,43.5,45.25,47.88333511352539,47.150001525878906,46.016666412353516],\"y\":[0.7191519737243652,0.6658405661582947,0.5809860825538635,0.8379141092300415,0.5716394782066345,0.7656046152114868,0.4469732642173767,0.7309078574180603,0.8800322413444519,0.9031820297241211,0.8455580472946167,0.8249984979629517,0.8885761499404907,0.7901067137718201,0.752985417842865,0.6691964864730835,0.8713346719741821,0.8239189386367798,0.8309286236763,0.7352093458175659,0.7479649782180786,0.726454496383667,0.792442798614502,0.7082162499427795,0.9109902381896973,0.816802978515625,0.7996939420700073,0.877982497215271,0.915483295917511,0.902432918548584,0.8545147180557251,0.8630493879318237,0.8376450538635254,0.9281627535820007,0.8200249671936035,0.8582948446273804,0.8475373387336731,0.6321884989738464,0.8686677813529968,0.624010443687439,0.9175034761428833,0.825153648853302,0.9023534655570984,0.8799139261245728,0.7874952554702759,0.9008482694625854,0.6810566782951355,0.8723966479301453,0.8809525370597839,0.5524309277534485,0.7412672638893127,0.6479539275169373,0.8177472949028015,0.8618634343147278,0.891898512840271,0.7903664708137512,0.795435905456543,0.8418229222297668,0.7500053644180298,0.7568391561508179,0.819612979888916,0.7366389632225037,0.7870575189590454,0.8630844354629517,0.8993080854415894,0.8116700053215027,0.6856790781021118,0.9170517921447754,0.8754277229309082,0.898327648639679,0.864412784576416,0.9133026003837585,0.7320377826690674,0.8492377996444702,0.784382164478302,0.9199240803718567,0.8783535957336426,0.8806931376457214,0.7142351865768433,0.9134534001350403,0.8978565335273743,0.8008328676223755,0.7882856130599976,0.8039789199829102,0.8881551027297974,0.7887770533561707,0.8920947909355164,0.6095540523529053,0.8312230110168457,0.8351886868476868,0.8262783288955688,0.7511966228485107,0.8519147634506226,0.8057318925857544,0.8735092878341675,0.7896064519882202,0.9411199688911438,0.6819950342178345,0.8398553133010864,0.8423840403556824,0.7489661574363708,0.8699746131896973,0.8224517703056335,0.7546319365501404,0.9102285504341125,0.7020343542098999,0.7781995534896851,0.673906683921814,0.8736668825149536,0.8140300512313843,0.8080240488052368,0.8001133799552917,0.8127824664115906,0.8708767890930176,0.8557327389717102,0.7088460326194763,0.7930799722671509,0.7443164587020874,0.9169050455093384,0.8398795127868652,0.794280469417572,0.5846792459487915,0.668851375579834,0.8790395855903625,0.8220549821853638,0.6412543058395386,0.8703582882881165,0.8861549496650696,0.8958975076675415,0.9053100347518921,0.8383280038833618,0.823414146900177,0.9018368721008301,0.8001381754875183,0.7208049297332764,0.8348897695541382,0.7502970695495605,0.866511344909668,0.8515922427177429,0.6428455114364624,0.7998418211936951,0.7990586161613464,0.85285884141922,0.7560973167419434,0.9065211415290833,0.5825273394584656,0.6382147073745728,0.7556813955307007,0.9072631001472473,0.5508731603622437,0.8022249937057495,0.7095907926559448,0.8788935542106628,0.7773081660270691,0.8041055798530579,0.7948580980300903,0.8729286193847656,0.7714619040489197,0.7596405148506165,0.8663091659545898,0.7946181893348694,0.8183344006538391,0.7825311422348022,0.6588557958602905,0.8087531924247742,0.9012314081192017,0.749759316444397,0.8202230334281921,0.6936889886856079,0.8897134065628052,0.6974758505821228,0.9005845189094543,0.829709529876709,0.7833071947097778,0.9153663516044617,0.8748906254768372,0.8256405591964722,0.8481308221817017,0.8556510806083679,0.8877385258674622,0.7660032510757446,0.8352667689323425,0.7813645601272583,0.8440079689025879,0.8018180131912231,0.8558946847915649,0.9445594549179077,0.7922488451004028],\"type\":\"scatter\"}],                        {\"template\":{\"data\":{\"histogram2dcontour\":[{\"type\":\"histogram2dcontour\",\"colorbar\":{\"outlinewidth\":0,\"ticks\":\"\"},\"colorscale\":[[0.0,\"#0d0887\"],[0.1111111111111111,\"#46039f\"],[0.2222222222222222,\"#7201a8\"],[0.3333333333333333,\"#9c179e\"],[0.4444444444444444,\"#bd3786\"],[0.5555555555555556,\"#d8576b\"],[0.6666666666666666,\"#ed7953\"],[0.7777777777777778,\"#fb9f3a\"],[0.8888888888888888,\"#fdca26\"],[1.0,\"#f0f921\"]]}],\"choropleth\":[{\"type\":\"choropleth\",\"colorbar\":{\"outlinewidth\":0,\"ticks\":\"\"}}],\"histogram2d\":[{\"type\":\"histogram2d\",\"colorbar\":{\"outlinewidth\":0,\"ticks\":\"\"},\"colorscale\":[[0.0,\"#0d0887\"],[0.1111111111111111,\"#46039f\"],[0.2222222222222222,\"#7201a8\"],[0.3333333333333333,\"#9c179e\"],[0.4444444444444444,\"#bd3786\"],[0.5555555555555556,\"#d8576b\"],[0.6666666666666666,\"#ed7953\"],[0.7777777777777778,\"#fb9f3a\"],[0.8888888888888888,\"#fdca26\"],[1.0,\"#f0f921\"]]}],\"heatmap\":[{\"type\":\"heatmap\",\"colorbar\":{\"outlinewidth\":0,\"ticks\":\"\"},\"colorscale\":[[0.0,\"#0d0887\"],[0.1111111111111111,\"#46039f\"],[0.2222222222222222,\"#7201a8\"],[0.3333333333333333,\"#9c179e\"],[0.4444444444444444,\"#bd3786\"],[0.5555555555555556,\"#d8576b\"],[0.6666666666666666,\"#ed7953\"],[0.7777777777777778,\"#fb9f3a\"],[0.8888888888888888,\"#fdca26\"],[1.0,\"#f0f921\"]]}],\"heatmapgl\":[{\"type\":\"heatmapgl\",\"colorbar\":{\"outlinewidth\":0,\"ticks\":\"\"},\"colorscale\":[[0.0,\"#0d0887\"],[0.1111111111111111,\"#46039f\"],[0.2222222222222222,\"#7201a8\"],[0.3333333333333333,\"#9c179e\"],[0.4444444444444444,\"#bd3786\"],[0.5555555555555556,\"#d8576b\"],[0.6666666666666666,\"#ed7953\"],[0.7777777777777778,\"#fb9f3a\"],[0.8888888888888888,\"#fdca26\"],[1.0,\"#f0f921\"]]}],\"contourcarpet\":[{\"type\":\"contourcarpet\",\"colorbar\":{\"outlinewidth\":0,\"ticks\":\"\"}}],\"contour\":[{\"type\":\"contour\",\"colorbar\":{\"outlinewidth\":0,\"ticks\":\"\"},\"colorscale\":[[0.0,\"#0d0887\"],[0.1111111111111111,\"#46039f\"],[0.2222222222222222,\"#7201a8\"],[0.3333333333333333,\"#9c179e\"],[0.4444444444444444,\"#bd3786\"],[0.5555555555555556,\"#d8576b\"],[0.6666666666666666,\"#ed7953\"],[0.7777777777777778,\"#fb9f3a\"],[0.8888888888888888,\"#fdca26\"],[1.0,\"#f0f921\"]]}],\"surface\":[{\"type\":\"surface\",\"colorbar\":{\"outlinewidth\":0,\"ticks\":\"\"},\"colorscale\":[[0.0,\"#0d0887\"],[0.1111111111111111,\"#46039f\"],[0.2222222222222222,\"#7201a8\"],[0.3333333333333333,\"#9c179e\"],[0.4444444444444444,\"#bd3786\"],[0.5555555555555556,\"#d8576b\"],[0.6666666666666666,\"#ed7953\"],[0.7777777777777778,\"#fb9f3a\"],[0.8888888888888888,\"#fdca26\"],[1.0,\"#f0f921\"]]}],\"mesh3d\":[{\"type\":\"mesh3d\",\"colorbar\":{\"outlinewidth\":0,\"ticks\":\"\"}}],\"scatter\":[{\"fillpattern\":{\"fillmode\":\"overlay\",\"size\":10,\"solidity\":0.2},\"type\":\"scatter\"}],\"parcoords\":[{\"type\":\"parcoords\",\"line\":{\"colorbar\":{\"outlinewidth\":0,\"ticks\":\"\"}}}],\"scatterpolargl\":[{\"type\":\"scatterpolargl\",\"marker\":{\"colorbar\":{\"outlinewidth\":0,\"ticks\":\"\"}}}],\"bar\":[{\"error_x\":{\"color\":\"#2a3f5f\"},\"error_y\":{\"color\":\"#2a3f5f\"},\"marker\":{\"line\":{\"color\":\"#E5ECF6\",\"width\":0.5},\"pattern\":{\"fillmode\":\"overlay\",\"size\":10,\"solidity\":0.2}},\"type\":\"bar\"}],\"scattergeo\":[{\"type\":\"scattergeo\",\"marker\":{\"colorbar\":{\"outlinewidth\":0,\"ticks\":\"\"}}}],\"scatterpolar\":[{\"type\":\"scatterpolar\",\"marker\":{\"colorbar\":{\"outlinewidth\":0,\"ticks\":\"\"}}}],\"histogram\":[{\"marker\":{\"pattern\":{\"fillmode\":\"overlay\",\"size\":10,\"solidity\":0.2}},\"type\":\"histogram\"}],\"scattergl\":[{\"type\":\"scattergl\",\"marker\":{\"colorbar\":{\"outlinewidth\":0,\"ticks\":\"\"}}}],\"scatter3d\":[{\"type\":\"scatter3d\",\"line\":{\"colorbar\":{\"outlinewidth\":0,\"ticks\":\"\"}},\"marker\":{\"colorbar\":{\"outlinewidth\":0,\"ticks\":\"\"}}}],\"scattermapbox\":[{\"type\":\"scattermapbox\",\"marker\":{\"colorbar\":{\"outlinewidth\":0,\"ticks\":\"\"}}}],\"scatterternary\":[{\"type\":\"scatterternary\",\"marker\":{\"colorbar\":{\"outlinewidth\":0,\"ticks\":\"\"}}}],\"scattercarpet\":[{\"type\":\"scattercarpet\",\"marker\":{\"colorbar\":{\"outlinewidth\":0,\"ticks\":\"\"}}}],\"carpet\":[{\"aaxis\":{\"endlinecolor\":\"#2a3f5f\",\"gridcolor\":\"white\",\"linecolor\":\"white\",\"minorgridcolor\":\"white\",\"startlinecolor\":\"#2a3f5f\"},\"baxis\":{\"endlinecolor\":\"#2a3f5f\",\"gridcolor\":\"white\",\"linecolor\":\"white\",\"minorgridcolor\":\"white\",\"startlinecolor\":\"#2a3f5f\"},\"type\":\"carpet\"}],\"table\":[{\"cells\":{\"fill\":{\"color\":\"#EBF0F8\"},\"line\":{\"color\":\"white\"}},\"header\":{\"fill\":{\"color\":\"#C8D4E3\"},\"line\":{\"color\":\"white\"}},\"type\":\"table\"}],\"barpolar\":[{\"marker\":{\"line\":{\"color\":\"#E5ECF6\",\"width\":0.5},\"pattern\":{\"fillmode\":\"overlay\",\"size\":10,\"solidity\":0.2}},\"type\":\"barpolar\"}],\"pie\":[{\"automargin\":true,\"type\":\"pie\"}]},\"layout\":{\"autotypenumbers\":\"strict\",\"colorway\":[\"#636efa\",\"#EF553B\",\"#00cc96\",\"#ab63fa\",\"#FFA15A\",\"#19d3f3\",\"#FF6692\",\"#B6E880\",\"#FF97FF\",\"#FECB52\"],\"font\":{\"color\":\"#2a3f5f\"},\"hovermode\":\"closest\",\"hoverlabel\":{\"align\":\"left\"},\"paper_bgcolor\":\"white\",\"plot_bgcolor\":\"#E5ECF6\",\"polar\":{\"bgcolor\":\"#E5ECF6\",\"angularaxis\":{\"gridcolor\":\"white\",\"linecolor\":\"white\",\"ticks\":\"\"},\"radialaxis\":{\"gridcolor\":\"white\",\"linecolor\":\"white\",\"ticks\":\"\"}},\"ternary\":{\"bgcolor\":\"#E5ECF6\",\"aaxis\":{\"gridcolor\":\"white\",\"linecolor\":\"white\",\"ticks\":\"\"},\"baxis\":{\"gridcolor\":\"white\",\"linecolor\":\"white\",\"ticks\":\"\"},\"caxis\":{\"gridcolor\":\"white\",\"linecolor\":\"white\",\"ticks\":\"\"}},\"coloraxis\":{\"colorbar\":{\"outlinewidth\":0,\"ticks\":\"\"}},\"colorscale\":{\"sequential\":[[0.0,\"#0d0887\"],[0.1111111111111111,\"#46039f\"],[0.2222222222222222,\"#7201a8\"],[0.3333333333333333,\"#9c179e\"],[0.4444444444444444,\"#bd3786\"],[0.5555555555555556,\"#d8576b\"],[0.6666666666666666,\"#ed7953\"],[0.7777777777777778,\"#fb9f3a\"],[0.8888888888888888,\"#fdca26\"],[1.0,\"#f0f921\"]],\"sequentialminus\":[[0.0,\"#0d0887\"],[0.1111111111111111,\"#46039f\"],[0.2222222222222222,\"#7201a8\"],[0.3333333333333333,\"#9c179e\"],[0.4444444444444444,\"#bd3786\"],[0.5555555555555556,\"#d8576b\"],[0.6666666666666666,\"#ed7953\"],[0.7777777777777778,\"#fb9f3a\"],[0.8888888888888888,\"#fdca26\"],[1.0,\"#f0f921\"]],\"diverging\":[[0,\"#8e0152\"],[0.1,\"#c51b7d\"],[0.2,\"#de77ae\"],[0.3,\"#f1b6da\"],[0.4,\"#fde0ef\"],[0.5,\"#f7f7f7\"],[0.6,\"#e6f5d0\"],[0.7,\"#b8e186\"],[0.8,\"#7fbc41\"],[0.9,\"#4d9221\"],[1,\"#276419\"]]},\"xaxis\":{\"gridcolor\":\"white\",\"linecolor\":\"white\",\"ticks\":\"\",\"title\":{\"standoff\":15},\"zerolinecolor\":\"white\",\"automargin\":true,\"zerolinewidth\":2},\"yaxis\":{\"gridcolor\":\"white\",\"linecolor\":\"white\",\"ticks\":\"\",\"title\":{\"standoff\":15},\"zerolinecolor\":\"white\",\"automargin\":true,\"zerolinewidth\":2},\"scene\":{\"xaxis\":{\"backgroundcolor\":\"#E5ECF6\",\"gridcolor\":\"white\",\"linecolor\":\"white\",\"showbackground\":true,\"ticks\":\"\",\"zerolinecolor\":\"white\",\"gridwidth\":2},\"yaxis\":{\"backgroundcolor\":\"#E5ECF6\",\"gridcolor\":\"white\",\"linecolor\":\"white\",\"showbackground\":true,\"ticks\":\"\",\"zerolinecolor\":\"white\",\"gridwidth\":2},\"zaxis\":{\"backgroundcolor\":\"#E5ECF6\",\"gridcolor\":\"white\",\"linecolor\":\"white\",\"showbackground\":true,\"ticks\":\"\",\"zerolinecolor\":\"white\",\"gridwidth\":2}},\"shapedefaults\":{\"line\":{\"color\":\"#2a3f5f\"}},\"annotationdefaults\":{\"arrowcolor\":\"#2a3f5f\",\"arrowhead\":0,\"arrowwidth\":1},\"geo\":{\"bgcolor\":\"white\",\"landcolor\":\"#E5ECF6\",\"subunitcolor\":\"white\",\"showland\":true,\"showlakes\":true,\"lakecolor\":\"white\"},\"title\":{\"x\":0.05},\"mapbox\":{\"style\":\"light\"}}},\"title\":{\"text\":\"Similarity score vs t_max\"},\"xaxis\":{\"title\":{\"text\":\"t_max\"}},\"yaxis\":{\"title\":{\"text\":\"Similarity score\"}}},                        {\"responsive\": true}                    ).then(function(){\n",
       "                            \n",
       "var gd = document.getElementById('beb4a102-1be3-400d-a218-86c5aa58f705');\n",
       "var x = new MutationObserver(function (mutations, observer) {{\n",
       "        var display = window.getComputedStyle(gd).display;\n",
       "        if (!display || display === 'none') {{\n",
       "            console.log([gd, 'removed!']);\n",
       "            Plotly.purge(gd);\n",
       "            observer.disconnect();\n",
       "        }}\n",
       "}});\n",
       "\n",
       "// Listen for the removal of the full notebook cells\n",
       "var notebookContainer = gd.closest('#notebook-container');\n",
       "if (notebookContainer) {{\n",
       "    x.observe(notebookContainer, {childList: true});\n",
       "}}\n",
       "\n",
       "// Listen for the clearing of the current output cell\n",
       "var outputEl = gd.closest('.output');\n",
       "if (outputEl) {{\n",
       "    x.observe(outputEl, {childList: true});\n",
       "}}\n",
       "\n",
       "                        })                };                });            </script>        </div>"
      ]
     },
     "metadata": {},
     "output_type": "display_data"
    },
    {
     "data": {
      "application/vnd.plotly.v1+json": {
       "config": {
        "plotlyServerURL": "https://plot.ly"
       },
       "data": [
        {
         "hovertemplate": "t_max=%{x}<br>similarity score=%{y}<extra></extra>",
         "legendgroup": "",
         "marker": {
          "color": "#636efa",
          "symbol": "circle"
         },
         "mode": "markers",
         "name": "",
         "orientation": "v",
         "showlegend": false,
         "type": "scatter",
         "x": [
          3.883332633972168,
          0.6883323669433594,
          16.54333362579346,
          2.8666664123535157,
          14.585000038146973,
          1.7500003814697265,
          16.23333282470703,
          1.533333969116211,
          2.879998779296875,
          0.8266674041748047,
          2.629998779296875,
          3.0149999618530274,
          1.2166667938232423,
          5.741667366027832,
          1.15,
          3.8266681671142577,
          1.8049999237060548,
          1.8700008392333984,
          2.013332748413086,
          4.480000305175781,
          3.373333740234375,
          6.186666870117188,
          1.5083335876464843,
          7.65333251953125,
          0.810000228881836,
          4.776666259765625,
          2.0283329010009767,
          1.5300003051757813,
          2.2466667175292967,
          1.0233329772949218,
          1.5533329010009767,
          5.658333969116211,
          8.923332786560058,
          0.7966670989990234,
          3.3533329010009765,
          0.5799995422363281,
          3.72833137512207,
          9.171665954589844,
          5.238333511352539,
          4.7383325576782225,
          1.0083332061767578,
          2.6983333587646485,
          1.1383346557617187,
          2.6849990844726563,
          10.575000190734864,
          1.0300006866455078,
          14.836665916442872,
          3.8549991607666017,
          1.7283329010009765,
          14.048333168029785,
          1.3900001525878907,
          4.575,
          9.69666805267334,
          2.583332824707031,
          1.4283336639404296,
          0.998333740234375,
          3.8249998092651367,
          2.341666412353516,
          4.424999046325683,
          11.671664810180664,
          1.663332748413086,
          5.671666526794434,
          0.7433326721191407,
          2.6833332061767576,
          2.115000915527344,
          3.433333969116211,
          8.075,
          0.9783336639404296,
          3.669999694824219,
          0.6233329772949219,
          1.491666030883789,
          4.8116662979125975,
          1.088332748413086,
          11.880000686645507,
          5.0000005722045895,
          1.9933319091796875,
          2.555001449584961,
          2.238331604003906,
          1.0833324432373046,
          2.2250003814697266,
          1.060000228881836,
          2.9016660690307616,
          2.678333282470703,
          12.416666412353516,
          1.6133331298828124,
          1.318333053588867,
          1.3466655731201171,
          5.413333320617676,
          3.8066673278808594,
          2.158333969116211,
          2.268333625793457,
          11.261666798591614,
          2.0666664123535154,
          2.1216670989990236,
          1.880000686645508,
          3.8683330535888674,
          0.8450000762939454,
          4.548333168029785,
          2.9533334732055665,
          2.7450008392333984,
          4.1716667175292965,
          1.505000686645508,
          2.134999084472656,
          2.744998741149902,
          1.075,
          4.946665191650391,
          7.026665496826172,
          4.530000686645508,
          0.8699996948242188,
          5.354998779296875,
          1.508335494995117,
          2.6800004959106447,
          4.351665306091308,
          2.425000762939453,
          1.4283329010009767,
          1.7816669464111328,
          5.521665954589844,
          10.076667213439942,
          0.8783332824707031,
          5.288332748413086,
          3.478333854675293,
          5.388333892822265,
          4.403334045410157,
          0.8883346557617188,
          1.3099994659423828,
          2.9366662979125975,
          2.3716663360595702,
          1.8116653442382813,
          1.1633331298828125,
          1.9883331298828124,
          1.8733345031738282,
          5.483333015441895,
          0.7983329772949219,
          1.3416664123535156,
          2.265000915527344,
          4.589999771118164,
          1.011667251586914,
          1.7616668701171876,
          2.141666030883789,
          4.411666297912598,
          3.118333435058594,
          9.179999160766602,
          1.5166675567626953,
          4.898333549499512,
          2.148332977294922,
          4.41833267211914,
          6.461667442321778,
          3.8433332443237305,
          0.5766677856445312,
          9.953333282470703,
          1.7650001525878907,
          1.2149997711181642,
          1.636666488647461,
          5.075,
          3.2116668701171873,
          1.275,
          4.011666107177734,
          4.741666984558106,
          2.686666488647461,
          0.7466659545898438,
          2.6200000762939455,
          2.5100006103515624,
          1.5216663360595704,
          4.738333892822266,
          4.0316667556762695,
          0.6999996185302735,
          3.803334045410156,
          1.2633338928222657,
          3.073334503173828,
          3.0783317565917967,
          2.8516674041748047,
          1.575,
          1.614999771118164,
          1.8733325958251954,
          1.2550003051757812,
          1.0383331298828125,
          2.49666748046875,
          2.6783329010009767,
          3.0799991607666017,
          2.238333892822266,
          3.586666488647461,
          4.063332557678223,
          1.7083335876464845,
          3.029999923706055,
          2.6083335876464844,
          2.4633352279663088,
          0.7933334350585938,
          1.8266666412353516
         ],
         "xaxis": "x",
         "y": [
          0.7191519737243652,
          0.6658405661582947,
          0.5809860825538635,
          0.8379141092300415,
          0.5716394782066345,
          0.7656046152114868,
          0.4469732642173767,
          0.7309078574180603,
          0.8800322413444519,
          0.9031820297241211,
          0.8455580472946167,
          0.8249984979629517,
          0.8885761499404907,
          0.7901067137718201,
          0.752985417842865,
          0.6691964864730835,
          0.8713346719741821,
          0.8239189386367798,
          0.8309286236763,
          0.7352093458175659,
          0.7479649782180786,
          0.726454496383667,
          0.792442798614502,
          0.7082162499427795,
          0.9109902381896973,
          0.816802978515625,
          0.7996939420700073,
          0.877982497215271,
          0.915483295917511,
          0.902432918548584,
          0.8545147180557251,
          0.8630493879318237,
          0.8376450538635254,
          0.9281627535820007,
          0.8200249671936035,
          0.8582948446273804,
          0.8475373387336731,
          0.6321884989738464,
          0.8686677813529968,
          0.624010443687439,
          0.9175034761428833,
          0.825153648853302,
          0.9023534655570984,
          0.8799139261245728,
          0.7874952554702759,
          0.9008482694625854,
          0.6810566782951355,
          0.8723966479301453,
          0.8809525370597839,
          0.5524309277534485,
          0.7412672638893127,
          0.6479539275169373,
          0.8177472949028015,
          0.8618634343147278,
          0.891898512840271,
          0.7903664708137512,
          0.795435905456543,
          0.8418229222297668,
          0.7500053644180298,
          0.7568391561508179,
          0.819612979888916,
          0.7366389632225037,
          0.7870575189590454,
          0.8630844354629517,
          0.8993080854415894,
          0.8116700053215027,
          0.6856790781021118,
          0.9170517921447754,
          0.8754277229309082,
          0.898327648639679,
          0.864412784576416,
          0.9133026003837585,
          0.7320377826690674,
          0.8492377996444702,
          0.784382164478302,
          0.9199240803718567,
          0.8783535957336426,
          0.8806931376457214,
          0.7142351865768433,
          0.9134534001350403,
          0.8978565335273743,
          0.8008328676223755,
          0.7882856130599976,
          0.8039789199829102,
          0.8881551027297974,
          0.7887770533561707,
          0.8920947909355164,
          0.6095540523529053,
          0.8312230110168457,
          0.8351886868476868,
          0.8262783288955688,
          0.7511966228485107,
          0.8519147634506226,
          0.8057318925857544,
          0.8735092878341675,
          0.7896064519882202,
          0.9411199688911438,
          0.6819950342178345,
          0.8398553133010864,
          0.8423840403556824,
          0.7489661574363708,
          0.8699746131896973,
          0.8224517703056335,
          0.7546319365501404,
          0.9102285504341125,
          0.7020343542098999,
          0.7781995534896851,
          0.673906683921814,
          0.8736668825149536,
          0.8140300512313843,
          0.8080240488052368,
          0.8001133799552917,
          0.8127824664115906,
          0.8708767890930176,
          0.8557327389717102,
          0.7088460326194763,
          0.7930799722671509,
          0.7443164587020874,
          0.9169050455093384,
          0.8398795127868652,
          0.794280469417572,
          0.5846792459487915,
          0.668851375579834,
          0.8790395855903625,
          0.8220549821853638,
          0.6412543058395386,
          0.8703582882881165,
          0.8861549496650696,
          0.8958975076675415,
          0.9053100347518921,
          0.8383280038833618,
          0.823414146900177,
          0.9018368721008301,
          0.8001381754875183,
          0.7208049297332764,
          0.8348897695541382,
          0.7502970695495605,
          0.866511344909668,
          0.8515922427177429,
          0.6428455114364624,
          0.7998418211936951,
          0.7990586161613464,
          0.85285884141922,
          0.7560973167419434,
          0.9065211415290833,
          0.5825273394584656,
          0.6382147073745728,
          0.7556813955307007,
          0.9072631001472473,
          0.5508731603622437,
          0.8022249937057495,
          0.7095907926559448,
          0.8788935542106628,
          0.7773081660270691,
          0.8041055798530579,
          0.7948580980300903,
          0.8729286193847656,
          0.7714619040489197,
          0.7596405148506165,
          0.8663091659545898,
          0.7946181893348694,
          0.8183344006538391,
          0.7825311422348022,
          0.6588557958602905,
          0.8087531924247742,
          0.9012314081192017,
          0.749759316444397,
          0.8202230334281921,
          0.6936889886856079,
          0.8897134065628052,
          0.6974758505821228,
          0.9005845189094543,
          0.829709529876709,
          0.7833071947097778,
          0.9153663516044617,
          0.8748906254768372,
          0.8256405591964722,
          0.8481308221817017,
          0.8556510806083679,
          0.8877385258674622,
          0.7660032510757446,
          0.8352667689323425,
          0.7813645601272583,
          0.8440079689025879,
          0.8018180131912231,
          0.8558946847915649,
          0.9445594549179077,
          0.7922488451004028
         ],
         "yaxis": "y"
        }
       ],
       "layout": {
        "legend": {
         "tracegroupgap": 0
        },
        "margin": {
         "t": 60
        },
        "template": {
         "data": {
          "bar": [
           {
            "error_x": {
             "color": "#2a3f5f"
            },
            "error_y": {
             "color": "#2a3f5f"
            },
            "marker": {
             "line": {
              "color": "#E5ECF6",
              "width": 0.5
             },
             "pattern": {
              "fillmode": "overlay",
              "size": 10,
              "solidity": 0.2
             }
            },
            "type": "bar"
           }
          ],
          "barpolar": [
           {
            "marker": {
             "line": {
              "color": "#E5ECF6",
              "width": 0.5
             },
             "pattern": {
              "fillmode": "overlay",
              "size": 10,
              "solidity": 0.2
             }
            },
            "type": "barpolar"
           }
          ],
          "carpet": [
           {
            "aaxis": {
             "endlinecolor": "#2a3f5f",
             "gridcolor": "white",
             "linecolor": "white",
             "minorgridcolor": "white",
             "startlinecolor": "#2a3f5f"
            },
            "baxis": {
             "endlinecolor": "#2a3f5f",
             "gridcolor": "white",
             "linecolor": "white",
             "minorgridcolor": "white",
             "startlinecolor": "#2a3f5f"
            },
            "type": "carpet"
           }
          ],
          "choropleth": [
           {
            "colorbar": {
             "outlinewidth": 0,
             "ticks": ""
            },
            "type": "choropleth"
           }
          ],
          "contour": [
           {
            "colorbar": {
             "outlinewidth": 0,
             "ticks": ""
            },
            "colorscale": [
             [
              0,
              "#0d0887"
             ],
             [
              0.1111111111111111,
              "#46039f"
             ],
             [
              0.2222222222222222,
              "#7201a8"
             ],
             [
              0.3333333333333333,
              "#9c179e"
             ],
             [
              0.4444444444444444,
              "#bd3786"
             ],
             [
              0.5555555555555556,
              "#d8576b"
             ],
             [
              0.6666666666666666,
              "#ed7953"
             ],
             [
              0.7777777777777778,
              "#fb9f3a"
             ],
             [
              0.8888888888888888,
              "#fdca26"
             ],
             [
              1,
              "#f0f921"
             ]
            ],
            "type": "contour"
           }
          ],
          "contourcarpet": [
           {
            "colorbar": {
             "outlinewidth": 0,
             "ticks": ""
            },
            "type": "contourcarpet"
           }
          ],
          "heatmap": [
           {
            "colorbar": {
             "outlinewidth": 0,
             "ticks": ""
            },
            "colorscale": [
             [
              0,
              "#0d0887"
             ],
             [
              0.1111111111111111,
              "#46039f"
             ],
             [
              0.2222222222222222,
              "#7201a8"
             ],
             [
              0.3333333333333333,
              "#9c179e"
             ],
             [
              0.4444444444444444,
              "#bd3786"
             ],
             [
              0.5555555555555556,
              "#d8576b"
             ],
             [
              0.6666666666666666,
              "#ed7953"
             ],
             [
              0.7777777777777778,
              "#fb9f3a"
             ],
             [
              0.8888888888888888,
              "#fdca26"
             ],
             [
              1,
              "#f0f921"
             ]
            ],
            "type": "heatmap"
           }
          ],
          "heatmapgl": [
           {
            "colorbar": {
             "outlinewidth": 0,
             "ticks": ""
            },
            "colorscale": [
             [
              0,
              "#0d0887"
             ],
             [
              0.1111111111111111,
              "#46039f"
             ],
             [
              0.2222222222222222,
              "#7201a8"
             ],
             [
              0.3333333333333333,
              "#9c179e"
             ],
             [
              0.4444444444444444,
              "#bd3786"
             ],
             [
              0.5555555555555556,
              "#d8576b"
             ],
             [
              0.6666666666666666,
              "#ed7953"
             ],
             [
              0.7777777777777778,
              "#fb9f3a"
             ],
             [
              0.8888888888888888,
              "#fdca26"
             ],
             [
              1,
              "#f0f921"
             ]
            ],
            "type": "heatmapgl"
           }
          ],
          "histogram": [
           {
            "marker": {
             "pattern": {
              "fillmode": "overlay",
              "size": 10,
              "solidity": 0.2
             }
            },
            "type": "histogram"
           }
          ],
          "histogram2d": [
           {
            "colorbar": {
             "outlinewidth": 0,
             "ticks": ""
            },
            "colorscale": [
             [
              0,
              "#0d0887"
             ],
             [
              0.1111111111111111,
              "#46039f"
             ],
             [
              0.2222222222222222,
              "#7201a8"
             ],
             [
              0.3333333333333333,
              "#9c179e"
             ],
             [
              0.4444444444444444,
              "#bd3786"
             ],
             [
              0.5555555555555556,
              "#d8576b"
             ],
             [
              0.6666666666666666,
              "#ed7953"
             ],
             [
              0.7777777777777778,
              "#fb9f3a"
             ],
             [
              0.8888888888888888,
              "#fdca26"
             ],
             [
              1,
              "#f0f921"
             ]
            ],
            "type": "histogram2d"
           }
          ],
          "histogram2dcontour": [
           {
            "colorbar": {
             "outlinewidth": 0,
             "ticks": ""
            },
            "colorscale": [
             [
              0,
              "#0d0887"
             ],
             [
              0.1111111111111111,
              "#46039f"
             ],
             [
              0.2222222222222222,
              "#7201a8"
             ],
             [
              0.3333333333333333,
              "#9c179e"
             ],
             [
              0.4444444444444444,
              "#bd3786"
             ],
             [
              0.5555555555555556,
              "#d8576b"
             ],
             [
              0.6666666666666666,
              "#ed7953"
             ],
             [
              0.7777777777777778,
              "#fb9f3a"
             ],
             [
              0.8888888888888888,
              "#fdca26"
             ],
             [
              1,
              "#f0f921"
             ]
            ],
            "type": "histogram2dcontour"
           }
          ],
          "mesh3d": [
           {
            "colorbar": {
             "outlinewidth": 0,
             "ticks": ""
            },
            "type": "mesh3d"
           }
          ],
          "parcoords": [
           {
            "line": {
             "colorbar": {
              "outlinewidth": 0,
              "ticks": ""
             }
            },
            "type": "parcoords"
           }
          ],
          "pie": [
           {
            "automargin": true,
            "type": "pie"
           }
          ],
          "scatter": [
           {
            "fillpattern": {
             "fillmode": "overlay",
             "size": 10,
             "solidity": 0.2
            },
            "type": "scatter"
           }
          ],
          "scatter3d": [
           {
            "line": {
             "colorbar": {
              "outlinewidth": 0,
              "ticks": ""
             }
            },
            "marker": {
             "colorbar": {
              "outlinewidth": 0,
              "ticks": ""
             }
            },
            "type": "scatter3d"
           }
          ],
          "scattercarpet": [
           {
            "marker": {
             "colorbar": {
              "outlinewidth": 0,
              "ticks": ""
             }
            },
            "type": "scattercarpet"
           }
          ],
          "scattergeo": [
           {
            "marker": {
             "colorbar": {
              "outlinewidth": 0,
              "ticks": ""
             }
            },
            "type": "scattergeo"
           }
          ],
          "scattergl": [
           {
            "marker": {
             "colorbar": {
              "outlinewidth": 0,
              "ticks": ""
             }
            },
            "type": "scattergl"
           }
          ],
          "scattermapbox": [
           {
            "marker": {
             "colorbar": {
              "outlinewidth": 0,
              "ticks": ""
             }
            },
            "type": "scattermapbox"
           }
          ],
          "scatterpolar": [
           {
            "marker": {
             "colorbar": {
              "outlinewidth": 0,
              "ticks": ""
             }
            },
            "type": "scatterpolar"
           }
          ],
          "scatterpolargl": [
           {
            "marker": {
             "colorbar": {
              "outlinewidth": 0,
              "ticks": ""
             }
            },
            "type": "scatterpolargl"
           }
          ],
          "scatterternary": [
           {
            "marker": {
             "colorbar": {
              "outlinewidth": 0,
              "ticks": ""
             }
            },
            "type": "scatterternary"
           }
          ],
          "surface": [
           {
            "colorbar": {
             "outlinewidth": 0,
             "ticks": ""
            },
            "colorscale": [
             [
              0,
              "#0d0887"
             ],
             [
              0.1111111111111111,
              "#46039f"
             ],
             [
              0.2222222222222222,
              "#7201a8"
             ],
             [
              0.3333333333333333,
              "#9c179e"
             ],
             [
              0.4444444444444444,
              "#bd3786"
             ],
             [
              0.5555555555555556,
              "#d8576b"
             ],
             [
              0.6666666666666666,
              "#ed7953"
             ],
             [
              0.7777777777777778,
              "#fb9f3a"
             ],
             [
              0.8888888888888888,
              "#fdca26"
             ],
             [
              1,
              "#f0f921"
             ]
            ],
            "type": "surface"
           }
          ],
          "table": [
           {
            "cells": {
             "fill": {
              "color": "#EBF0F8"
             },
             "line": {
              "color": "white"
             }
            },
            "header": {
             "fill": {
              "color": "#C8D4E3"
             },
             "line": {
              "color": "white"
             }
            },
            "type": "table"
           }
          ]
         },
         "layout": {
          "annotationdefaults": {
           "arrowcolor": "#2a3f5f",
           "arrowhead": 0,
           "arrowwidth": 1
          },
          "autotypenumbers": "strict",
          "coloraxis": {
           "colorbar": {
            "outlinewidth": 0,
            "ticks": ""
           }
          },
          "colorscale": {
           "diverging": [
            [
             0,
             "#8e0152"
            ],
            [
             0.1,
             "#c51b7d"
            ],
            [
             0.2,
             "#de77ae"
            ],
            [
             0.3,
             "#f1b6da"
            ],
            [
             0.4,
             "#fde0ef"
            ],
            [
             0.5,
             "#f7f7f7"
            ],
            [
             0.6,
             "#e6f5d0"
            ],
            [
             0.7,
             "#b8e186"
            ],
            [
             0.8,
             "#7fbc41"
            ],
            [
             0.9,
             "#4d9221"
            ],
            [
             1,
             "#276419"
            ]
           ],
           "sequential": [
            [
             0,
             "#0d0887"
            ],
            [
             0.1111111111111111,
             "#46039f"
            ],
            [
             0.2222222222222222,
             "#7201a8"
            ],
            [
             0.3333333333333333,
             "#9c179e"
            ],
            [
             0.4444444444444444,
             "#bd3786"
            ],
            [
             0.5555555555555556,
             "#d8576b"
            ],
            [
             0.6666666666666666,
             "#ed7953"
            ],
            [
             0.7777777777777778,
             "#fb9f3a"
            ],
            [
             0.8888888888888888,
             "#fdca26"
            ],
            [
             1,
             "#f0f921"
            ]
           ],
           "sequentialminus": [
            [
             0,
             "#0d0887"
            ],
            [
             0.1111111111111111,
             "#46039f"
            ],
            [
             0.2222222222222222,
             "#7201a8"
            ],
            [
             0.3333333333333333,
             "#9c179e"
            ],
            [
             0.4444444444444444,
             "#bd3786"
            ],
            [
             0.5555555555555556,
             "#d8576b"
            ],
            [
             0.6666666666666666,
             "#ed7953"
            ],
            [
             0.7777777777777778,
             "#fb9f3a"
            ],
            [
             0.8888888888888888,
             "#fdca26"
            ],
            [
             1,
             "#f0f921"
            ]
           ]
          },
          "colorway": [
           "#636efa",
           "#EF553B",
           "#00cc96",
           "#ab63fa",
           "#FFA15A",
           "#19d3f3",
           "#FF6692",
           "#B6E880",
           "#FF97FF",
           "#FECB52"
          ],
          "font": {
           "color": "#2a3f5f"
          },
          "geo": {
           "bgcolor": "white",
           "lakecolor": "white",
           "landcolor": "#E5ECF6",
           "showlakes": true,
           "showland": true,
           "subunitcolor": "white"
          },
          "hoverlabel": {
           "align": "left"
          },
          "hovermode": "closest",
          "mapbox": {
           "style": "light"
          },
          "paper_bgcolor": "white",
          "plot_bgcolor": "#E5ECF6",
          "polar": {
           "angularaxis": {
            "gridcolor": "white",
            "linecolor": "white",
            "ticks": ""
           },
           "bgcolor": "#E5ECF6",
           "radialaxis": {
            "gridcolor": "white",
            "linecolor": "white",
            "ticks": ""
           }
          },
          "scene": {
           "xaxis": {
            "backgroundcolor": "#E5ECF6",
            "gridcolor": "white",
            "gridwidth": 2,
            "linecolor": "white",
            "showbackground": true,
            "ticks": "",
            "zerolinecolor": "white"
           },
           "yaxis": {
            "backgroundcolor": "#E5ECF6",
            "gridcolor": "white",
            "gridwidth": 2,
            "linecolor": "white",
            "showbackground": true,
            "ticks": "",
            "zerolinecolor": "white"
           },
           "zaxis": {
            "backgroundcolor": "#E5ECF6",
            "gridcolor": "white",
            "gridwidth": 2,
            "linecolor": "white",
            "showbackground": true,
            "ticks": "",
            "zerolinecolor": "white"
           }
          },
          "shapedefaults": {
           "line": {
            "color": "#2a3f5f"
           }
          },
          "ternary": {
           "aaxis": {
            "gridcolor": "white",
            "linecolor": "white",
            "ticks": ""
           },
           "baxis": {
            "gridcolor": "white",
            "linecolor": "white",
            "ticks": ""
           },
           "bgcolor": "#E5ECF6",
           "caxis": {
            "gridcolor": "white",
            "linecolor": "white",
            "ticks": ""
           }
          },
          "title": {
           "x": 0.05
          },
          "xaxis": {
           "automargin": true,
           "gridcolor": "white",
           "linecolor": "white",
           "ticks": "",
           "title": {
            "standoff": 15
           },
           "zerolinecolor": "white",
           "zerolinewidth": 2
          },
          "yaxis": {
           "automargin": true,
           "gridcolor": "white",
           "linecolor": "white",
           "ticks": "",
           "title": {
            "standoff": 15
           },
           "zerolinecolor": "white",
           "zerolinewidth": 2
          }
         }
        },
        "xaxis": {
         "anchor": "y",
         "domain": [
          0,
          1
         ],
         "title": {
          "text": "t_max"
         }
        },
        "yaxis": {
         "anchor": "x",
         "domain": [
          0,
          1
         ],
         "title": {
          "text": "similarity score"
         }
        }
       }
      },
      "text/html": [
       "<div>                            <div id=\"7572d92c-181d-4def-b300-7c8929e26c8c\" class=\"plotly-graph-div\" style=\"height:525px; width:100%;\"></div>            <script type=\"text/javascript\">                require([\"plotly\"], function(Plotly) {                    window.PLOTLYENV=window.PLOTLYENV || {};                                    if (document.getElementById(\"7572d92c-181d-4def-b300-7c8929e26c8c\")) {                    Plotly.newPlot(                        \"7572d92c-181d-4def-b300-7c8929e26c8c\",                        [{\"hovertemplate\":\"t_max=%{x}<br>similarity score=%{y}<extra></extra>\",\"legendgroup\":\"\",\"marker\":{\"color\":\"#636efa\",\"symbol\":\"circle\"},\"mode\":\"markers\",\"name\":\"\",\"orientation\":\"v\",\"showlegend\":false,\"x\":[3.883332633972168,0.6883323669433594,16.54333362579346,2.8666664123535157,14.585000038146973,1.7500003814697265,16.23333282470703,1.533333969116211,2.879998779296875,0.8266674041748047,2.629998779296875,3.0149999618530274,1.2166667938232423,5.741667366027832,1.15,3.8266681671142577,1.8049999237060548,1.8700008392333984,2.013332748413086,4.480000305175781,3.373333740234375,6.186666870117188,1.5083335876464843,7.65333251953125,0.810000228881836,4.776666259765625,2.0283329010009767,1.5300003051757813,2.2466667175292967,1.0233329772949218,1.5533329010009767,5.658333969116211,8.923332786560058,0.7966670989990234,3.3533329010009765,0.5799995422363281,3.72833137512207,9.171665954589844,5.238333511352539,4.7383325576782225,1.0083332061767578,2.6983333587646485,1.1383346557617187,2.6849990844726563,10.575000190734864,1.0300006866455078,14.836665916442872,3.8549991607666017,1.7283329010009765,14.048333168029785,1.3900001525878907,4.575,9.69666805267334,2.583332824707031,1.4283336639404296,0.998333740234375,3.8249998092651367,2.341666412353516,4.424999046325683,11.671664810180664,1.663332748413086,5.671666526794434,0.7433326721191407,2.6833332061767576,2.115000915527344,3.433333969116211,8.075,0.9783336639404296,3.669999694824219,0.6233329772949219,1.491666030883789,4.8116662979125975,1.088332748413086,11.880000686645507,5.0000005722045895,1.9933319091796875,2.555001449584961,2.238331604003906,1.0833324432373046,2.2250003814697266,1.060000228881836,2.9016660690307616,2.678333282470703,12.416666412353516,1.6133331298828124,1.318333053588867,1.3466655731201171,5.413333320617676,3.8066673278808594,2.158333969116211,2.268333625793457,11.261666798591614,2.0666664123535154,2.1216670989990236,1.880000686645508,3.8683330535888674,0.8450000762939454,4.548333168029785,2.9533334732055665,2.7450008392333984,4.1716667175292965,1.505000686645508,2.134999084472656,2.744998741149902,1.075,4.946665191650391,7.026665496826172,4.530000686645508,0.8699996948242188,5.354998779296875,1.508335494995117,2.6800004959106447,4.351665306091308,2.425000762939453,1.4283329010009767,1.7816669464111328,5.521665954589844,10.076667213439942,0.8783332824707031,5.288332748413086,3.478333854675293,5.388333892822265,4.403334045410157,0.8883346557617188,1.3099994659423828,2.9366662979125975,2.3716663360595702,1.8116653442382813,1.1633331298828125,1.9883331298828124,1.8733345031738282,5.483333015441895,0.7983329772949219,1.3416664123535156,2.265000915527344,4.589999771118164,1.011667251586914,1.7616668701171876,2.141666030883789,4.411666297912598,3.118333435058594,9.179999160766602,1.5166675567626953,4.898333549499512,2.148332977294922,4.41833267211914,6.461667442321778,3.8433332443237305,0.5766677856445312,9.953333282470703,1.7650001525878907,1.2149997711181642,1.636666488647461,5.075,3.2116668701171873,1.275,4.011666107177734,4.741666984558106,2.686666488647461,0.7466659545898438,2.6200000762939455,2.5100006103515624,1.5216663360595704,4.738333892822266,4.0316667556762695,0.6999996185302735,3.803334045410156,1.2633338928222657,3.073334503173828,3.0783317565917967,2.8516674041748047,1.575,1.614999771118164,1.8733325958251954,1.2550003051757812,1.0383331298828125,2.49666748046875,2.6783329010009767,3.0799991607666017,2.238333892822266,3.586666488647461,4.063332557678223,1.7083335876464845,3.029999923706055,2.6083335876464844,2.4633352279663088,0.7933334350585938,1.8266666412353516],\"xaxis\":\"x\",\"y\":[0.7191519737243652,0.6658405661582947,0.5809860825538635,0.8379141092300415,0.5716394782066345,0.7656046152114868,0.4469732642173767,0.7309078574180603,0.8800322413444519,0.9031820297241211,0.8455580472946167,0.8249984979629517,0.8885761499404907,0.7901067137718201,0.752985417842865,0.6691964864730835,0.8713346719741821,0.8239189386367798,0.8309286236763,0.7352093458175659,0.7479649782180786,0.726454496383667,0.792442798614502,0.7082162499427795,0.9109902381896973,0.816802978515625,0.7996939420700073,0.877982497215271,0.915483295917511,0.902432918548584,0.8545147180557251,0.8630493879318237,0.8376450538635254,0.9281627535820007,0.8200249671936035,0.8582948446273804,0.8475373387336731,0.6321884989738464,0.8686677813529968,0.624010443687439,0.9175034761428833,0.825153648853302,0.9023534655570984,0.8799139261245728,0.7874952554702759,0.9008482694625854,0.6810566782951355,0.8723966479301453,0.8809525370597839,0.5524309277534485,0.7412672638893127,0.6479539275169373,0.8177472949028015,0.8618634343147278,0.891898512840271,0.7903664708137512,0.795435905456543,0.8418229222297668,0.7500053644180298,0.7568391561508179,0.819612979888916,0.7366389632225037,0.7870575189590454,0.8630844354629517,0.8993080854415894,0.8116700053215027,0.6856790781021118,0.9170517921447754,0.8754277229309082,0.898327648639679,0.864412784576416,0.9133026003837585,0.7320377826690674,0.8492377996444702,0.784382164478302,0.9199240803718567,0.8783535957336426,0.8806931376457214,0.7142351865768433,0.9134534001350403,0.8978565335273743,0.8008328676223755,0.7882856130599976,0.8039789199829102,0.8881551027297974,0.7887770533561707,0.8920947909355164,0.6095540523529053,0.8312230110168457,0.8351886868476868,0.8262783288955688,0.7511966228485107,0.8519147634506226,0.8057318925857544,0.8735092878341675,0.7896064519882202,0.9411199688911438,0.6819950342178345,0.8398553133010864,0.8423840403556824,0.7489661574363708,0.8699746131896973,0.8224517703056335,0.7546319365501404,0.9102285504341125,0.7020343542098999,0.7781995534896851,0.673906683921814,0.8736668825149536,0.8140300512313843,0.8080240488052368,0.8001133799552917,0.8127824664115906,0.8708767890930176,0.8557327389717102,0.7088460326194763,0.7930799722671509,0.7443164587020874,0.9169050455093384,0.8398795127868652,0.794280469417572,0.5846792459487915,0.668851375579834,0.8790395855903625,0.8220549821853638,0.6412543058395386,0.8703582882881165,0.8861549496650696,0.8958975076675415,0.9053100347518921,0.8383280038833618,0.823414146900177,0.9018368721008301,0.8001381754875183,0.7208049297332764,0.8348897695541382,0.7502970695495605,0.866511344909668,0.8515922427177429,0.6428455114364624,0.7998418211936951,0.7990586161613464,0.85285884141922,0.7560973167419434,0.9065211415290833,0.5825273394584656,0.6382147073745728,0.7556813955307007,0.9072631001472473,0.5508731603622437,0.8022249937057495,0.7095907926559448,0.8788935542106628,0.7773081660270691,0.8041055798530579,0.7948580980300903,0.8729286193847656,0.7714619040489197,0.7596405148506165,0.8663091659545898,0.7946181893348694,0.8183344006538391,0.7825311422348022,0.6588557958602905,0.8087531924247742,0.9012314081192017,0.749759316444397,0.8202230334281921,0.6936889886856079,0.8897134065628052,0.6974758505821228,0.9005845189094543,0.829709529876709,0.7833071947097778,0.9153663516044617,0.8748906254768372,0.8256405591964722,0.8481308221817017,0.8556510806083679,0.8877385258674622,0.7660032510757446,0.8352667689323425,0.7813645601272583,0.8440079689025879,0.8018180131912231,0.8558946847915649,0.9445594549179077,0.7922488451004028],\"yaxis\":\"y\",\"type\":\"scatter\"}],                        {\"template\":{\"data\":{\"histogram2dcontour\":[{\"type\":\"histogram2dcontour\",\"colorbar\":{\"outlinewidth\":0,\"ticks\":\"\"},\"colorscale\":[[0.0,\"#0d0887\"],[0.1111111111111111,\"#46039f\"],[0.2222222222222222,\"#7201a8\"],[0.3333333333333333,\"#9c179e\"],[0.4444444444444444,\"#bd3786\"],[0.5555555555555556,\"#d8576b\"],[0.6666666666666666,\"#ed7953\"],[0.7777777777777778,\"#fb9f3a\"],[0.8888888888888888,\"#fdca26\"],[1.0,\"#f0f921\"]]}],\"choropleth\":[{\"type\":\"choropleth\",\"colorbar\":{\"outlinewidth\":0,\"ticks\":\"\"}}],\"histogram2d\":[{\"type\":\"histogram2d\",\"colorbar\":{\"outlinewidth\":0,\"ticks\":\"\"},\"colorscale\":[[0.0,\"#0d0887\"],[0.1111111111111111,\"#46039f\"],[0.2222222222222222,\"#7201a8\"],[0.3333333333333333,\"#9c179e\"],[0.4444444444444444,\"#bd3786\"],[0.5555555555555556,\"#d8576b\"],[0.6666666666666666,\"#ed7953\"],[0.7777777777777778,\"#fb9f3a\"],[0.8888888888888888,\"#fdca26\"],[1.0,\"#f0f921\"]]}],\"heatmap\":[{\"type\":\"heatmap\",\"colorbar\":{\"outlinewidth\":0,\"ticks\":\"\"},\"colorscale\":[[0.0,\"#0d0887\"],[0.1111111111111111,\"#46039f\"],[0.2222222222222222,\"#7201a8\"],[0.3333333333333333,\"#9c179e\"],[0.4444444444444444,\"#bd3786\"],[0.5555555555555556,\"#d8576b\"],[0.6666666666666666,\"#ed7953\"],[0.7777777777777778,\"#fb9f3a\"],[0.8888888888888888,\"#fdca26\"],[1.0,\"#f0f921\"]]}],\"heatmapgl\":[{\"type\":\"heatmapgl\",\"colorbar\":{\"outlinewidth\":0,\"ticks\":\"\"},\"colorscale\":[[0.0,\"#0d0887\"],[0.1111111111111111,\"#46039f\"],[0.2222222222222222,\"#7201a8\"],[0.3333333333333333,\"#9c179e\"],[0.4444444444444444,\"#bd3786\"],[0.5555555555555556,\"#d8576b\"],[0.6666666666666666,\"#ed7953\"],[0.7777777777777778,\"#fb9f3a\"],[0.8888888888888888,\"#fdca26\"],[1.0,\"#f0f921\"]]}],\"contourcarpet\":[{\"type\":\"contourcarpet\",\"colorbar\":{\"outlinewidth\":0,\"ticks\":\"\"}}],\"contour\":[{\"type\":\"contour\",\"colorbar\":{\"outlinewidth\":0,\"ticks\":\"\"},\"colorscale\":[[0.0,\"#0d0887\"],[0.1111111111111111,\"#46039f\"],[0.2222222222222222,\"#7201a8\"],[0.3333333333333333,\"#9c179e\"],[0.4444444444444444,\"#bd3786\"],[0.5555555555555556,\"#d8576b\"],[0.6666666666666666,\"#ed7953\"],[0.7777777777777778,\"#fb9f3a\"],[0.8888888888888888,\"#fdca26\"],[1.0,\"#f0f921\"]]}],\"surface\":[{\"type\":\"surface\",\"colorbar\":{\"outlinewidth\":0,\"ticks\":\"\"},\"colorscale\":[[0.0,\"#0d0887\"],[0.1111111111111111,\"#46039f\"],[0.2222222222222222,\"#7201a8\"],[0.3333333333333333,\"#9c179e\"],[0.4444444444444444,\"#bd3786\"],[0.5555555555555556,\"#d8576b\"],[0.6666666666666666,\"#ed7953\"],[0.7777777777777778,\"#fb9f3a\"],[0.8888888888888888,\"#fdca26\"],[1.0,\"#f0f921\"]]}],\"mesh3d\":[{\"type\":\"mesh3d\",\"colorbar\":{\"outlinewidth\":0,\"ticks\":\"\"}}],\"scatter\":[{\"fillpattern\":{\"fillmode\":\"overlay\",\"size\":10,\"solidity\":0.2},\"type\":\"scatter\"}],\"parcoords\":[{\"type\":\"parcoords\",\"line\":{\"colorbar\":{\"outlinewidth\":0,\"ticks\":\"\"}}}],\"scatterpolargl\":[{\"type\":\"scatterpolargl\",\"marker\":{\"colorbar\":{\"outlinewidth\":0,\"ticks\":\"\"}}}],\"bar\":[{\"error_x\":{\"color\":\"#2a3f5f\"},\"error_y\":{\"color\":\"#2a3f5f\"},\"marker\":{\"line\":{\"color\":\"#E5ECF6\",\"width\":0.5},\"pattern\":{\"fillmode\":\"overlay\",\"size\":10,\"solidity\":0.2}},\"type\":\"bar\"}],\"scattergeo\":[{\"type\":\"scattergeo\",\"marker\":{\"colorbar\":{\"outlinewidth\":0,\"ticks\":\"\"}}}],\"scatterpolar\":[{\"type\":\"scatterpolar\",\"marker\":{\"colorbar\":{\"outlinewidth\":0,\"ticks\":\"\"}}}],\"histogram\":[{\"marker\":{\"pattern\":{\"fillmode\":\"overlay\",\"size\":10,\"solidity\":0.2}},\"type\":\"histogram\"}],\"scattergl\":[{\"type\":\"scattergl\",\"marker\":{\"colorbar\":{\"outlinewidth\":0,\"ticks\":\"\"}}}],\"scatter3d\":[{\"type\":\"scatter3d\",\"line\":{\"colorbar\":{\"outlinewidth\":0,\"ticks\":\"\"}},\"marker\":{\"colorbar\":{\"outlinewidth\":0,\"ticks\":\"\"}}}],\"scattermapbox\":[{\"type\":\"scattermapbox\",\"marker\":{\"colorbar\":{\"outlinewidth\":0,\"ticks\":\"\"}}}],\"scatterternary\":[{\"type\":\"scatterternary\",\"marker\":{\"colorbar\":{\"outlinewidth\":0,\"ticks\":\"\"}}}],\"scattercarpet\":[{\"type\":\"scattercarpet\",\"marker\":{\"colorbar\":{\"outlinewidth\":0,\"ticks\":\"\"}}}],\"carpet\":[{\"aaxis\":{\"endlinecolor\":\"#2a3f5f\",\"gridcolor\":\"white\",\"linecolor\":\"white\",\"minorgridcolor\":\"white\",\"startlinecolor\":\"#2a3f5f\"},\"baxis\":{\"endlinecolor\":\"#2a3f5f\",\"gridcolor\":\"white\",\"linecolor\":\"white\",\"minorgridcolor\":\"white\",\"startlinecolor\":\"#2a3f5f\"},\"type\":\"carpet\"}],\"table\":[{\"cells\":{\"fill\":{\"color\":\"#EBF0F8\"},\"line\":{\"color\":\"white\"}},\"header\":{\"fill\":{\"color\":\"#C8D4E3\"},\"line\":{\"color\":\"white\"}},\"type\":\"table\"}],\"barpolar\":[{\"marker\":{\"line\":{\"color\":\"#E5ECF6\",\"width\":0.5},\"pattern\":{\"fillmode\":\"overlay\",\"size\":10,\"solidity\":0.2}},\"type\":\"barpolar\"}],\"pie\":[{\"automargin\":true,\"type\":\"pie\"}]},\"layout\":{\"autotypenumbers\":\"strict\",\"colorway\":[\"#636efa\",\"#EF553B\",\"#00cc96\",\"#ab63fa\",\"#FFA15A\",\"#19d3f3\",\"#FF6692\",\"#B6E880\",\"#FF97FF\",\"#FECB52\"],\"font\":{\"color\":\"#2a3f5f\"},\"hovermode\":\"closest\",\"hoverlabel\":{\"align\":\"left\"},\"paper_bgcolor\":\"white\",\"plot_bgcolor\":\"#E5ECF6\",\"polar\":{\"bgcolor\":\"#E5ECF6\",\"angularaxis\":{\"gridcolor\":\"white\",\"linecolor\":\"white\",\"ticks\":\"\"},\"radialaxis\":{\"gridcolor\":\"white\",\"linecolor\":\"white\",\"ticks\":\"\"}},\"ternary\":{\"bgcolor\":\"#E5ECF6\",\"aaxis\":{\"gridcolor\":\"white\",\"linecolor\":\"white\",\"ticks\":\"\"},\"baxis\":{\"gridcolor\":\"white\",\"linecolor\":\"white\",\"ticks\":\"\"},\"caxis\":{\"gridcolor\":\"white\",\"linecolor\":\"white\",\"ticks\":\"\"}},\"coloraxis\":{\"colorbar\":{\"outlinewidth\":0,\"ticks\":\"\"}},\"colorscale\":{\"sequential\":[[0.0,\"#0d0887\"],[0.1111111111111111,\"#46039f\"],[0.2222222222222222,\"#7201a8\"],[0.3333333333333333,\"#9c179e\"],[0.4444444444444444,\"#bd3786\"],[0.5555555555555556,\"#d8576b\"],[0.6666666666666666,\"#ed7953\"],[0.7777777777777778,\"#fb9f3a\"],[0.8888888888888888,\"#fdca26\"],[1.0,\"#f0f921\"]],\"sequentialminus\":[[0.0,\"#0d0887\"],[0.1111111111111111,\"#46039f\"],[0.2222222222222222,\"#7201a8\"],[0.3333333333333333,\"#9c179e\"],[0.4444444444444444,\"#bd3786\"],[0.5555555555555556,\"#d8576b\"],[0.6666666666666666,\"#ed7953\"],[0.7777777777777778,\"#fb9f3a\"],[0.8888888888888888,\"#fdca26\"],[1.0,\"#f0f921\"]],\"diverging\":[[0,\"#8e0152\"],[0.1,\"#c51b7d\"],[0.2,\"#de77ae\"],[0.3,\"#f1b6da\"],[0.4,\"#fde0ef\"],[0.5,\"#f7f7f7\"],[0.6,\"#e6f5d0\"],[0.7,\"#b8e186\"],[0.8,\"#7fbc41\"],[0.9,\"#4d9221\"],[1,\"#276419\"]]},\"xaxis\":{\"gridcolor\":\"white\",\"linecolor\":\"white\",\"ticks\":\"\",\"title\":{\"standoff\":15},\"zerolinecolor\":\"white\",\"automargin\":true,\"zerolinewidth\":2},\"yaxis\":{\"gridcolor\":\"white\",\"linecolor\":\"white\",\"ticks\":\"\",\"title\":{\"standoff\":15},\"zerolinecolor\":\"white\",\"automargin\":true,\"zerolinewidth\":2},\"scene\":{\"xaxis\":{\"backgroundcolor\":\"#E5ECF6\",\"gridcolor\":\"white\",\"linecolor\":\"white\",\"showbackground\":true,\"ticks\":\"\",\"zerolinecolor\":\"white\",\"gridwidth\":2},\"yaxis\":{\"backgroundcolor\":\"#E5ECF6\",\"gridcolor\":\"white\",\"linecolor\":\"white\",\"showbackground\":true,\"ticks\":\"\",\"zerolinecolor\":\"white\",\"gridwidth\":2},\"zaxis\":{\"backgroundcolor\":\"#E5ECF6\",\"gridcolor\":\"white\",\"linecolor\":\"white\",\"showbackground\":true,\"ticks\":\"\",\"zerolinecolor\":\"white\",\"gridwidth\":2}},\"shapedefaults\":{\"line\":{\"color\":\"#2a3f5f\"}},\"annotationdefaults\":{\"arrowcolor\":\"#2a3f5f\",\"arrowhead\":0,\"arrowwidth\":1},\"geo\":{\"bgcolor\":\"white\",\"landcolor\":\"#E5ECF6\",\"subunitcolor\":\"white\",\"showland\":true,\"showlakes\":true,\"lakecolor\":\"white\"},\"title\":{\"x\":0.05},\"mapbox\":{\"style\":\"light\"}}},\"xaxis\":{\"anchor\":\"y\",\"domain\":[0.0,1.0],\"title\":{\"text\":\"t_max\"}},\"yaxis\":{\"anchor\":\"x\",\"domain\":[0.0,1.0],\"title\":{\"text\":\"similarity score\"}},\"legend\":{\"tracegroupgap\":0},\"margin\":{\"t\":60}},                        {\"responsive\": true}                    ).then(function(){\n",
       "                            \n",
       "var gd = document.getElementById('7572d92c-181d-4def-b300-7c8929e26c8c');\n",
       "var x = new MutationObserver(function (mutations, observer) {{\n",
       "        var display = window.getComputedStyle(gd).display;\n",
       "        if (!display || display === 'none') {{\n",
       "            console.log([gd, 'removed!']);\n",
       "            Plotly.purge(gd);\n",
       "            observer.disconnect();\n",
       "        }}\n",
       "}});\n",
       "\n",
       "// Listen for the removal of the full notebook cells\n",
       "var notebookContainer = gd.closest('#notebook-container');\n",
       "if (notebookContainer) {{\n",
       "    x.observe(notebookContainer, {childList: true});\n",
       "}}\n",
       "\n",
       "// Listen for the clearing of the current output cell\n",
       "var outputEl = gd.closest('.output');\n",
       "if (outputEl) {{\n",
       "    x.observe(outputEl, {childList: true});\n",
       "}}\n",
       "\n",
       "                        })                };                });            </script>        </div>"
      ]
     },
     "metadata": {},
     "output_type": "display_data"
    }
   ],
   "source": [
    "x = df1[df1.index.isin(pid_positive)].color_t_max.values\n",
    "y = list_sim_score1#[:-2]\n",
    "z = list_t_max_rmse1#[:-2]\n",
    "\n",
    "\n",
    "# y2 = list_sim_score2\n",
    "# z2 = list_t_max_rmse2\n",
    "\n",
    "x.shape, len(y)\n",
    "# plotly scatter plot. x-y and x-y2\n",
    "fig = go.Figure()\n",
    "_ = fig.add_trace(go.Scatter(x=x, y=y, mode='markers',\n",
    "                         marker=dict(size=5, color='blue'),\n",
    "                         name='TEE+DAM'))\n",
    "# _ =  fig.add_trace(go.Scatter(x=x, y=y2, mode='markers',\n",
    "#                             marker=dict(size=5, color='red'),\n",
    "#                             name='DAM'))\n",
    "_ =  fig.update_layout(title='Similarity score vs t_max',\n",
    "                    xaxis_title='t_max',\n",
    "                    yaxis_title='Similarity score')\n",
    "fig.show()\n",
    "\n",
    "# scatter plot for z y\n",
    "fig = px.scatter(x=z, y=y, labels={'x': 't_max', 'y': 'similarity score'})\n",
    "fig.show()\n",
    "\n"
   ]
  },
  {
   "cell_type": "code",
   "execution_count": 58,
   "metadata": {},
   "outputs": [
    {
     "data": {
      "text/plain": [
       "(1152, 9)"
      ]
     },
     "execution_count": 58,
     "metadata": {},
     "output_type": "execute_result"
    },
    {
     "data": {
      "text/plain": [
       "148"
      ]
     },
     "execution_count": 58,
     "metadata": {},
     "output_type": "execute_result"
    },
    {
     "data": {
      "text/plain": [
       "0"
      ]
     },
     "execution_count": 58,
     "metadata": {},
     "output_type": "execute_result"
    },
    {
     "data": {
      "text/plain": [
       "(1152, 140)"
      ]
     },
     "execution_count": 58,
     "metadata": {},
     "output_type": "execute_result"
    },
    {
     "data": {
      "text/plain": [
       "148"
      ]
     },
     "execution_count": 58,
     "metadata": {},
     "output_type": "execute_result"
    }
   ],
   "source": [
    "df1.shape\n",
    "len(list_sim_score1)\n",
    "len(bad_pids)\n",
    "X1.shape\n",
    "len(pid_positive)"
   ]
  },
  {
   "cell_type": "code",
   "execution_count": 36,
   "metadata": {},
   "outputs": [
    {
     "data": {
      "text/plain": [
       "{'path': 'hokarami/TEEDAM_supervised/2n678uyo',\n",
       " 'knn-ps-mean': 0.92488325,\n",
       " 'knn-ps-std': 0.03972259}"
      ]
     },
     "execution_count": 36,
     "metadata": {},
     "output_type": "execute_result"
    },
    {
     "data": {
      "text/plain": [
       "dict_keys(['non_pad_mask_list', 'event_type_list', 'event_time_list', 'next_event_type_list', 'list_intens_at_samples', 'list_taus', 'list_true_intens_at_evs', 'list_log_sum', 'list_integral_', 'state_mod_list', 'state_time_list', 'state_value_list', 'r_enc_list', 'list_TE_att', 'list_DAM_att', 'y_pred', 'y_true', 'y_score', 'y_true_list', 'masks', 'y_state_pred', 'y_state_true', 'y_state_score'])"
      ]
     },
     "execution_count": 36,
     "metadata": {},
     "output_type": "execute_result"
    },
    {
     "data": {
      "text/plain": [
       "9"
      ]
     },
     "execution_count": 36,
     "metadata": {},
     "output_type": "execute_result"
    },
    {
     "data": {
      "text/plain": [
       "torch.Size([128, 82, 24])"
      ]
     },
     "execution_count": 36,
     "metadata": {},
     "output_type": "execute_result"
    },
    {
     "data": {
      "text/plain": [
       "(1152, 128)"
      ]
     },
     "execution_count": 36,
     "metadata": {},
     "output_type": "execute_result"
    }
   ],
   "source": [
    "temptemp\n",
    "out1.keys()\n",
    "len(out1['event_type_list'])\n",
    "out1['event_type_list'][0].shape\n",
    "np.concatenate(out1['r_enc_list'], axis=0)[\n",
    "    :, model1.d_out_te:model1.d_out_te+model1.d_out_dam].shape"
   ]
  },
  {
   "cell_type": "code",
   "execution_count": 5,
   "metadata": {},
   "outputs": [
    {
     "name": "stderr",
     "output_type": "stream",
     "text": [
      "  0%|          | 0/80 [00:00<?, ?it/s]"
     ]
    },
    {
     "name": "stdout",
     "output_type": "stream",
     "text": [
      "############################## CUDA True\n",
      "[Info] INPUT TEDAM --> none-mark-label\n",
      "[Info] parameters: Namespace(data='/mlodata1/hokarami/tedam/p19-raindrop/split4/', data_label='multilabel', cuda=1, wandb=True, wandb_project='TEEDAM_supervised', wandb_tag='RD75', log_freq=1, prof=False, per=100, balanced_batch=True, transfer_learning='', tl_tag='None', freeze='', ES_pat=100, setting='raindrop', test_center='', split='4', log='log.txt', user_prefix='[RD74-TEDA__nextmark-concat]', pos_alpha=1.0, epoch=50, batch_size=128, lr=0.001, smooth=0.0, weight_decay=0.1, diag_offset=0, event_enc=1, time_enc='concat', te_d_mark=8, te_d_time=4, te_d_rnn=256, te_d_inner=32, te_d_k=8, te_d_v=8, te_n_head=4, te_n_layers=4, te_dropout=0.1, dam_output_activation='relu', dam_output_dims=16, dam_n_phi_layers=3, dam_phi_width=128, dam_phi_dropout=0.2, dam_n_psi_layers=2, dam_psi_width=64, dam_psi_latent_width=128, dam_dot_prod_dim=64, dam_n_heads=4, dam_attn_dropout=0.1, dam_latent_width=64, dam_n_rho_layers=2, dam_rho_width=128, dam_rho_dropout=0.1, dam_max_timescale=1000, dam_n_positional_dims=16, dam_online=False, state=True, demo=True, num_states=1, noise=False, mod='none', int_dec='sahp', w_event=1.0, next_mark=1, w_class=False, w_pos=False, mark_detach=0, w_time=1.0, sample_label=True, w_pos_label=0.3, w_sample_label=100.0, hparams2write={'data': '/mlodata1/hokarami/tedam/p19/', 'data_label': 'multilabel', 'cuda': 1, 'wandb': True, 'wandb_project': 'TEEDAM_supervised', 'wandb_tag': 'RD75', 'log_freq': 1, 'prof': False, 'per': 100, 'balanced_batch': True, 'transfer_learning': '', 'tl_tag': 'None', 'freeze': '', 'ES_pat': 100, 'setting': 'raindrop', 'test_center': '', 'split': '4', 'log': 'log.txt', 'user_prefix': '[RD74-TEDA__nextmark-concat]', 'pos_alpha': 1.0, 'epoch': 50, 'batch_size': 128, 'lr': 0.001, 'smooth': 0.0, 'weight_decay': 0.1, 'diag_offset': 0, 'event_enc': 1, 'time_enc': 'concat', 'te_d_mark': 8, 'te_d_time': 4, 'te_d_rnn': 256, 'te_d_inner': 32, 'te_d_k': 8, 'te_d_v': 8, 'te_n_head': 4, 'te_n_layers': 4, 'te_dropout': 0.1, 'dam_output_activation': 'relu', 'dam_output_dims': 16, 'dam_n_phi_layers': 3, 'dam_phi_width': 128, 'dam_phi_dropout': 0.2, 'dam_n_psi_layers': 2, 'dam_psi_width': 64, 'dam_psi_latent_width': 128, 'dam_dot_prod_dim': 64, 'dam_n_heads': 4, 'dam_attn_dropout': 0.1, 'dam_latent_width': 64, 'dam_n_rho_layers': 2, 'dam_rho_width': 128, 'dam_rho_dropout': 0.1, 'dam_max_timescale': 1000, 'dam_n_positional_dims': 16, 'dam_online': False, 'state': True, 'demo': True, 'num_states': 1, 'noise': False, 'mod': 'none', 'int_dec': 'sahp', 'w_event': 1.0, 'next_mark': 1, 'w_class': False, 'w_pos': False, 'mark_detach': 0, 'w_time': 1.0, 'sample_label': 1, 'w_pos_label': 0.3, 'w_sample_label': 100.0}, date='16-06-23--16-05-09', run_id='2726059', dataset='P19', str_config='-raindrop/split4', run_name='[RD74-TEDA__nextmark-concat]2726059', run_path='/mlodata1/hokarami/tedam/p19-raindrop/split4/[RD74-TEDA__nextmark-concat]2726059/', device=device(type='cuda'), INPUT='TEDAM', OUTPUT='none-mark-label')\n",
      "[Info] Loading train data...\n",
      "[Info] Loading dev data...\n",
      "[Info] Loading test data...\n",
      "[info] 100% of data will be considered\n",
      "[Info] Loading train STATE...\n",
      "[Info] Loading dev STATE...\n",
      "[Info] Loading test STATE...\n",
      "[info] 100% of data will be considered\n",
      "[info] True/total = 0.0401\n",
      "[info] balanced mini batches\n"
     ]
    },
    {
     "name": "stderr",
     "output_type": "stream",
     "text": [
      "  1%|▏         | 1/80 [00:43<57:43, 43.84s/it]"
     ]
    },
    {
     "name": "stdout",
     "output_type": "stream",
     "text": [
      "############################## CUDA True\n",
      "[Info] INPUT TEDAM --> none-mark-label\n",
      "[Info] parameters: Namespace(data='/mlodata1/hokarami/tedam/p12-raindrop/split4/', data_label='multilabel', cuda=1, wandb=True, wandb_project='TEEDAM_supervised', wandb_tag='RD75', log_freq=1, prof=False, per=100, balanced_batch=True, transfer_learning='', tl_tag='None', freeze='', ES_pat=100, setting='raindrop', test_center='', split='4', log='log.txt', user_prefix='[RD74-TEDA__nextmark-concat]', pos_alpha=1.0, epoch=50, batch_size=128, lr=0.001, smooth=0.0, weight_decay=0.1, diag_offset=0, event_enc=1, time_enc='concat', te_d_mark=8, te_d_time=4, te_d_rnn=256, te_d_inner=32, te_d_k=8, te_d_v=8, te_n_head=4, te_n_layers=4, te_dropout=0.1, dam_output_activation='relu', dam_output_dims=16, dam_n_phi_layers=3, dam_phi_width=128, dam_phi_dropout=0.2, dam_n_psi_layers=2, dam_psi_width=64, dam_psi_latent_width=128, dam_dot_prod_dim=64, dam_n_heads=4, dam_attn_dropout=0.1, dam_latent_width=64, dam_n_rho_layers=2, dam_rho_width=128, dam_rho_dropout=0.1, dam_max_timescale=1000, dam_n_positional_dims=16, dam_online=False, state=True, demo=True, num_states=1, noise=False, mod='none', int_dec='sahp', w_event=1.0, next_mark=1, w_class=False, w_pos=False, mark_detach=0, w_time=1.0, sample_label=True, w_pos_label=1.0, w_sample_label=100.0, hparams2write={'data': '/mlodata1/hokarami/tedam/p12/', 'data_label': 'multilabel', 'cuda': 1, 'wandb': True, 'wandb_project': 'TEEDAM_supervised', 'wandb_tag': 'RD75', 'log_freq': 1, 'prof': False, 'per': 100, 'balanced_batch': True, 'transfer_learning': '', 'tl_tag': 'None', 'freeze': '', 'ES_pat': 100, 'setting': 'raindrop', 'test_center': '', 'split': '4', 'log': 'log.txt', 'user_prefix': '[RD74-TEDA__nextmark-concat]', 'pos_alpha': 1.0, 'epoch': 50, 'batch_size': 128, 'lr': 0.001, 'smooth': 0.0, 'weight_decay': 0.1, 'diag_offset': 0, 'event_enc': 1, 'time_enc': 'concat', 'te_d_mark': 8, 'te_d_time': 4, 'te_d_rnn': 256, 'te_d_inner': 32, 'te_d_k': 8, 'te_d_v': 8, 'te_n_head': 4, 'te_n_layers': 4, 'te_dropout': 0.1, 'dam_output_activation': 'relu', 'dam_output_dims': 16, 'dam_n_phi_layers': 3, 'dam_phi_width': 128, 'dam_phi_dropout': 0.2, 'dam_n_psi_layers': 2, 'dam_psi_width': 64, 'dam_psi_latent_width': 128, 'dam_dot_prod_dim': 64, 'dam_n_heads': 4, 'dam_attn_dropout': 0.1, 'dam_latent_width': 64, 'dam_n_rho_layers': 2, 'dam_rho_width': 128, 'dam_rho_dropout': 0.1, 'dam_max_timescale': 1000, 'dam_n_positional_dims': 16, 'dam_online': False, 'state': True, 'demo': True, 'num_states': 1, 'noise': False, 'mod': 'none', 'int_dec': 'sahp', 'w_event': 1.0, 'next_mark': 1, 'w_class': False, 'w_pos': False, 'mark_detach': 0, 'w_time': 1.0, 'sample_label': 1, 'w_pos_label': 1.0, 'w_sample_label': 100.0}, date='16-06-23--15-13-05', run_id='2728648', dataset='P12', str_config='-raindrop/split4', run_name='[RD74-TEDA__nextmark-concat]2728648', run_path='/mlodata1/hokarami/tedam/p12-raindrop/split4/[RD74-TEDA__nextmark-concat]2728648/', device=device(type='cuda'), INPUT='TEDAM', OUTPUT='none-mark-label')\n",
      "[Info] Loading train data...\n",
      "[Info] Loading dev data...\n",
      "[Info] Loading test data...\n",
      "[info] 100% of data will be considered\n",
      "[Info] Loading train STATE...\n",
      "[Info] Loading dev STATE...\n",
      "[Info] Loading test STATE...\n",
      "[info] 100% of data will be considered\n",
      "[info] True/total = 0.1448\n",
      "[info] balanced mini batches\n"
     ]
    },
    {
     "name": "stderr",
     "output_type": "stream",
     "text": [
      "  2%|▎         | 2/80 [01:02<37:53, 29.15s/it]"
     ]
    },
    {
     "name": "stdout",
     "output_type": "stream",
     "text": [
      "############################## CUDA True\n",
      "[Info] INPUT TEDAM --> single-mark-label\n",
      "[Info] parameters: Namespace(data='/mlodata1/hokarami/tedam/p19-raindrop/split4/', data_label='multilabel', cuda=1, wandb=True, wandb_project='TEEDAM_supervised', wandb_tag='RD75', log_freq=1, prof=False, per=100, balanced_batch=True, transfer_learning='', tl_tag='None', freeze='', ES_pat=100, setting='raindrop', test_center='', split='4', log='log.txt', user_prefix='[RD74-TEDA__pp_single_mark-concat]', pos_alpha=1.0, epoch=50, batch_size=128, lr=0.001, smooth=0.0, weight_decay=0.1, diag_offset=0, event_enc=1, time_enc='concat', te_d_mark=8, te_d_time=4, te_d_rnn=256, te_d_inner=32, te_d_k=8, te_d_v=8, te_n_head=4, te_n_layers=4, te_dropout=0.1, dam_output_activation='relu', dam_output_dims=16, dam_n_phi_layers=3, dam_phi_width=128, dam_phi_dropout=0.2, dam_n_psi_layers=2, dam_psi_width=64, dam_psi_latent_width=128, dam_dot_prod_dim=64, dam_n_heads=4, dam_attn_dropout=0.1, dam_latent_width=64, dam_n_rho_layers=2, dam_rho_width=128, dam_rho_dropout=0.1, dam_max_timescale=1000, dam_n_positional_dims=16, dam_online=False, state=True, demo=True, num_states=1, noise=False, mod='single', int_dec='sahp', w_event=1.0, next_mark=1, w_class=False, w_pos=False, mark_detach=0, w_time=1.0, sample_label=True, w_pos_label=0.3, w_sample_label=100.0, hparams2write={'data': '/mlodata1/hokarami/tedam/p19/', 'data_label': 'multilabel', 'cuda': 1, 'wandb': True, 'wandb_project': 'TEEDAM_supervised', 'wandb_tag': 'RD75', 'log_freq': 1, 'prof': False, 'per': 100, 'balanced_batch': True, 'transfer_learning': '', 'tl_tag': 'None', 'freeze': '', 'ES_pat': 100, 'setting': 'raindrop', 'test_center': '', 'split': '4', 'log': 'log.txt', 'user_prefix': '[RD74-TEDA__pp_single_mark-concat]', 'pos_alpha': 1.0, 'epoch': 50, 'batch_size': 128, 'lr': 0.001, 'smooth': 0.0, 'weight_decay': 0.1, 'diag_offset': 0, 'event_enc': 1, 'time_enc': 'concat', 'te_d_mark': 8, 'te_d_time': 4, 'te_d_rnn': 256, 'te_d_inner': 32, 'te_d_k': 8, 'te_d_v': 8, 'te_n_head': 4, 'te_n_layers': 4, 'te_dropout': 0.1, 'dam_output_activation': 'relu', 'dam_output_dims': 16, 'dam_n_phi_layers': 3, 'dam_phi_width': 128, 'dam_phi_dropout': 0.2, 'dam_n_psi_layers': 2, 'dam_psi_width': 64, 'dam_psi_latent_width': 128, 'dam_dot_prod_dim': 64, 'dam_n_heads': 4, 'dam_attn_dropout': 0.1, 'dam_latent_width': 64, 'dam_n_rho_layers': 2, 'dam_rho_width': 128, 'dam_rho_dropout': 0.1, 'dam_max_timescale': 1000, 'dam_n_positional_dims': 16, 'dam_online': False, 'state': True, 'demo': True, 'num_states': 1, 'noise': False, 'mod': 'single', 'int_dec': 'sahp', 'w_event': 1.0, 'next_mark': 1, 'w_class': False, 'w_pos': False, 'mark_detach': 0, 'w_time': 1.0, 'sample_label': 1, 'w_pos_label': 0.3, 'w_sample_label': 100.0}, date='16-06-23--15-01-53', run_id='2723906', dataset='P19', str_config='-raindrop/split4', run_name='[RD74-TEDA__pp_single_mark-concat]2723906', run_path='/mlodata1/hokarami/tedam/p19-raindrop/split4/[RD74-TEDA__pp_single_mark-concat]2723906/', device=device(type='cuda'), INPUT='TEDAM', OUTPUT='single-mark-label')\n",
      "[Info] Loading train data...\n",
      "[Info] Loading dev data...\n",
      "[Info] Loading test data...\n",
      "[info] 100% of data will be considered\n",
      "[Info] Loading train STATE...\n",
      "[Info] Loading dev STATE...\n",
      "[Info] Loading test STATE...\n",
      "[info] 100% of data will be considered\n",
      "[info] True/total = 0.0401\n",
      "[info] balanced mini batches\n"
     ]
    },
    {
     "name": "stderr",
     "output_type": "stream",
     "text": [
      "  4%|▍         | 3/80 [01:47<46:35, 36.31s/it]"
     ]
    },
    {
     "name": "stdout",
     "output_type": "stream",
     "text": [
      "############################## CUDA True\n",
      "[Info] INPUT TEDAM --> ml-mark-label\n",
      "[Info] parameters: Namespace(data='/mlodata1/hokarami/tedam/p19-raindrop/split4/', data_label='multilabel', cuda=1, wandb=True, wandb_project='TEEDAM_supervised', wandb_tag='RD75', log_freq=1, prof=False, per=100, balanced_batch=True, transfer_learning='', tl_tag='None', freeze='', ES_pat=100, setting='raindrop', test_center='', split='4', log='log.txt', user_prefix='[RD74-TEDA__pp_ml-concat]', pos_alpha=1.0, epoch=50, batch_size=128, lr=0.001, smooth=0.0, weight_decay=0.1, diag_offset=0, event_enc=1, time_enc='concat', te_d_mark=8, te_d_time=4, te_d_rnn=256, te_d_inner=32, te_d_k=8, te_d_v=8, te_n_head=4, te_n_layers=4, te_dropout=0.1, dam_output_activation='relu', dam_output_dims=16, dam_n_phi_layers=3, dam_phi_width=128, dam_phi_dropout=0.2, dam_n_psi_layers=2, dam_psi_width=64, dam_psi_latent_width=128, dam_dot_prod_dim=64, dam_n_heads=4, dam_attn_dropout=0.1, dam_latent_width=64, dam_n_rho_layers=2, dam_rho_width=128, dam_rho_dropout=0.1, dam_max_timescale=1000, dam_n_positional_dims=16, dam_online=False, state=True, demo=True, num_states=1, noise=False, mod='ml', int_dec='sahp', w_event=1.0, next_mark=1, w_class=False, w_pos=False, mark_detach=1, w_time=1.0, sample_label=True, w_pos_label=0.3, w_sample_label=100.0, hparams2write={'data': '/mlodata1/hokarami/tedam/p19/', 'data_label': 'multilabel', 'cuda': 1, 'wandb': True, 'wandb_project': 'TEEDAM_supervised', 'wandb_tag': 'RD75', 'log_freq': 1, 'prof': False, 'per': 100, 'balanced_batch': True, 'transfer_learning': '', 'tl_tag': 'None', 'freeze': '', 'ES_pat': 100, 'setting': 'raindrop', 'test_center': '', 'split': '4', 'log': 'log.txt', 'user_prefix': '[RD74-TEDA__pp_ml-concat]', 'pos_alpha': 1.0, 'epoch': 50, 'batch_size': 128, 'lr': 0.001, 'smooth': 0.0, 'weight_decay': 0.1, 'diag_offset': 0, 'event_enc': 1, 'time_enc': 'concat', 'te_d_mark': 8, 'te_d_time': 4, 'te_d_rnn': 256, 'te_d_inner': 32, 'te_d_k': 8, 'te_d_v': 8, 'te_n_head': 4, 'te_n_layers': 4, 'te_dropout': 0.1, 'dam_output_activation': 'relu', 'dam_output_dims': 16, 'dam_n_phi_layers': 3, 'dam_phi_width': 128, 'dam_phi_dropout': 0.2, 'dam_n_psi_layers': 2, 'dam_psi_width': 64, 'dam_psi_latent_width': 128, 'dam_dot_prod_dim': 64, 'dam_n_heads': 4, 'dam_attn_dropout': 0.1, 'dam_latent_width': 64, 'dam_n_rho_layers': 2, 'dam_rho_width': 128, 'dam_rho_dropout': 0.1, 'dam_max_timescale': 1000, 'dam_n_positional_dims': 16, 'dam_online': False, 'state': True, 'demo': True, 'num_states': 1, 'noise': False, 'mod': 'ml', 'int_dec': 'sahp', 'w_event': 1.0, 'next_mark': 1, 'w_class': False, 'w_pos': False, 'mark_detach': 1, 'w_time': 1.0, 'sample_label': 1, 'w_pos_label': 0.3, 'w_sample_label': 100.0}, date='16-06-23--14-41-58', run_id='2723958', dataset='P19', str_config='-raindrop/split4', run_name='[RD74-TEDA__pp_ml-concat]2723958', run_path='/mlodata1/hokarami/tedam/p19-raindrop/split4/[RD74-TEDA__pp_ml-concat]2723958/', device=device(type='cuda'), INPUT='TEDAM', OUTPUT='ml-mark-label')\n",
      "[Info] Loading train data...\n",
      "[Info] Loading dev data...\n",
      "[Info] Loading test data...\n",
      "[info] 100% of data will be considered\n",
      "[Info] Loading train STATE...\n",
      "[Info] Loading dev STATE...\n",
      "[Info] Loading test STATE...\n",
      "[info] 100% of data will be considered\n",
      "[info] True/total = 0.0401\n",
      "[info] balanced mini batches\n"
     ]
    },
    {
     "name": "stderr",
     "output_type": "stream",
     "text": [
      "  5%|▌         | 4/80 [05:16<2:12:23, 104.52s/it]"
     ]
    },
    {
     "name": "stdout",
     "output_type": "stream",
     "text": [
      "############################## CUDA True\n",
      "[Info] INPUT TEDAM --> none-mark-label\n",
      "[Info] parameters: Namespace(data='/mlodata1/hokarami/tedam/p19-raindrop/split4/', data_label='multilabel', cuda=1, wandb=True, wandb_project='TEEDAM_supervised', wandb_tag='RD75', log_freq=1, prof=False, per=100, balanced_batch=True, transfer_learning='', tl_tag='None', freeze='', ES_pat=100, setting='raindrop', test_center='', split='4', log='log.txt', user_prefix='[RD74-TEDA__none-concat]', pos_alpha=1.0, epoch=50, batch_size=128, lr=0.001, smooth=0.0, weight_decay=0.1, diag_offset=0, event_enc=1, time_enc='concat', te_d_mark=8, te_d_time=4, te_d_rnn=256, te_d_inner=32, te_d_k=8, te_d_v=8, te_n_head=4, te_n_layers=4, te_dropout=0.1, dam_output_activation='relu', dam_output_dims=16, dam_n_phi_layers=3, dam_phi_width=128, dam_phi_dropout=0.2, dam_n_psi_layers=2, dam_psi_width=64, dam_psi_latent_width=128, dam_dot_prod_dim=64, dam_n_heads=4, dam_attn_dropout=0.1, dam_latent_width=64, dam_n_rho_layers=2, dam_rho_width=128, dam_rho_dropout=0.1, dam_max_timescale=1000, dam_n_positional_dims=16, dam_online=False, state=True, demo=True, num_states=1, noise=False, mod='none', int_dec='sahp', w_event=1.0, next_mark=1, w_class=False, w_pos=False, mark_detach=1, w_time=1.0, sample_label=True, w_pos_label=0.3, w_sample_label=100.0, hparams2write={'data': '/mlodata1/hokarami/tedam/p19/', 'data_label': 'multilabel', 'cuda': 1, 'wandb': True, 'wandb_project': 'TEEDAM_supervised', 'wandb_tag': 'RD75', 'log_freq': 1, 'prof': False, 'per': 100, 'balanced_batch': True, 'transfer_learning': '', 'tl_tag': 'None', 'freeze': '', 'ES_pat': 100, 'setting': 'raindrop', 'test_center': '', 'split': '4', 'log': 'log.txt', 'user_prefix': '[RD74-TEDA__none-concat]', 'pos_alpha': 1.0, 'epoch': 50, 'batch_size': 128, 'lr': 0.001, 'smooth': 0.0, 'weight_decay': 0.1, 'diag_offset': 0, 'event_enc': 1, 'time_enc': 'concat', 'te_d_mark': 8, 'te_d_time': 4, 'te_d_rnn': 256, 'te_d_inner': 32, 'te_d_k': 8, 'te_d_v': 8, 'te_n_head': 4, 'te_n_layers': 4, 'te_dropout': 0.1, 'dam_output_activation': 'relu', 'dam_output_dims': 16, 'dam_n_phi_layers': 3, 'dam_phi_width': 128, 'dam_phi_dropout': 0.2, 'dam_n_psi_layers': 2, 'dam_psi_width': 64, 'dam_psi_latent_width': 128, 'dam_dot_prod_dim': 64, 'dam_n_heads': 4, 'dam_attn_dropout': 0.1, 'dam_latent_width': 64, 'dam_n_rho_layers': 2, 'dam_rho_width': 128, 'dam_rho_dropout': 0.1, 'dam_max_timescale': 1000, 'dam_n_positional_dims': 16, 'dam_online': False, 'state': True, 'demo': True, 'num_states': 1, 'noise': False, 'mod': 'none', 'int_dec': 'sahp', 'w_event': 1.0, 'next_mark': 1, 'w_class': False, 'w_pos': False, 'mark_detach': 1, 'w_time': 1.0, 'sample_label': 1, 'w_pos_label': 0.3, 'w_sample_label': 100.0}, date='16-06-23--14-37-56', run_id='2721515', dataset='P19', str_config='-raindrop/split4', run_name='[RD74-TEDA__none-concat]2721515', run_path='/mlodata1/hokarami/tedam/p19-raindrop/split4/[RD74-TEDA__none-concat]2721515/', device=device(type='cuda'), INPUT='TEDAM', OUTPUT='none-mark-label')\n",
      "[Info] Loading train data...\n",
      "[Info] Loading dev data...\n",
      "[Info] Loading test data...\n",
      "[info] 100% of data will be considered\n",
      "[Info] Loading train STATE...\n",
      "[Info] Loading dev STATE...\n",
      "[Info] Loading test STATE...\n",
      "[info] 100% of data will be considered\n",
      "[info] True/total = 0.0401\n",
      "[info] balanced mini batches\n"
     ]
    },
    {
     "name": "stderr",
     "output_type": "stream",
     "text": [
      "  6%|▋         | 5/80 [06:04<1:45:00, 84.00s/it] "
     ]
    },
    {
     "name": "stdout",
     "output_type": "stream",
     "text": [
      "############################## CUDA True\n",
      "[Info] INPUT DAM --> none-mark-label\n",
      "[Info] parameters: Namespace(data='/mlodata1/hokarami/tedam/p19-raindrop/split4/', data_label='multilabel', cuda=1, wandb=True, wandb_project='TEEDAM_supervised', wandb_tag='RD75', log_freq=1, prof=False, per=100, balanced_batch=True, transfer_learning='', tl_tag='None', freeze='', ES_pat=100, setting='raindrop', test_center='', split='4', log='log.txt', user_prefix='[RD74-DA__base-concat]', pos_alpha=1.0, epoch=50, batch_size=128, lr=0.001, smooth=0.0, weight_decay=0.1, diag_offset=0, event_enc=0, time_enc='concat', te_d_mark=8, te_d_time=4, te_d_rnn=256, te_d_inner=32, te_d_k=8, te_d_v=8, te_n_head=4, te_n_layers=4, te_dropout=0.1, dam_output_activation='relu', dam_output_dims=16, dam_n_phi_layers=3, dam_phi_width=128, dam_phi_dropout=0.2, dam_n_psi_layers=2, dam_psi_width=64, dam_psi_latent_width=128, dam_dot_prod_dim=64, dam_n_heads=4, dam_attn_dropout=0.1, dam_latent_width=64, dam_n_rho_layers=2, dam_rho_width=128, dam_rho_dropout=0.1, dam_max_timescale=1000, dam_n_positional_dims=16, dam_online=False, state=True, demo=True, num_states=1, noise=False, mod='none', int_dec='sahp', w_event=1.0, next_mark=1, w_class=False, w_pos=False, mark_detach=1, w_time=1.0, sample_label=True, w_pos_label=0.3, w_sample_label=100.0, hparams2write={'data': '/mlodata1/hokarami/tedam/p19/', 'data_label': 'multilabel', 'cuda': 1, 'wandb': True, 'wandb_project': 'TEEDAM_supervised', 'wandb_tag': 'RD75', 'log_freq': 1, 'prof': False, 'per': 100, 'balanced_batch': True, 'transfer_learning': '', 'tl_tag': 'None', 'freeze': '', 'ES_pat': 100, 'setting': 'raindrop', 'test_center': '', 'split': '4', 'log': 'log.txt', 'user_prefix': '[RD74-DA__base-concat]', 'pos_alpha': 1.0, 'epoch': 50, 'batch_size': 128, 'lr': 0.001, 'smooth': 0.0, 'weight_decay': 0.1, 'diag_offset': 0, 'event_enc': 0, 'time_enc': 'concat', 'te_d_mark': 8, 'te_d_time': 4, 'te_d_rnn': 256, 'te_d_inner': 32, 'te_d_k': 8, 'te_d_v': 8, 'te_n_head': 4, 'te_n_layers': 4, 'te_dropout': 0.1, 'dam_output_activation': 'relu', 'dam_output_dims': 16, 'dam_n_phi_layers': 3, 'dam_phi_width': 128, 'dam_phi_dropout': 0.2, 'dam_n_psi_layers': 2, 'dam_psi_width': 64, 'dam_psi_latent_width': 128, 'dam_dot_prod_dim': 64, 'dam_n_heads': 4, 'dam_attn_dropout': 0.1, 'dam_latent_width': 64, 'dam_n_rho_layers': 2, 'dam_rho_width': 128, 'dam_rho_dropout': 0.1, 'dam_max_timescale': 1000, 'dam_n_positional_dims': 16, 'dam_online': False, 'state': True, 'demo': True, 'num_states': 1, 'noise': False, 'mod': 'none', 'int_dec': 'sahp', 'w_event': 1.0, 'next_mark': 1, 'w_class': False, 'w_pos': False, 'mark_detach': 1, 'w_time': 1.0, 'sample_label': 1, 'w_pos_label': 0.3, 'w_sample_label': 100.0}, date='16-06-23--14-11-56', run_id='2721411', dataset='P19', str_config='-raindrop/split4', run_name='[RD74-DA__base-concat]2721411', run_path='/mlodata1/hokarami/tedam/p19-raindrop/split4/[RD74-DA__base-concat]2721411/', device=device(type='cuda'), INPUT='DAM', OUTPUT='none-mark-label')\n",
      "[Info] Loading train data...\n",
      "[Info] Loading dev data...\n",
      "[Info] Loading test data...\n",
      "[info] 100% of data will be considered\n",
      "[Info] Loading train STATE...\n",
      "[Info] Loading dev STATE...\n"
     ]
    }
   ],
   "source": [
    "\n",
    "# run_paths = [\"hokarami/TEEDAM_supervised/3drow7po\"]\n",
    "n_knn = 10\n",
    "temp = list()\n",
    "bad_runs = list()\n",
    "bad_cal_sim = 0\n",
    "for run_path in tqdm(run_paths[:1], leave=False):\n",
    "    api = wandb.Api()\n",
    "    run = api.run(run_path)\n",
    "    try:\n",
    "        model1, opt1, run1 = read_from_wandb(\n",
    "            run_path, consider_sample_labels=True)\n",
    "\n",
    "        dict_metrics1, out1 = Main.valid_epoch_tsne(\n",
    "            model1, opt1.validloader, opt1.pred_loss_func, opt1)\n",
    "        # X_tsne1, X_tsne_split1 = compute_tsne(out1['r_enc_list'], model1)\n",
    "        res_labels = opt1.dict_map_events.keys()\n",
    "        df1 = build_df(out1, opt1, X_tsne=None)\n",
    "\n",
    "        df1, bad_pids = remove_ids_with_no_pattern(df1, out1)\n",
    "\n",
    "        pid_all = list(df1.id)\n",
    "\n",
    "        pid_positive = list(df1[df1.color_true == 'Positive Samples'].id)\n",
    "\n",
    "        list_sim_score1 = []\n",
    "        list_t_max_rmse1 = []\n",
    "\n",
    "        # X1 = np.concatenate(out1['r_enc_list'],axis=0)[:,:]\n",
    "\n",
    "        # only DAM embeddings\n",
    "        X1 = np.concatenate(out1['r_enc_list'], axis=0)[\n",
    "            :, model1.d_out_te:model1.d_out_te+model1.d_out_dam]\n",
    "\n",
    "        # only TEE embeddings\n",
    "        X1 = np.concatenate(out1['r_enc_list'], axis=0)[:, :model1.d_out_te]\n",
    "\n",
    "        # TEE+DAM embeddings\n",
    "        X1 = np.concatenate(out1['r_enc_list'], axis=0)[\n",
    "            :, :model1.d_out_te+model1.d_out_dam]\n",
    "        X1 = np.delete(X1, bad_pids, axis=0)\n",
    "\n",
    "        for pid in tqdm(pid_positive):\n",
    "            id_origin = pid\n",
    "\n",
    "            knn_pids = find_knn_pids(X1, id_origin, n_knn=n_knn)\n",
    "            try:\n",
    "                sim_score1, list_summary, t_max_mae1 = cal_similarity(\n",
    "                    df1, out1, pid, knn_pids)\n",
    "\n",
    "                if (not np.isnan(sim_score1)):\n",
    "                    list_sim_score1.append(sim_score1)\n",
    "                    list_t_max_rmse1.append(t_max_mae1)\n",
    "            except:\n",
    "                bad_cal_sim += 1\n",
    "\n",
    "        # np.mean(list_sim_score1), np.std(list_sim_score1)\n",
    "\n",
    "        run.summary['knn-ps-version'] = 1\n",
    "        run.summary['bad_pids'] = len(bad_pids)\n",
    "        run.summary['knn-ps-mean'] = np.mean(list_sim_score1)\n",
    "        run.summary['knn-ps-std'] = np.std(list_sim_score1)\n",
    "        run.summary['t_max_mae-mean'] = np.mean(list_t_max_rmse1)\n",
    "        run.summary['t_max_mae-std'] = np.std(list_t_max_rmse1)\n",
    "        run.summary.update()\n",
    "\n",
    "        temptemp = dict()\n",
    "        temptemp['path'] = run_path\n",
    "        temptemp['knn-ps-mean'] = np.mean(list_sim_score1)\n",
    "        temptemp['knn-ps-std'] = np.std(list_sim_score1)\n",
    "        temp.append(temptemp)\n",
    "    except:\n",
    "        bad_runs.append(run_path)\n",
    "        run.summary['knn-ps-mean'] = -0.01\n",
    "        continue\n"
   ]
  },
  {
   "cell_type": "code",
   "execution_count": null,
   "metadata": {},
   "outputs": [],
   "source": []
  }
 ],
 "metadata": {
  "kernelspec": {
   "display_name": "paper2022",
   "language": "python",
   "name": "python3"
  },
  "language_info": {
   "codemirror_mode": {
    "name": "ipython",
    "version": 3
   },
   "file_extension": ".py",
   "mimetype": "text/x-python",
   "name": "python",
   "nbconvert_exporter": "python",
   "pygments_lexer": "ipython3",
   "version": "3.9.7"
  }
 },
 "nbformat": 4,
 "nbformat_minor": 2
}
